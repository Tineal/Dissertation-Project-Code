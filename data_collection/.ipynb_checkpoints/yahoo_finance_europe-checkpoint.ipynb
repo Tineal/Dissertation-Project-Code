{
 "cells": [
  {
   "cell_type": "markdown",
   "metadata": {},
   "source": [
    "## Yahoo Finance"
   ]
  },
  {
   "cell_type": "code",
   "execution_count": 4,
   "metadata": {},
   "outputs": [],
   "source": [
    "import yfinance as yf\n",
    "import pandas as pd\n",
    "from bs4 import BeautifulSoup\n",
    "import re\n",
    "from selenium import webdriver\n",
    "import chromedriver_binary\n",
    "import string\n",
    "import datetime\n",
    "from forex_python.converter import CurrencyRates\n",
    "pd.options.display.float_format = '{:.3f}'.format"
   ]
  },
  {
   "cell_type": "markdown",
   "metadata": {},
   "source": [
    "### Functions for screener results and getting data"
   ]
  },
  {
   "cell_type": "code",
   "execution_count": 18,
   "metadata": {},
   "outputs": [],
   "source": [
    "def get_rate(from_currency, to_currency):\n",
    "    curr_rates = CurrencyRates()\n",
    "    return curr_rates.get_rate(from_currency.upper(), to_currency.upper())\n",
    "\n",
    "def convert(value, rate):\n",
    "    if value:\n",
    "        return value * rate\n",
    "    else:\n",
    "        return ''"
   ]
  },
  {
   "cell_type": "code",
   "execution_count": 19,
   "metadata": {},
   "outputs": [],
   "source": [
    "def set_dictionary(companies_info, ticker_info, symbol, curr_rate):\n",
    "    companies_info[symbol] = {\n",
    "        'symbol'           : ticker_info['symbol'] if 'symbol' in ticker_info else '',\n",
    "        'shortName'        : ticker_info['shortName'] if 'shortName' in ticker_info else '',\n",
    "        'country'          : ticker_info['country'] if 'country' in ticker_info else '',\n",
    "        'averageVolume'    : ticker_info['averageVolume'] if 'averageVolume' in ticker_info else '',\n",
    "        'currentPrice'     : ticker_info['currentPrice'] if 'currentPrice' in ticker_info else '',\n",
    "        'currency'         : ticker_info['currency'] if 'currency' in ticker_info else '',\n",
    "        'sector'           : ticker_info['sector'] if 'sector' in ticker_info else '',\n",
    "        'industry'         : ticker_info['industry'] if 'industry' in ticker_info else '',\n",
    "        'profitMargins'    : ticker_info['profitMargins'] if 'profitMargins' in ticker_info else '',\n",
    "        'operatingMargins' : ticker_info['operatingMargins'] if 'operatingMargins' in ticker_info else '',\n",
    "        'operatingCashflow': convert(ticker_info['operatingCashflow'],curr_rate) if 'operatingCashflow' in ticker_info else '',\n",
    "        'returnOnAssets'   : ticker_info['returnOnAssets'] if 'returnOnAssets' in ticker_info else '',\n",
    "        'returnOnEquity'   : ticker_info['returnOnEquity'] if 'returnOnEquity' in ticker_info else '',\n",
    "        'trailingEps'      : convert(ticker_info['trailingEps'],curr_rate) if 'trailingEps' in ticker_info else '',\n",
    "        'totalRevenue'     : convert(ticker_info['totalRevenue'],curr_rate) if 'totalRevenue' in ticker_info else '',\n",
    "        'revenuePerShare'  : convert(ticker_info['revenuePerShare'],curr_rate) if 'revenuePerShare' in ticker_info else '',\n",
    "        'revenueGrowth'    : ticker_info['revenueGrowth'] if 'revenueGrowth' in ticker_info else '',\n",
    "        'grossProfits'     : convert(ticker_info['grossProfits'],curr_rate) if 'grossProfits' in ticker_info else '',\n",
    "        'netIncomeToCommon': convert(ticker_info['netIncomeToCommon'],curr_rate) if 'netIncomeToCommon' in ticker_info else '',\n",
    "        'operatingMargins' : ticker_info['operatingMargins'] if 'operatingMargins' in ticker_info else '',\n",
    "        'totalCash'        : convert(ticker_info['totalCash'],curr_rate) if 'totalCash' in ticker_info else '',\n",
    "        'totalCashPerShare': convert(ticker_info['totalCashPerShare'],curr_rate) if 'totalCashPerShare' in ticker_info else '',\n",
    "        'totalDebt'        : convert(ticker_info['totalDebt'],curr_rate) if 'totalDebt' in ticker_info else '',\n",
    "        'bookValue'        : ticker_info['bookValue'] if 'bookValue' in ticker_info else '',\n",
    "        'marketCap'        : convert(ticker_info['marketCap'],curr_rate) if 'marketCap' in ticker_info else '',\n",
    "        'enterpriseValue'  : convert(ticker_info['enterpriseValue'],curr_rate) if 'enterpriseValue' in ticker_info else '',\n",
    "        'trailingPE'       : ticker_info['trailingPE'] if 'trailingPE' in ticker_info else '',\n",
    "        'earningsQuarterlyGrowth': ticker_info['earningsQuarterlyGrowth'] if 'earningsQuarterlyGrowth' in ticker_info else '',\n",
    "        'forwardPE'              : ticker_info['forwardPE'] if 'forwardPE' in ticker_info else '',\n",
    "        'pegRatio'               : ticker_info['pegRatio'] if 'pegRatio' in ticker_info else '',\n",
    "        'priceToSalesTrailing12Months': ticker_info['priceToSalesTrailing12Months'] if 'priceToSalesTrailing12Months' in ticker_info else '',\n",
    "        'priceToBook'         : ticker_info['priceToBook'] if 'priceToBook' in ticker_info else '',\n",
    "        'enterpriseToRevenue' : ticker_info['enterpriseToRevenue'] if 'enterpriseToRevenue' in ticker_info else '',\n",
    "        'beta'                : ticker_info['beta'] if 'beta' in ticker_info else '',\n",
    "        'fiftyTwoWeekHigh'    : convert(ticker_info['fiftyTwoWeekHigh'],curr_rate) if 'fiftyTwoWeekHigh' in ticker_info else '',\n",
    "        'fiftyTwoWeekLow'     : convert(ticker_info['fiftyTwoWeekLow'],curr_rate) if 'fiftyTwoWeekLow' in ticker_info else '',\n",
    "        'fiftyDayAverage'     : convert(ticker_info['fiftyDayAverage'],curr_rate) if 'fiftyDayAverage' in ticker_info else '',\n",
    "        'twoHundredDayAverage': convert(ticker_info['twoHundredDayAverage'],curr_rate) if 'twoHundredDayAverage' in ticker_info else '',\n",
    "        'trailingAnnualDividendYield' : ticker_info['trailingAnnualDividendYield'] if 'trailingAnnualDividendYield' in ticker_info else '',\n",
    "        'fiveYearAvgDividendYield'    : ticker_info['fiveYearAvgDividendYield'] if 'fiveYearAvgDividendYield' in ticker_info else ''\n",
    "    }\n",
    "    \n",
    "    return companies_info"
   ]
  },
  {
   "cell_type": "code",
   "execution_count": 20,
   "metadata": {},
   "outputs": [],
   "source": [
    "\"\"\"\n",
    "function for scraping screener results which takes two parameters url and currency,\n",
    "so that we can reuse it for different countries screener \n",
    "\"\"\"\n",
    "def get_companies(url):\n",
    "    driver = webdriver.Chrome()\n",
    "    driver.get(url)\n",
    "    html = driver.execute_script('return document.body.innerHTML;')\n",
    "    soup = BeautifulSoup(html,'html.parser')\n",
    "    results = soup.find('table').find_all('tr')[1:]\n",
    "    companies_results = []\n",
    "    for tr in results:\n",
    "        td = tr.find('td')\n",
    "        companies_results.append(td.find('a').text)\n",
    "    return companies_results\n",
    "\n",
    "\n",
    "\"\"\"\n",
    "Function for getting company financial informations from scraping results.\n",
    "It takes parameter currency which is involved in a conditional. This conditional excludes stocks\n",
    "with different currency from that of country/continent we're scraping.\n",
    "\"\"\"\n",
    "def get_companies_info(companies_results, currency, curr_rate):\n",
    "    companies_info = dict() \n",
    "    for i in range(0, len(companies_results)):\n",
    "        ct =  yf.Ticker(companies_results[i])\n",
    "        print(ct.info['symbol'], end=' ')\n",
    "        companies_info = set_dictionary(companies_info, ct.info, ct.info['symbol'],  curr_rate)\n",
    "    return companies_info\n",
    "            \n",
    "def set_dataframe(companies_info):\n",
    "    return pd.DataFrame(companies_info)\n",
    "\n",
    "def save_to_csv(dataframe, filename):\n",
    "    dataframe.to_csv(filename, sep=',', encoding='utf-8-sig', index=False)"
   ]
  },
  {
   "cell_type": "code",
   "execution_count": 21,
   "metadata": {},
   "outputs": [],
   "source": [
    "# filter\n",
    "def filter_info(given_currency, given_country, country_info):\n",
    "    info = []\n",
    "    info = [item for item in country_info if item['country'] == given_country]\n",
    "    info1 = [item for item in info if item['currency'] == given_currency]\n",
    "    return info1"
   ]
  },
  {
   "cell_type": "markdown",
   "metadata": {},
   "source": [
    "## UK"
   ]
  },
  {
   "cell_type": "code",
   "execution_count": null,
   "metadata": {},
   "outputs": [],
   "source": [
    "uk_url = 'https://finance.yahoo.com/screener/unsaved/45e50a73-b308-4c5d-9cba-e0d3ee8ab508?dependentField=sector&dependentValues=Financial%20Services&offset=0&count=100'\n",
    "uk_results = get_companies(uk_url)"
   ]
  },
  {
   "cell_type": "code",
   "execution_count": 67,
   "metadata": {},
   "outputs": [],
   "source": [
    "uk_results = ['HSBA.L','BNC.L','LLOY.L','BARC.L','NWG.L','STAN.L','AIBG.L','0Q1F.IL','0N4T.IL','0Q16.IL','0O84.IL',\n",
    "              'VMUK.L','0HBY.IL', '0R2F.IL', '0R7R.IL', '0H6T.IL','0R01.IL', '0FMO.IL', '0NVC.IL', 'TBCG.L','BGEO.L',\n",
    "              '0HLE.IL','0NUK.IL', '0A2K.IL', '0R3T.IL','0RGC.IL','0HBC.IL', '0RIC.IL', 'BOCH.L','0A6V.IL','BVA.L',\n",
    "              '0HAI.IL','0EYG.IL','0Q57.IL','0RLS.IL', 'STB.L', '0QP5.IL', '0RPR.IL', '0ILK.IL', 'MTRO.L', '0IVM.IL',\n",
    "              'ARBB.L','0MJK.IL','0RDM.IL', '0RD6.IL', '0MGE.IL','0JH4.IL', '0QVF.IL', '0J1N.IL','0HBF.IL','0NXR.IL',\n",
    "              '0RDO.IL', 'BIRG.L','0RVE.IL', '0DQZ.IL','0H7O.IL','0RLA.IL','CIHL.L','0H00.IL','0MU6.IL','0RCR.IL',\n",
    "              '0RR7.IL','0RJN.IL','0K93.IL','NBS.L','0NWJ.IL','0EFW.L','0MG0.IL','0RK6.IL','0O4B.IL','0A3J.IL','MFX.L',\n",
    "              '0NBX.IL','0RTI.IL','IL0A.L','ATMA.L','NLB.IL','AXB.IL','SBER.IL','CBKD.IL','0H7D.IL','0HB5.IL','VTBR.IL',\n",
    "              'SBID.IL','0J6Y.IL','BWSA.L','GTCO.IL','HSBK.IL','TCS.IL']"
   ]
  },
  {
   "cell_type": "code",
   "execution_count": 68,
   "metadata": {},
   "outputs": [],
   "source": [
    "c = CurrencyRates()\n",
    "rate = c.get_rate('GBP', 'USD')"
   ]
  },
  {
   "cell_type": "code",
   "execution_count": 69,
   "metadata": {},
   "outputs": [
    {
     "name": "stdout",
     "output_type": "stream",
     "text": [
      "HSBA.L BNC.L LLOY.L BARC.L NWG.L STAN.L AIBG.L 0Q1F.IL 0N4T.IL 0Q16.IL 0O84.IL VMUK.L 0HBY.IL 0R2F.IL 0R7R.IL 0H6T.IL 0R01.IL 0FMO.IL 0NVC.IL TBCG.L BGEO.L 0HLE.IL 0NUK.IL 0A2K.IL 0R3T.IL 0RGC.IL 0HBC.IL 0RIC.IL BOCH.L 0A6V.IL BVA.L 0HAI.IL 0EYG.IL 0Q57.IL 0RLS.IL STB.L 0QP5.IL 0RPR.IL 0ILK.IL MTRO.L 0IVM.IL ARBB.L 0MJK.IL 0RDM.IL 0RD6.IL 0MGE.IL 0JH4.IL 0QVF.IL 0J1N.IL 0HBF.IL 0NXR.IL 0RDO.IL BIRG.L 0RVE.IL 0DQZ.IL 0H7O.IL 0RLA.IL CIHL.L 0H00.IL 0MU6.IL 0RCR.IL 0RR7.IL 0RJN.IL 0K93.IL NBS.L 0NWJ.IL 0EFW.L 0MG0.IL 0RK6.IL 0O4B.IL 0A3J.IL MFX.L 0NBX.IL 0RTI.IL IL0A.L ATMA.L NLB.IL AXB.IL SBER.IL CBKD.IL 0H7D.IL 0HB5.IL VTBR.IL SBID.IL 0J6Y.IL BWSA.L GTCO.IL HSBK.IL TCS.IL "
     ]
    }
   ],
   "source": [
    "uk_companies_info = get_companies_info(uk_results, 'GBp', rate)"
   ]
  },
  {
   "cell_type": "code",
   "execution_count": 70,
   "metadata": {},
   "outputs": [
    {
     "data": {
      "text/plain": [
       "(89, 10)"
      ]
     },
     "execution_count": 70,
     "metadata": {},
     "output_type": "execute_result"
    }
   ],
   "source": [
    "uk_companies_info2 = filter_info('GBp', 'United Kingdom', uk_companies_info.values())\n",
    "len(uk_companies_info), len(uk_companies_info2)"
   ]
  },
  {
   "cell_type": "code",
   "execution_count": 74,
   "metadata": {},
   "outputs": [],
   "source": [
    "uk_companies_df = set_dataframe(uk_companies_info2)"
   ]
  },
  {
   "cell_type": "code",
   "execution_count": 72,
   "metadata": {},
   "outputs": [],
   "source": [
    "save_to_csv(uk_companies_df, 'uk.csv')"
   ]
  },
  {
   "cell_type": "markdown",
   "metadata": {},
   "source": [
    "## Switzerland"
   ]
  },
  {
   "cell_type": "code",
   "execution_count": null,
   "metadata": {},
   "outputs": [],
   "source": [
    "switzerland_url = 'https://finance.yahoo.com/screener/unsaved/a635dcb3-6f82-41d8-ba4b-19393c6d25b7?dependentField=sector&dependentValues=Financial%20Services'\n",
    "switzerland_results = get_companies(switzerland_url)"
   ]
  },
  {
   "cell_type": "code",
   "execution_count": 76,
   "metadata": {},
   "outputs": [],
   "source": [
    "switzerland_results = ['UBSG.SW', 'UBSGEE.SW', 'CSGN.SW', 'BCVN.SW', 'EFGN.SW', 'CMBN.SW']"
   ]
  },
  {
   "cell_type": "code",
   "execution_count": 77,
   "metadata": {},
   "outputs": [],
   "source": [
    "c = CurrencyRates()\n",
    "switzerland_rate = c.get_rate('CHF', 'USD')"
   ]
  },
  {
   "cell_type": "code",
   "execution_count": 78,
   "metadata": {},
   "outputs": [
    {
     "name": "stdout",
     "output_type": "stream",
     "text": [
      "UBSG.SW UBSGEE.SW CSGN.SW BCVN.SW EFGN.SW CMBN.SW "
     ]
    }
   ],
   "source": [
    "switzerland_companies_info = get_companies_info(switzerland_results, 'CHF', switzerland_rate)"
   ]
  },
  {
   "cell_type": "code",
   "execution_count": 79,
   "metadata": {},
   "outputs": [
    {
     "data": {
      "text/plain": [
       "(6, 6)"
      ]
     },
     "execution_count": 79,
     "metadata": {},
     "output_type": "execute_result"
    }
   ],
   "source": [
    "switzerland_companies_info2 = filter_info('CHF', 'Switzerland', switzerland_companies_info.values())\n",
    "len(switzerland_companies_info), len(switzerland_companies_info2)"
   ]
  },
  {
   "cell_type": "code",
   "execution_count": 80,
   "metadata": {},
   "outputs": [],
   "source": [
    "switzerland_companies_df = set_dataframe(switzerland_companies_info2)"
   ]
  },
  {
   "cell_type": "code",
   "execution_count": 81,
   "metadata": {},
   "outputs": [],
   "source": [
    "save_to_csv(switzerland_companies_df, 'switzerland.csv')"
   ]
  },
  {
   "cell_type": "markdown",
   "metadata": {},
   "source": [
    "## Denmark"
   ]
  },
  {
   "cell_type": "code",
   "execution_count": 178,
   "metadata": {},
   "outputs": [],
   "source": [
    "denmark_url = 'https://finance.yahoo.com/screener/unsaved/42cdd22f-bbf6-4609-8e81-f1a755957b11?dependentField=sector&dependentValues=Financial%20Services'\n",
    "denmark_results = get_companies(denmark_url)"
   ]
  },
  {
   "cell_type": "code",
   "execution_count": 82,
   "metadata": {},
   "outputs": [],
   "source": [
    "denmark_results = ['NDA-DK.CO','DANSKE.CO','JYSK.CO','SYDB.CO','SPNO.CO','VJBA.CO','DAB.CO']"
   ]
  },
  {
   "cell_type": "code",
   "execution_count": 83,
   "metadata": {},
   "outputs": [],
   "source": [
    "c = CurrencyRates()\n",
    "denmark_rate = c.get_rate('DKK', 'USD')"
   ]
  },
  {
   "cell_type": "code",
   "execution_count": 84,
   "metadata": {},
   "outputs": [
    {
     "name": "stdout",
     "output_type": "stream",
     "text": [
      "NDA-DK.CO DANSKE.CO JYSK.CO SYDB.CO SPNO.CO VJBA.CO DAB.CO "
     ]
    }
   ],
   "source": [
    "denmark_companies_info = get_companies_info(denmark_results, 'DKK', denmark_rate)"
   ]
  },
  {
   "cell_type": "code",
   "execution_count": 85,
   "metadata": {},
   "outputs": [
    {
     "data": {
      "text/plain": [
       "(7, 6)"
      ]
     },
     "execution_count": 85,
     "metadata": {},
     "output_type": "execute_result"
    }
   ],
   "source": [
    "denmark_companies_info2 = filter_info('DKK', 'Denmark', denmark_companies_info.values())\n",
    "len(denmark_companies_info), len(denmark_companies_info2)"
   ]
  },
  {
   "cell_type": "code",
   "execution_count": 86,
   "metadata": {},
   "outputs": [],
   "source": [
    "denmark_companies_df = set_dataframe(denmark_companies_info2)"
   ]
  },
  {
   "cell_type": "code",
   "execution_count": 87,
   "metadata": {},
   "outputs": [],
   "source": [
    "save_to_csv(denmark_companies_df, 'denmark.csv')"
   ]
  },
  {
   "cell_type": "markdown",
   "metadata": {},
   "source": [
    "## Norway"
   ]
  },
  {
   "cell_type": "code",
   "execution_count": 182,
   "metadata": {},
   "outputs": [],
   "source": [
    "norway_url = 'https://finance.yahoo.com/screener/unsaved/54a99c0e-ea19-4d64-81dd-d85739c7c3fa?dependentField=sector&dependentValues=Financial%20Services'\n",
    "norway_results = get_companies(norway_url)"
   ]
  },
  {
   "cell_type": "code",
   "execution_count": 88,
   "metadata": {},
   "outputs": [],
   "source": [
    "norway_results = ['DNB.OL','SRBNK.OL','BANO.OL','MING.OL','NONG.OL','KOMP.OL','BRA.OL','INSTA.OL']"
   ]
  },
  {
   "cell_type": "code",
   "execution_count": 89,
   "metadata": {},
   "outputs": [],
   "source": [
    "c = CurrencyRates()\n",
    "norway_rate = c.get_rate('NOK', 'USD')"
   ]
  },
  {
   "cell_type": "code",
   "execution_count": 90,
   "metadata": {},
   "outputs": [
    {
     "name": "stdout",
     "output_type": "stream",
     "text": [
      "DNB.OL SRBNK.OL BANO.OL MING.OL NONG.OL KOMP.OL BRA.OL INSTA.OL "
     ]
    }
   ],
   "source": [
    "norway_companies_info = get_companies_info(norway_results, 'NOK', norway_rate)"
   ]
  },
  {
   "cell_type": "code",
   "execution_count": 91,
   "metadata": {},
   "outputs": [
    {
     "data": {
      "text/plain": [
       "(8, 8)"
      ]
     },
     "execution_count": 91,
     "metadata": {},
     "output_type": "execute_result"
    }
   ],
   "source": [
    "norway_companies_info2 = filter_info('NOK', 'Norway', norway_companies_info.values())\n",
    "len(norway_companies_info), len(norway_companies_info2)"
   ]
  },
  {
   "cell_type": "code",
   "execution_count": 92,
   "metadata": {},
   "outputs": [],
   "source": [
    "norway_companies_df = set_dataframe(norway_companies_info2)"
   ]
  },
  {
   "cell_type": "code",
   "execution_count": 93,
   "metadata": {},
   "outputs": [],
   "source": [
    "save_to_csv(norway_companies_df, 'norway.csv')"
   ]
  },
  {
   "cell_type": "markdown",
   "metadata": {},
   "source": [
    "## Sweden"
   ]
  },
  {
   "cell_type": "code",
   "execution_count": 185,
   "metadata": {},
   "outputs": [],
   "source": [
    "sweden_url = 'https://finance.yahoo.com/screener/unsaved/83533b84-2b91-45e9-8a8b-140b2502b6ed?dependentField=sector&dependentValues=Financial%20Services'\n",
    "sweden_results = get_companies(sweden_url)"
   ]
  },
  {
   "cell_type": "code",
   "execution_count": 94,
   "metadata": {},
   "outputs": [],
   "source": [
    "sweden_results = ['NDA-SE.ST','SEB-A.ST','SHB-B.ST','SWED-A.ST','SHB-A.ST','AZA.ST','SAVE.ST','ARION-SDB.ST']"
   ]
  },
  {
   "cell_type": "code",
   "execution_count": 95,
   "metadata": {},
   "outputs": [],
   "source": [
    "c = CurrencyRates()\n",
    "sweden_rate = c.get_rate('SEK', 'USD')"
   ]
  },
  {
   "cell_type": "code",
   "execution_count": 96,
   "metadata": {},
   "outputs": [
    {
     "name": "stdout",
     "output_type": "stream",
     "text": [
      "NDA-SE.ST SEB-A.ST SHB-B.ST SWED-A.ST SHB-A.ST AZA.ST SAVE.ST ARION-SDB.ST "
     ]
    }
   ],
   "source": [
    "sweden_companies_info = get_companies_info(sweden_results, 'SEK', sweden_rate)"
   ]
  },
  {
   "cell_type": "code",
   "execution_count": 97,
   "metadata": {},
   "outputs": [
    {
     "data": {
      "text/plain": [
       "(8, 6)"
      ]
     },
     "execution_count": 97,
     "metadata": {},
     "output_type": "execute_result"
    }
   ],
   "source": [
    "sweden_companies_info2 = filter_info('SEK', 'Sweden', sweden_companies_info.values())\n",
    "len(sweden_companies_info), len(sweden_companies_info2)"
   ]
  },
  {
   "cell_type": "code",
   "execution_count": 98,
   "metadata": {},
   "outputs": [],
   "source": [
    "sweden_companies_df = set_dataframe(sweden_companies_info2)"
   ]
  },
  {
   "cell_type": "code",
   "execution_count": 99,
   "metadata": {},
   "outputs": [],
   "source": [
    "save_to_csv(sweden_companies_df, 'sweden.csv')"
   ]
  },
  {
   "cell_type": "markdown",
   "metadata": {},
   "source": [
    "## Czech Republic"
   ]
  },
  {
   "cell_type": "code",
   "execution_count": 16,
   "metadata": {},
   "outputs": [],
   "source": [
    "czech_url = 'https://finance.yahoo.com/screener/unsaved/4a6f23c8-6532-41b9-8112-73dc9128b6b6?dependentField=sector&dependentValues=Financial%20Services'\n",
    "czech_results = get_companies(czech_url)"
   ]
  },
  {
   "cell_type": "code",
   "execution_count": 100,
   "metadata": {},
   "outputs": [],
   "source": [
    "czech_results = ['OTP.PR', 'ERBAG.PR', 'PKO.PR', 'RBI.PR', 'KOMB.PR', 'MONET.PR', 'DBK.PR']"
   ]
  },
  {
   "cell_type": "code",
   "execution_count": 101,
   "metadata": {},
   "outputs": [],
   "source": [
    "c = CurrencyRates()\n",
    "czech_rate = c.get_rate('CZK', 'USD')"
   ]
  },
  {
   "cell_type": "code",
   "execution_count": 102,
   "metadata": {},
   "outputs": [
    {
     "name": "stdout",
     "output_type": "stream",
     "text": [
      "OTP.PR ERBAG.PR PKO.PR RBI.PR KOMB.PR MONET.PR DBK.PR "
     ]
    }
   ],
   "source": [
    "czech_companies_info = get_companies_info(czech_results, 'CZK', czech_rate)"
   ]
  },
  {
   "cell_type": "code",
   "execution_count": 109,
   "metadata": {},
   "outputs": [
    {
     "data": {
      "text/plain": [
       "(7, 2)"
      ]
     },
     "execution_count": 109,
     "metadata": {},
     "output_type": "execute_result"
    }
   ],
   "source": [
    "czech_companies_info2 = filter_info('CZK', 'Czech Republic', czech_companies_info.values())\n",
    "len(czech_companies_info), len(czech_companies_info2)"
   ]
  },
  {
   "cell_type": "code",
   "execution_count": 110,
   "metadata": {},
   "outputs": [],
   "source": [
    "czech_companies_df = set_dataframe(czech_companies_info2)"
   ]
  },
  {
   "cell_type": "code",
   "execution_count": 111,
   "metadata": {},
   "outputs": [],
   "source": [
    "save_to_csv(czech_companies_df, 'czech.csv')"
   ]
  },
  {
   "cell_type": "markdown",
   "metadata": {},
   "source": [
    "## Poland"
   ]
  },
  {
   "cell_type": "code",
   "execution_count": 5,
   "metadata": {},
   "outputs": [],
   "source": [
    "poland_url = 'https://finance.yahoo.com/screener/unsaved/deb2bc5f-dcb1-4936-a765-264603a1c56a?dependentField=sector&dependentValues=Financial%20Services'\n",
    "poland_results = get_companies(poland_url)"
   ]
  },
  {
   "cell_type": "code",
   "execution_count": 112,
   "metadata": {},
   "outputs": [],
   "source": [
    "poland_results = ['SAN.WA',\n",
    " 'UCG.WA',\n",
    " 'PKO.WA',\n",
    " 'ING.WA',\n",
    " 'SPL.WA',\n",
    " 'PEO.WA',\n",
    " 'BNP.WA',\n",
    " 'MIL.WA',\n",
    " 'BHW.WA',\n",
    " 'ALR.WA',\n",
    " 'BOS.WA',\n",
    " 'GNB.WA',\n",
    " 'GTN.WA']"
   ]
  },
  {
   "cell_type": "code",
   "execution_count": 113,
   "metadata": {},
   "outputs": [],
   "source": [
    "c = CurrencyRates()\n",
    "poland_rate = c.get_rate('PLN', 'USD')"
   ]
  },
  {
   "cell_type": "code",
   "execution_count": 114,
   "metadata": {},
   "outputs": [
    {
     "name": "stdout",
     "output_type": "stream",
     "text": [
      "SAN.WA UCG.WA PKO.WA ING.WA SPL.WA PEO.WA BNP.WA MIL.WA BHW.WA ALR.WA BOS.WA GNB.WA GTN.WA "
     ]
    }
   ],
   "source": [
    "poland_companies_info = get_companies_info(poland_results, 'PLN', poland_rate)"
   ]
  },
  {
   "cell_type": "code",
   "execution_count": 115,
   "metadata": {},
   "outputs": [
    {
     "data": {
      "text/plain": [
       "(13, 11)"
      ]
     },
     "execution_count": 115,
     "metadata": {},
     "output_type": "execute_result"
    }
   ],
   "source": [
    "poland_companies_info2 = filter_info('PLN', 'Poland', poland_companies_info.values())\n",
    "len(poland_companies_info), len(poland_companies_info2)"
   ]
  },
  {
   "cell_type": "code",
   "execution_count": 116,
   "metadata": {},
   "outputs": [],
   "source": [
    "poland_companies_df = set_dataframe(poland_companies_info2)"
   ]
  },
  {
   "cell_type": "code",
   "execution_count": 117,
   "metadata": {},
   "outputs": [],
   "source": [
    "save_to_csv(poland_companies_df, 'poland.csv')"
   ]
  },
  {
   "cell_type": "markdown",
   "metadata": {},
   "source": [
    "## Germany"
   ]
  },
  {
   "cell_type": "code",
   "execution_count": 56,
   "metadata": {},
   "outputs": [],
   "source": [
    "germany_url = 'https://finance.yahoo.com/screener/unsaved/624ac6f8-c157-4363-ac97-0ea81faa6565?dependentField=sector&dependentValues=Financial%20Services&offset=0&count=100'\n",
    "germany_results = get_companies(germany_url)"
   ]
  },
  {
   "cell_type": "code",
   "execution_count": 59,
   "metadata": {},
   "outputs": [],
   "source": [
    "germany_results = ['NCB.DE',\n",
    " 'ICK.F',\n",
    " 'NWT.DE',\n",
    " 'C6T.F',\n",
    " 'EK7.F',\n",
    " 'W8V.F',\n",
    " 'HBC1.DE',\n",
    " 'SBNC.F',\n",
    " 'BNP.DE',\n",
    " 'BSD2.F',\n",
    " 'BSD2.DE',\n",
    " 'IES.DE',\n",
    " 'INN1.DE',\n",
    " 'INN1.F',\n",
    " 'BOY.DE',\n",
    " 'LLD.DE',\n",
    " 'LLD.F',\n",
    " 'BCY.DE',\n",
    " 'DBK.F',\n",
    " 'DBK.DE',\n",
    " 'SGE.DE',\n",
    " 'KYM1.F',\n",
    " 'CBK.DE',\n",
    " 'CBK.F',\n",
    " 'BIRG.DE',\n",
    " 'KTB1.F',\n",
    " 'EFGD.F',\n",
    " 'NAGF.F',\n",
    " 'ACBB.F',\n",
    " 'BOZA.F',\n",
    " 'ARL.DE',\n",
    " 'UBK.DE',\n",
    " 'PCZ.DE',\n",
    " 'BSD2.SG',\n",
    " 'IES.SG',\n",
    " 'W8V.BE',\n",
    " 'BOZA.SG',\n",
    " 'W8V.SG',\n",
    " 'LLD.SG',\n",
    " 'INN1.SG',\n",
    " 'C6T.SG',\n",
    " 'RYS1.DE',\n",
    " 'W8V.DU',\n",
    " 'ICK.SG',\n",
    " 'EK7.SG',\n",
    " 'DBK.SG',\n",
    " 'CRIN.DE',\n",
    " 'CBK.SG']"
   ]
  },
  {
   "cell_type": "code",
   "execution_count": 61,
   "metadata": {},
   "outputs": [],
   "source": [
    "c = CurrencyRates()\n",
    "germany_rate = c.get_rate('EUR', 'USD')"
   ]
  },
  {
   "cell_type": "code",
   "execution_count": 62,
   "metadata": {},
   "outputs": [
    {
     "name": "stdout",
     "output_type": "stream",
     "text": [
      "NCB.DE ICK.F NWT.DE C6T.F EK7.F W8V.F HBC1.DE SBNC.F BNP.DE BSD2.F BSD2.DE IES.DE INN1.DE INN1.F BOY.DE LLD.DE LLD.F BCY.DE DBK.F DBK.DE SGE.DE KYM1.F CBK.DE CBK.F BIRG.DE KTB1.F EFGD.F NAGF.F ACBB.F BOZA.F ARL.DE UBK.DE PCZ.DE BSD2.SG IES.SG W8V.BE BOZA.SG W8V.SG LLD.SG INN1.SG C6T.SG RYS1.DE W8V.DU ICK.SG EK7.SG DBK.SG CRIN.DE CBK.SG "
     ]
    }
   ],
   "source": [
    "germany_companies_info = get_companies_info(germany_results, 'EUR', germany_rate)"
   ]
  },
  {
   "cell_type": "code",
   "execution_count": 63,
   "metadata": {},
   "outputs": [
    {
     "data": {
      "text/plain": [
       "(48, 7)"
      ]
     },
     "execution_count": 63,
     "metadata": {},
     "output_type": "execute_result"
    }
   ],
   "source": [
    "germany_companies_info2 = filter_info('EUR', 'Germany', germany_companies_info.values())\n",
    "len(germany_companies_info), len(germany_companies_info2)"
   ]
  },
  {
   "cell_type": "code",
   "execution_count": 64,
   "metadata": {},
   "outputs": [],
   "source": [
    "germany_companies_df = set_dataframe(germany_companies_info2)"
   ]
  },
  {
   "cell_type": "code",
   "execution_count": 65,
   "metadata": {},
   "outputs": [],
   "source": [
    "save_to_csv(germany_companies_df, 'germany.csv')"
   ]
  },
  {
   "cell_type": "markdown",
   "metadata": {},
   "source": [
    "## Europe using euro (except Germany)"
   ]
  },
  {
   "cell_type": "code",
   "execution_count": 49,
   "metadata": {},
   "outputs": [],
   "source": [
    "europe_url = 'https://finance.yahoo.com/screener/unsaved/6470d1cb-afba-4364-bb2f-00a479e176a4?dependentField=sector&dependentValues=Financial%20Services&offset=0&count=100'\n",
    "europe_results = get_companies(europe_url)\n",
    "# ,'IL0A.IR'"
   ]
  },
  {
   "cell_type": "code",
   "execution_count": 33,
   "metadata": {},
   "outputs": [
    {
     "data": {
      "text/plain": [
       "38"
      ]
     },
     "execution_count": 33,
     "metadata": {},
     "output_type": "execute_result"
    }
   ],
   "source": [
    "europe_results1 = [\n",
    " 'JPM.VI','BOAC.VI','ARION.IC','SAN.WA','ISB.IC','ICK.VI','WFC.VI','CITI.VI','EK7.VI','UCG.WA','SBER.VI','USBC.VI','PNCF.VI','BNP.VI','BNP.PA','TFC.VI','SAN.VI','SANTA.BR','PKO.WA','KVIKA.IC','INGA.VI','ISP.VI',\n",
    " 'INGA.AS','NDA-FI.HE','BBVA.VI','BBV.BR','ACA.VI','ACA.PA','SIVB.VI','ING.WA','FRC.VI','KBC.VI','SPL.WA','KBC.BR','PEO.WA','UCG.VI','CABK.VI','GLE.VI','GLE.PA',\n",
    " 'EBS.VI','DANS.VI','BNP.WA','ABN.VI','ABN.AS','FBK.VI','MB.VI','MIL.WA','VTBR.VI','RBI.VI','BMED.VI','A5G.IR','BHW.WA','ALR.WA',\n",
    " \n",
    "]\n",
    "europe_results2 = [\n",
    " 'BIRG.IR','BG.VI','BKT.VI','BGN.VI','BAMI.VI','SAB.VI','OBS.VI','BPE.VI','ARL.VI','LHV1T.TL','CRLA.PA','VLK.AS','BTS.VI','BOS.WA'\n",
    " 'AKTIA.HE','CRAV.PA','BNB.BR','BKS.VI',\n",
    " 'CRAP.PA','CAF.PA','CRLO.PA','CRTO.PA','EVLI.HE','GNB.WA','MLCFM.PA','OMASP.HE','ALBBV.HE','ALBAV.HE','CIV.PA','CAT31.PA','CCN.PA',\n",
    " 'CNF.PA','CRBP2.PA','CPA1T.TL','ADKO.VI','GTN.WA','CMO.PA','CRSU.PA','VVPS.VI'\n",
    "]"
   ]
  },
  {
   "cell_type": "code",
   "execution_count": 51,
   "metadata": {},
   "outputs": [],
   "source": [
    "c = CurrencyRates()\n",
    "euro_rate = c.get_rate('EUR', 'USD')\n",
    "euro_countries = ['France','Finland','Netherlands','Ireland','Belgium','Austria','Estonia']"
   ]
  },
  {
   "cell_type": "code",
   "execution_count": 36,
   "metadata": {
    "scrolled": true
   },
   "outputs": [
    {
     "name": "stdout",
     "output_type": "stream",
     "text": [
      "JPM.VI BOAC.VI ARION.IC SAN.WA ISB.IC ICK.VI WFC.VI CITI.VI EK7.VI UCG.WA SBER.VI USBC.VI PNCF.VI BNP.VI BNP.PA TFC.VI SAN.VI SANTA.BR PKO.WA KVIKA.IC INGA.VI ISP.VI INGA.AS NDA-FI.HE BBVA.VI BBV.BR ACA.VI ACA.PA SIVB.VI ING.WA FRC.VI KBC.VI SPL.WA KBC.BR PEO.WA UCG.VI CABK.VI GLE.VI GLE.PA EBS.VI DANS.VI BNP.WA ABN.VI ABN.AS FBK.VI MB.VI MIL.WA VTBR.VI RBI.VI BMED.VI A5G.IR BHW.WA ALR.WA "
     ]
    }
   ],
   "source": [
    "europe_companies_info1 = get_companies_info(europe_results1, 'EUR', euro_rate)"
   ]
  },
  {
   "cell_type": "code",
   "execution_count": 37,
   "metadata": {},
   "outputs": [
    {
     "name": "stdout",
     "output_type": "stream",
     "text": [
      "CRAP.PA CAF.PA CRLO.PA CRTO.PA EVLI.HE GNB.WA MLCFM.PA OMASP.HE ALBBV.HE ALBAV.HE CIV.PA CAT31.PA CCN.PA CNF.PA CRBP2.PA CPA1T.TL ADKO.VI GTN.WA CMO.PA CRSU.PA VVPS.VI "
     ]
    }
   ],
   "source": [
    "europe_companies_info2 = get_companies_info(europe_results, 'EUR', euro_rate)"
   ]
  },
  {
   "cell_type": "code",
   "execution_count": 52,
   "metadata": {},
   "outputs": [
    {
     "data": {
      "text/plain": [
       "(74, 34)"
      ]
     },
     "execution_count": 52,
     "metadata": {},
     "output_type": "execute_result"
    }
   ],
   "source": [
    "europe_companies_info1a = [item for item in europe_companies_info1.values() if item['currency'] == 'EUR']\n",
    "europe_companies_info2a = [item for item in europe_companies_info2.values() if item['currency'] == 'EUR']\n",
    "\n",
    "europe_companies_info1a = [item for item in europe_companies_info1.values() if item['country'] in euro_countries]\n",
    "europe_companies_info2a = [item for item in europe_companies_info2.values() if item['country'] in euro_countries]\n",
    "\n",
    "europe_companies_info = europe_companies_info1a + europe_companies_info2a\n",
    "\n",
    "len(list(europe_companies_info1)+list(europe_companies_info2)), len(europe_companies_info)"
   ]
  },
  {
   "cell_type": "code",
   "execution_count": 54,
   "metadata": {},
   "outputs": [],
   "source": [
    "europe_companies_df = set_dataframe(europe_companies_info)"
   ]
  },
  {
   "cell_type": "code",
   "execution_count": 55,
   "metadata": {},
   "outputs": [],
   "source": [
    "save_to_csv(europe_companies_df, 'europe.csv')"
   ]
  },
  {
   "cell_type": "markdown",
   "metadata": {},
   "source": [
    "# Save all dataset to a csv"
   ]
  },
  {
   "cell_type": "code",
   "execution_count": 118,
   "metadata": {},
   "outputs": [],
   "source": [
    "gbp = pd.read_csv('uk.csv')\n",
    "eu = pd.read_csv('europe.csv')\n",
    "czk = pd.read_csv('czech.csv')\n",
    "nok = pd.read_csv('norway.csv')\n",
    "dk = pd.read_csv('denmark.csv')\n",
    "sek = pd.read_csv('sweden.csv')\n",
    "chf = pd.read_csv('switzerland.csv')\n",
    "pln = pd.read_csv('poland.csv')\n",
    "de = pd.read_csv('germany.csv')"
   ]
  },
  {
   "cell_type": "code",
   "execution_count": 138,
   "metadata": {},
   "outputs": [
    {
     "data": {
      "text/plain": [
       "(266, 130, 90, 90)"
      ]
     },
     "execution_count": 138,
     "metadata": {},
     "output_type": "execute_result"
    }
   ],
   "source": [
    "banks_tickers = uk_results + europe_results + czech_results + sweden_results + switzerland_results + denmark_results + norway_results + poland_results + germany_results\n",
    "banks_info = list(uk_companies_info2) + list(switzerland_companies_info2) + list(denmark_companies_info2) + list(norway_companies_info2) + list(sweden_companies_info2) + list(czech_companies_info2) + list(poland_companies_info2) + list(germany_companies_info2) + list(europe_companies_info1) + list(europe_companies_info2)\n",
    "\n",
    "banks_filtered = uk_companies_info2 + switzerland_companies_info2 + denmark_companies_info2 + norway_companies_info2 + sweden_companies_info2 + czech_companies_info2 + poland_companies_info2 + germany_companies_info2 + europe_companies_info\n",
    "\n",
    "banks_df = pd.concat([gbp,eu,czk,nok,dk,sek,chf,pln,de], ignore_index=True)\n",
    "\n",
    "len(banks_tickers), len(banks_info), len(banks_filtered), len(banks_df)"
   ]
  },
  {
   "cell_type": "code",
   "execution_count": 139,
   "metadata": {},
   "outputs": [],
   "source": [
    "banks_df.to_csv('banks_europe.csv')"
   ]
  },
  {
   "cell_type": "code",
   "execution_count": null,
   "metadata": {},
   "outputs": [],
   "source": []
  }
 ],
 "metadata": {
  "kernelspec": {
   "display_name": "Python 3",
   "language": "python",
   "name": "python3"
  },
  "language_info": {
   "codemirror_mode": {
    "name": "ipython",
    "version": 3
   },
   "file_extension": ".py",
   "mimetype": "text/x-python",
   "name": "python",
   "nbconvert_exporter": "python",
   "pygments_lexer": "ipython3",
   "version": "3.8.5"
  }
 },
 "nbformat": 4,
 "nbformat_minor": 4
}
