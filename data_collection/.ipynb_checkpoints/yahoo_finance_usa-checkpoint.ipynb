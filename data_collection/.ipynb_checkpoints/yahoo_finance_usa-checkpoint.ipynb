{
 "cells": [
  {
   "cell_type": "markdown",
   "metadata": {},
   "source": [
    "## Yahoo Finance"
   ]
  },
  {
   "cell_type": "code",
   "execution_count": 1,
   "metadata": {},
   "outputs": [],
   "source": [
    "import yfinance as yf\n",
    "import pandas as pd\n",
    "from bs4 import BeautifulSoup\n",
    "import re\n",
    "from selenium import webdriver\n",
    "import chromedriver_binary\n",
    "import string\n",
    "import datetime\n",
    "from forex_python.converter import CurrencyRates\n",
    "pd.options.display.float_format = '{:.3f}'.format"
   ]
  },
  {
   "cell_type": "markdown",
   "metadata": {},
   "source": [
    "## Functions for screener results and getting data"
   ]
  },
  {
   "cell_type": "code",
   "execution_count": 2,
   "metadata": {},
   "outputs": [],
   "source": [
    "def get_rate(from_currency, to_currency):\n",
    "    # https://pythonawesome.com/a-free-foreign-exchange-rates-and-currency-conversion-in-python/\n",
    "    curr_rates = CurrencyRates()\n",
    "    return curr_rates.get_rate(from_currency.upper(), to_currency.upper())\n",
    "\n",
    "def convert(value, rate):\n",
    "    if value:\n",
    "        return value * rate\n",
    "    else:\n",
    "        return ''"
   ]
  },
  {
   "cell_type": "code",
   "execution_count": 3,
   "metadata": {},
   "outputs": [],
   "source": [
    "def set_dictionary(companies_info, ticker_info, symbol, curr_rate):\n",
    "    companies_info[symbol] = {\n",
    "        'symbol'           : ticker_info['symbol'] if 'symbol' in ticker_info else '',\n",
    "        'shortName'        : ticker_info['shortName'] if 'shortName' in ticker_info else '',\n",
    "        'country'          : ticker_info['country'] if 'country' in ticker_info else '',\n",
    "        'averageVolume'    : ticker_info['averageVolume'] if 'averageVolume' in ticker_info else '',\n",
    "        'currentPrice'     : ticker_info['currentPrice'] if 'currentPrice' in ticker_info else '',\n",
    "        'currency'         : ticker_info['currency'] if 'currency' in ticker_info else '',\n",
    "        'sector'           : ticker_info['sector'] if 'sector' in ticker_info else '',\n",
    "        'industry'         : ticker_info['industry'] if 'industry' in ticker_info else '',\n",
    "        'profitMargins'    : ticker_info['profitMargins'] if 'profitMargins' in ticker_info else '',\n",
    "        'operatingMargins' : ticker_info['operatingMargins'] if 'operatingMargins' in ticker_info else '',\n",
    "        'operatingCashflow': convert(ticker_info['operatingCashflow'],curr_rate) if 'operatingCashflow' in ticker_info else '',\n",
    "        'returnOnAssets'   : ticker_info['returnOnAssets'] if 'returnOnAssets' in ticker_info else '',\n",
    "        'returnOnEquity'   : ticker_info['returnOnEquity'] if 'returnOnEquity' in ticker_info else '',\n",
    "        'trailingEps'      : convert(ticker_info['trailingEps'],curr_rate) if 'trailingEps' in ticker_info else '',\n",
    "        'totalRevenue'     : convert(ticker_info['totalRevenue'],curr_rate) if 'totalRevenue' in ticker_info else '',\n",
    "        'revenuePerShare'  : convert(ticker_info['revenuePerShare'],curr_rate) if 'revenuePerShare' in ticker_info else '',\n",
    "        'revenueGrowth'    : ticker_info['revenueGrowth'] if 'revenueGrowth' in ticker_info else '',\n",
    "        'grossProfits'     : convert(ticker_info['grossProfits'],curr_rate) if 'grossProfits' in ticker_info else '',\n",
    "        'netIncomeToCommon': convert(ticker_info['netIncomeToCommon'],curr_rate) if 'netIncomeToCommon' in ticker_info else '',\n",
    "        'operatingMargins' : ticker_info['operatingMargins'] if 'operatingMargins' in ticker_info else '',\n",
    "        'totalCash'        : convert(ticker_info['totalCash'],curr_rate) if 'totalCash' in ticker_info else '',\n",
    "        'totalCashPerShare': convert(ticker_info['totalCashPerShare'],curr_rate) if 'totalCashPerShare' in ticker_info else '',\n",
    "        'totalDebt'        : convert(ticker_info['totalDebt'],curr_rate) if 'totalDebt' in ticker_info else '',\n",
    "        'bookValue'        : ticker_info['bookValue'] if 'bookValue' in ticker_info else '',\n",
    "        'marketCap'        : convert(ticker_info['marketCap'],curr_rate) if 'marketCap' in ticker_info else '',\n",
    "        'enterpriseValue'  : convert(ticker_info['enterpriseValue'],curr_rate) if 'enterpriseValue' in ticker_info else '',\n",
    "        'trailingPE'       : ticker_info['trailingPE'] if 'trailingPE' in ticker_info else '',\n",
    "        'earningsQuarterlyGrowth': ticker_info['earningsQuarterlyGrowth'] if 'earningsQuarterlyGrowth' in ticker_info else '',\n",
    "        'forwardPE'              : ticker_info['forwardPE'] if 'forwardPE' in ticker_info else '',\n",
    "        'pegRatio'               : ticker_info['pegRatio'] if 'pegRatio' in ticker_info else '',\n",
    "        'priceToSalesTrailing12Months': ticker_info['priceToSalesTrailing12Months'] if 'priceToSalesTrailing12Months' in ticker_info else '',\n",
    "        'priceToBook'         : ticker_info['priceToBook'] if 'priceToBook' in ticker_info else '',\n",
    "        'enterpriseToRevenue' : ticker_info['enterpriseToRevenue'] if 'enterpriseToRevenue' in ticker_info else '',\n",
    "        'beta'                : ticker_info['beta'] if 'beta' in ticker_info else '',\n",
    "        'fiftyTwoWeekHigh'    : convert(ticker_info['fiftyTwoWeekHigh'],curr_rate) if 'fiftyTwoWeekHigh' in ticker_info else '',\n",
    "        'fiftyTwoWeekLow'     : convert(ticker_info['fiftyTwoWeekLow'],curr_rate) if 'fiftyTwoWeekLow' in ticker_info else '',\n",
    "        'fiftyDayAverage'     : convert(ticker_info['fiftyDayAverage'],curr_rate) if 'fiftyDayAverage' in ticker_info else '',\n",
    "        'twoHundredDayAverage': convert(ticker_info['twoHundredDayAverage'],curr_rate) if 'twoHundredDayAverage' in ticker_info else '',\n",
    "        'trailingAnnualDividendYield' : ticker_info['trailingAnnualDividendYield'] if 'trailingAnnualDividendYield' in ticker_info else '',\n",
    "        'fiveYearAvgDividendYield'    : ticker_info['fiveYearAvgDividendYield'] if 'fiveYearAvgDividendYield' in ticker_info else ''\n",
    "    }\n",
    "    \n",
    "    return companies_info"
   ]
  },
  {
   "cell_type": "code",
   "execution_count": null,
   "metadata": {},
   "outputs": [],
   "source": [
    "\"\"\"\n",
    "function for scraping screener results which takes two parameters url and currency,\n",
    "so that we can reuse it for different countries screener \n",
    "\"\"\"\n",
    "def get_companies(url):\n",
    "    driver = webdriver.Chrome()\n",
    "    driver.get(url)\n",
    "    html = driver.execute_script('return document.body.innerHTML;')\n",
    "    soup = BeautifulSoup(html,'html.parser')\n",
    "    results = soup.find('table').find_all('tr')[1:]\n",
    "    companies_results = []\n",
    "    for tr in results:\n",
    "        td = tr.find('td')\n",
    "        companies_results.append(td.find('a').text)\n",
    "    return companies_results\n",
    "\n",
    "\n",
    "\"\"\"\n",
    "Function for getting company financial informations from scraping results.\n",
    "It takes parameter currency which is involved in a conditional. This conditional excludes stocks\n",
    "with different currency from that of country/continent we're scraping.\n",
    "\"\"\"\n",
    "def get_companies_info(companies_results, currency, curr_rate, country):\n",
    "    companies_info = dict() \n",
    "    for i in range(0, len(companies_results)):\n",
    "        ct =  yf.Ticker(companies_results[i])\n",
    "        print(ct.info['symbol'], end=' ')\n",
    "        companies_info = set_dictionary(companies_info, ct.info, ct.info['symbol'],  curr_rate)\n",
    "    return companies_info\n",
    "            \n",
    "def set_dataframe(companies_info):\n",
    "    return pd.DataFrame(companies_info)\n",
    "\n",
    "def save_to_csv(dataframe, filename):\n",
    "    dataframe.to_csv(filename, sep=',', encoding='utf-8-sig', index=False)"
   ]
  },
  {
   "cell_type": "markdown",
   "metadata": {},
   "source": [
    "## USA"
   ]
  },
  {
   "cell_type": "code",
   "execution_count": 34,
   "metadata": {
    "scrolled": true
   },
   "outputs": [
    {
     "ename": "NameError",
     "evalue": "name 'usa_url1' is not defined",
     "output_type": "error",
     "traceback": [
      "\u001b[1;31m---------------------------------------------------------------------------\u001b[0m",
      "\u001b[1;31mNameError\u001b[0m                                 Traceback (most recent call last)",
      "\u001b[1;32m<ipython-input-34-8f6db606bed0>\u001b[0m in \u001b[0;36m<module>\u001b[1;34m\u001b[0m\n\u001b[0;32m     12\u001b[0m \u001b[1;31m# usa_url11 = 'https://finance.yahoo.com/screener/unsaved/4cf3e85f-6b32-449b-a41f-d996d218940c?count=100&dependentField=sector&dependentValues=Financial%20Services&offset=1000'\u001b[0m\u001b[1;33m\u001b[0m\u001b[1;33m\u001b[0m\u001b[1;33m\u001b[0m\u001b[0m\n\u001b[0;32m     13\u001b[0m \u001b[1;33m\u001b[0m\u001b[0m\n\u001b[1;32m---> 14\u001b[1;33m \u001b[0musa_results1\u001b[0m \u001b[1;33m=\u001b[0m \u001b[0mget_companies\u001b[0m\u001b[1;33m(\u001b[0m\u001b[0musa_url1\u001b[0m\u001b[1;33m)\u001b[0m\u001b[1;33m\u001b[0m\u001b[1;33m\u001b[0m\u001b[0m\n\u001b[0m\u001b[0;32m     15\u001b[0m \u001b[0musa_results2\u001b[0m \u001b[1;33m=\u001b[0m \u001b[0mget_companies\u001b[0m\u001b[1;33m(\u001b[0m\u001b[0musa_url2\u001b[0m\u001b[1;33m)\u001b[0m\u001b[1;33m\u001b[0m\u001b[1;33m\u001b[0m\u001b[0m\n\u001b[0;32m     16\u001b[0m \u001b[0musa_results3\u001b[0m \u001b[1;33m=\u001b[0m \u001b[0mget_companies\u001b[0m\u001b[1;33m(\u001b[0m\u001b[0musa_url3\u001b[0m\u001b[1;33m)\u001b[0m\u001b[1;33m\u001b[0m\u001b[1;33m\u001b[0m\u001b[0m\n",
      "\u001b[1;31mNameError\u001b[0m: name 'usa_url1' is not defined"
     ]
    }
   ],
   "source": [
    "# more urls because more than 100 results\n",
    "# usa_url1 = 'https://finance.yahoo.com/screener/unsaved/4cf3e85f-6b32-449b-a41f-d996d218940c?dependentField=sector&dependentValues=Financial%20Services&offset=0&count=100'\n",
    "# usa_url2 = 'https://finance.yahoo.com/screener/unsaved/4cf3e85f-6b32-449b-a41f-d996d218940c?count=100&dependentField=sector&dependentValues=Financial%20Services&offset=100'\n",
    "# usa_url3 = 'https://finance.yahoo.com/screener/unsaved/4cf3e85f-6b32-449b-a41f-d996d218940c?count=100&dependentField=sector&dependentValues=Financial%20Services&offset=200'\n",
    "# usa_url4 = 'https://finance.yahoo.com/screener/unsaved/4cf3e85f-6b32-449b-a41f-d996d218940c?count=100&dependentField=sector&dependentValues=Financial%20Services&offset=300'\n",
    "# usa_url5 = 'https://finance.yahoo.com/screener/unsaved/4cf3e85f-6b32-449b-a41f-d996d218940c?count=100&dependentField=sector&dependentValues=Financial%20Services&offset=400'\n",
    "# usa_url6 = 'https://finance.yahoo.com/screener/unsaved/4cf3e85f-6b32-449b-a41f-d996d218940c?count=100&dependentField=sector&dependentValues=Financial%20Services&offset=500'\n",
    "# usa_url7 = 'https://finance.yahoo.com/screener/unsaved/4cf3e85f-6b32-449b-a41f-d996d218940c?count=100&dependentField=sector&dependentValues=Financial%20Services&offset=600'\n",
    "# usa_url8 = 'https://finance.yahoo.com/screener/unsaved/4cf3e85f-6b32-449b-a41f-d996d218940c?count=100&dependentField=sector&dependentValues=Financial%20Services&offset=700'\n",
    "# usa_url9 = 'https://finance.yahoo.com/screener/unsaved/4cf3e85f-6b32-449b-a41f-d996d218940c?count=100&dependentField=sector&dependentValues=Financial%20Services&offset=800'\n",
    "# usa_url10 = 'https://finance.yahoo.com/screener/unsaved/4cf3e85f-6b32-449b-a41f-d996d218940c?count=100&dependentField=sector&dependentValues=Financial%20Services&offset=900'\n",
    "# usa_url11 = 'https://finance.yahoo.com/screener/unsaved/4cf3e85f-6b32-449b-a41f-d996d218940c?count=100&dependentField=sector&dependentValues=Financial%20Services&offset=1000'\n",
    "\n",
    "usa_results1 = get_companies(usa_url1)\n",
    "usa_results2 = get_companies(usa_url2)\n",
    "usa_results3 = get_companies(usa_url3)\n",
    "usa_results4 = get_companies(usa_url4)\n",
    "usa_results5 = get_companies(usa_url5)\n",
    "usa_results6 = get_companies(usa_url6)\n",
    "usa_results7 = get_companies(usa_url7)\n",
    "usa_results8 = get_companies(usa_url8)\n",
    "usa_results9 = get_companies(usa_url9)\n",
    "usa_results10 = get_companies(usa_url10)\n",
    "usa_results11 = get_companies(usa_url11)"
   ]
  },
  {
   "cell_type": "code",
   "execution_count": 25,
   "metadata": {},
   "outputs": [],
   "source": [
    "usa_results = usa_results1 + usa_results2 + usa_results3 + usa_results4 + usa_results5 + usa_results6 + usa_results7 + usa_results8 + usa_results9 + usa_results10 + usa_results11"
   ]
  },
  {
   "cell_type": "code",
   "execution_count": 88,
   "metadata": {},
   "outputs": [],
   "source": [
    "usa_results1 = 'JPM BAC BAC-PL JPM-PC JPM-PD BAC-PK BML-PG BML-PH BML-PL BAC-PE BAC-PB IDCBY IDCBF WFC-PL WFC-PQ CIHKY WFC-PY WFC-PO WFC-PX WFC-PR CIHHF WFC CICHY C-PJ CICHF C ACGBF ACGBY RY HDB CMWAY BACHF BACHY WFC-PC TD HBCYF HSBC RY-PT USB-PH SBRCY USB-PP USB PNC BNPQY BNPQF USB-PM BNS MUFG PSTVY MBFJF TFC IBN WBK WEBNF BMO SAN BCDRF UBS ANEWF ANZBY NABZY DBSDY PBCRF NAUBF PBCRY DBSDF IITSF ISNPY ING INGVF ITUB CM BSBR SMFG SMFNF NBNKF NRDBY LLDTF BBVA BBVXF LYG BCS BCLYF CRARY CRARF MFG BBD MZHOF OVCHY KBCSF KBCSY FRC SIVB BKRKF BKRKY MLYBY BBDO JPPHY HSNGF HSNGY RBSPF NWG BHKLY UOVEY CHCJY UNCFF UNCRY FITB DB NTIOF SCGLY SCGLF CS CAIXY CIXPF CSGKF FANDF HBAN SWDBY SVNLY SCBFF SVNLF PPERY KEY PPERF KEY-PK FITBI GBOOF RF GBOOY CFG SCBFY KEY-PI KEY-PJ MTB'.split(' ')\n",
    "usa_results2 = 'EBKOF KB EBKDY SHG CFG-PD FRC-PI SGBLY FRC-PH RF-PC SBNY BDORY RF-PB DNKEY SUTNY CMTDF AAVMY BKHYY SMCBF EWBC WAL SMUUY MDIBY BDOUY BCH CMA BSAC ZION AGRPY KPCPY FHN RAIFY BAP FCNCB FCNCA CRZBY CIB CBSH BSMX AIBGY BPHLY KMERF CFR PBCTP PBCT WF PNFP BKRIF BKKLY AVAL BKRIY FFIN PB NDBKY NYCB BPOP SNV BOKF GPFOY CIBEY GPFOF BPOPO SNV-PD OZK TFSL BKNIY CHBAY SHZUY PACW CIT BKEAY BKEAF NYCB-PA VLY GBCI KGTFY TKGBY SSB WBS WBS-PF BKQNY STL UMBF UMPQ UBSI WTFC STL-PA WTFCM SFBS BNDSF FKKFY HWC SKLKF BKU SKLKY FNB-PE HOMB VLYPP CBU PPBI AKBTY EGFEF FNB ASB-PE EBC CKNQP ISBC FHB VLYPO CBKLP ASB-PD EGFEY ABCB UNPA ALBKY ASB ALBKF BOH CATY BXS SFNC AOZOY SI TCBI GGAL IBTX AX FBC CBCYB ONB IFS CADE NBGIF AUB CBWBF IBOC CVBF HTH FBP UCBI FIBK FULT LOB COLB'.split(' ')\n",
    "usa_results3 = 'INDB BBAJF TSCFY WAFD FBPRM FFBC FRME TOWN WSFS BPIRF WSBC TBK FMBI BPIRY SASR HTLF FBK TRMK RNST CLBK PRK BANR BANF GWB SBCF VBTX PFS EGBN EFSC HOPE CASH NTB LKFN NWBI FINN CFFN WABC NBTB SYBT LRCDF ITCB TBBK DCOM BUSE CUBI OCFC FCF BMA SBSI TCBK BHLB OFG WTBFA CNOB SRCE BRKL FBNC TMP CHCO FFWM PFC STBA NBHC MBIN FMBL EBSB RBCAA DSFGY WTBFB KRNY OBNK GABC AMTB AMTBB PFBC WASH BY BANC NCBS HFWA BBAR LBAI FBMS NFBK QCRH UVSP BMTC HMST ALTA HBNC FBAK HONE CTBI HIFS GSBC ABTX FMCB FMBH FFIC CAC CPF BANC-PE HTBK BLX MCB LBC CNBKA TSC TSCBP CBTX HBIA CFB PGC CUBI-PF CUBI-PC CUBI-PE CUBI-PD TRST PEBO BMRC CATC TSCAP HAFC AROW MSBI THFF BFC CNND MCBS FCBC WSBF WTBA MBINP RBB CSTR MBWM ALRS FLIC RBNC ACBI FISI MVBF NASB MOFG BFST EQBK HTBI BWB IBCP AMAL FMNB HBT SPFI GNTY CCNE FSBC THVB STXB SFST SUPV EBTC SMBC BHB DBIN CZNC CCBG SMBK RCBC FNBT CARE BSRR HBMD RRBI CCB OSBC AMNB FRST CIVB FFMR WNRP BHRB PFIS HBCP BRBS AMBZ PBFS SMMF FNLC CBNK MPB PCB BYFC FDBC ALPIB CSHX GCBC INBK PVBC PCSB SBT FSBW SLCT MCBC FVCB NBN TGRF PFBI ORRF EXSR FMAO FRBA PKBK NRIM BCBP PFHD CZFS VRRKF JMSB PDLB CVCY ACNB CBAN TBNK TSBK ESXB UNTY MBNKF FBIZ BWFG FCCY ISTR NKSH BOCH LEVL MYFW CHMG ATLO ESQ LCNB MCHB ISBA ICBK NWFL CVLY EVBN PMBC SHBI VABK BPRN TCFC MFGI BCML COFS TRCY RMBI WNEB SBKK CFFI WMPN HSBI SCZC PLBC BSVN FGBI FRBK HLAN ESSA FNWB MCBI MNSB MRBK PWOD MLGF MNAT PEBK FNCB VLLX RVSB SVBI BERK FFMH BFIN FFNW MBLU HWBK OPBK PTRS FKYS BFCC EBMT BSBK FCCO MBCN EMYB CZWI SAL BNCC OVLY AVBH FRAF UNB FBIP CALB PBAM CFST LYBC CPKF FCAP ADKT UBFO COSO CHBH FXNC LMST OVBC LMST OVBC NECB CFBK LARK MLVF QNBC OFED GBFH PROV CBBI SBFG PFLC CBFV ENBP AUBN FUNC FXLG FETM GRRB RBKB CNBN EFSI'.split(' ')\n",
    "usa_results4 = 'TYFG RIVE BKGM UBAB SFBC CCFN CLDB BKSC PBIP CWBK OPOF CWBC PSBQ CSBB SABK FHBI HMNF SFDL CMTV GFED AFBI RNDB SOME INBC UBNC BHWB UBOH CIZN ARBV KISB SSBI CYVF NODB FABP PBHC CNBL HARL FBTT SOBS PLBN BBBK MCBK JFBC CNBB FMBM CZBC FDVA SOMC DIMC HONT NWYF UBCP JUVF LSBK AQFH CFCX LFGP UNIB FFBW BYLB WBBW KTHN PBNC MGYR WRIV PKKW PBNK EMCF BKUT PTBS IROQ PMHG BCOW VBFC SEBC BOTJ ASRV FSFG AAMAF CBKM CZBT FUSB MYBF WAYN UWHR HFBL SRYB BMBN CCNB KFFB FSEA HMLN CNAF BCBHF CTUY MNMB FOTB BVFL CBWA UNIF NIDB NWPP FBVA IOFB IBTN SVBT CBMB PPBN BKUTK HBSI GNRV CBAF MBKL CARV CULL RYFL MVLY ORPB HCBC WDFN SMAL FCOB FSRL MSVB HVBC ESBK ANDC HFBK FISB OTTW FCPB LUMB BORT PSBP FBSI TECTP STBI BCTF MDVT RWCB EQFN MCHT PNBK CIBH OSBK FGFH QNTO MNBP HRRB BKOR PFOH SVVB GLBZ SQCF CIWV DENI SLRK FRSB CCVS TMAK RSAM FRFC BEOB CBCZ CFOK FBPA WVFC FIEC DWNX HFBA MSBC EFBI EGDW GBNY CNBZ BSPA CYFL NUBC CNNB CEFC OAKV CMUV PVBK TBBA PEBC CYSM CZBS CBOF BRBW MBBC APLO BCAL WCFB HRGG SSBP BSCA FNFI FLEW OPHC HLFN FCCT GTPS SNNF FMBN TRUX CAIB FBPI GVFF RBAZ SNNY ALBY ESBS ERKH CCBC MFBP CIBN TVLF HWIS ELMA FMFG FIDS HCBN CCYY PCLB RVCB BAOB FFWC CRZY HVLM PPSF SUGR BKESF QCCO FIEB CRSB PGNN LPBC PBCO CCSB BLHK CBOBA FHLB HCBP TDCB ABBB USMT ORBN AMFC GSBX CTBK ABTO OXBC ACBCQ FSWA HRBK NXTYQ ACFL USBK AFBA TYBT OHBK TMEB WSFGQ TMCV FSTF CKCB MCBP PEBN PNC-PP BML-PJ FBPRL FBPRP HBANN USB-PA'.split(' ')"
   ]
  },
  {
   "cell_type": "code",
   "execution_count": 100,
   "metadata": {},
   "outputs": [
    {
     "data": {
      "text/plain": [
       "890"
      ]
     },
     "execution_count": 100,
     "metadata": {},
     "output_type": "execute_result"
    }
   ],
   "source": [
    "len(usa_results1+usa_results2+usa_results3+usa_results4)"
   ]
  },
  {
   "cell_type": "code",
   "execution_count": null,
   "metadata": {},
   "outputs": [],
   "source": [
    "usa_companies_info1 = get_companies_info(usa_results1, 'USD', 1.0, 'United States')"
   ]
  },
  {
   "cell_type": "code",
   "execution_count": 73,
   "metadata": {
    "scrolled": false
   },
   "outputs": [
    {
     "name": "stdout",
     "output_type": "stream",
     "text": [
      "EBKOF KB EBKDY SHG CFG-PD FRC-PI SGBLY FRC-PH RF-PC SBNY BDORY RF-PB DNKEY SUTNY CMTDF AAVMY BKHYY SMCBF EWBC WAL SMUUY MDIBY BDOUY BCH CMA BSAC ZION AGRPY KPCPY FHN RAIFY BAP FCNCB FCNCA CRZBY CIB CBSH BSMX AIBGY BPHLY KMERF CFR PBCTP PBCT WF PNFP BKRIF BKKLY AVAL BKRIY FFIN PB NDBKY NYCB BPOP SNV BOKF GPFOY CIBEY GPFOF BPOPO SNV-PD OZK TFSL BKNIY CHBAY SHZUY PACW CIT BKEAY BKEAF NYCB-PA VLY GBCI KGTFY TKGBY SSB WBS WBS-PF BKQNY STL UMBF UMPQ UBSI WTFC STL-PA WTFCM SFBS BNDSF FKKFY HWC SKLKF BKU SKLKY FNB-PE HOMB VLYPP CBU PPBI AKBTY EGFEF FNB ASB-PE EBC CKNQP ISBC FHB VLYPO CBKLP ASB-PD EGFEY ABCB UNPA ALBKY ASB ALBKF BOH CATY BXS SFNC AOZOY SI TCBI GGAL IBTX AX FBC CBCYB ONB IFS CADE NBGIF AUB CBWBF IBOC CVBF HTH FBP UCBI FIBK FULT LOB COLB "
     ]
    }
   ],
   "source": [
    "usa_companies_info2 = get_companies_info(usa_results2, 'USD', 1.0, 'United States')"
   ]
  },
  {
   "cell_type": "code",
   "execution_count": 86,
   "metadata": {},
   "outputs": [
    {
     "name": "stdout",
     "output_type": "stream",
     "text": [
      "INDB BBAJF TSCFY WAFD FBPRM FFBC FRME TOWN WSFS BPIRF WSBC TBK FMBI BPIRY SASR HTLF FBK TRMK RNST CLBK PRK BANR BANF GWB SBCF VBTX PFS EGBN EFSC HOPE CASH NTB LKFN NWBI FINN CFFN WABC NBTB SYBT LRCDF ITCB TBBK DCOM BUSE CUBI OCFC FCF BMA SBSI TCBK BHLB OFG WTBFA CNOB SRCE BRKL FBNC TMP CHCO FFWM PFC STBA NBHC MBIN FMBL EBSB RBCAA DSFGY WTBFB KRNY OBNK GABC AMTB AMTBB PFBC WASH BY BANC NCBS HFWA BBAR LBAI FBMS NFBK QCRH UVSP BMTC HMST ALTA HBNC FBAK HONE CTBI HIFS GSBC ABTX FMCB FMBH FFIC CAC CPF BANC-PE HTBK BLX MCB LBC CNBKA TSC TSCBP CBTX HBIA CFB PGC CUBI-PF CUBI-PC CUBI-PE CUBI-PD TRST PEBO BMRC CATC TSCAP HAFC AROW MSBI THFF BFC CNND MCBS FCBC WSBF WTBA MBINP RBB CSTR MBWM ALRS FLIC RBNC ACBI FISI MVBF NASB MOFG BFST EQBK HTBI BWB IBCP AMAL FMNB HBT SPFI GNTY CCNE FSBC THVB STXB SFST SUPV EBTC SMBC BHB DBIN CZNC CCBG SMBK RCBC FNBT CARE BSRR HBMD RRBI CCB OSBC AMNB FRST CIVB FFMR WNRP BHRB PFIS HBCP BRBS AMBZ PBFS SMMF FNLC CBNK MPB PCB BYFC FDBC ALPIB CSHX GCBC INBK PVBC PCSB SBT FSBW SLCT MCBC FVCB NBN TGRF PFBI ORRF EXSR FMAO FRBA PKBK NRIM BCBP PFHD CZFS VRRKF JMSB PDLB CVCY ACNB CBAN TBNK TSBK ESXB UNTY MBNKF FBIZ BWFG FCCY ISTR NKSH BOCH LEVL MYFW CHMG ATLO ESQ LCNB MCHB ISBA ICBK NWFL CVLY EVBN PMBC SHBI VABK BPRN TCFC MFGI BCML COFS TRCY RMBI WNEB SBKK CFFI WMPN HSBI SCZC PLBC BSVN FGBI FRBK HLAN ESSA FNWB MCBI MNSB MRBK PWOD MLGF MNAT PEBK FNCB VLLX RVSB SVBI BERK FFMH BFIN FFNW MBLU HWBK OPBK PTRS FKYS BFCC EBMT BSBK FCCO MBCN EMYB CZWI SAL BNCC OVLY AVBH FRAF UNB FBIP CALB PBAM CFST LYBC CPKF FCAP ADKT UBFO COSO CHBH FXNC LMST OVBC LMST OVBC NECB CFBK LARK MLVF QNBC OFED GBFH PROV CBBI SBFG PFLC CBFV ENBP AUBN FUNC FXLG FETM GRRB RBKB CNBN EFSI "
     ]
    }
   ],
   "source": [
    "usa_companies_info3 = get_companies_info(usa_results3, 'USD', 1.0, 'United States')"
   ]
  },
  {
   "cell_type": "code",
   "execution_count": 89,
   "metadata": {
    "scrolled": true
   },
   "outputs": [
    {
     "name": "stdout",
     "output_type": "stream",
     "text": [
      "TYFG RIVE BKGM UBAB SFBC CCFN CLDB BKSC PBIP CWBK OPOF CWBC PSBQ CSBB SABK FHBI HMNF SFDL CMTV GFED AFBI RNDB SOME INBC UBNC BHWB UBOH CIZN ARBV KISB SSBI CYVF NODB FABP PBHC CNBL HARL FBTT SOBS PLBN BBBK MCBK JFBC CNBB FMBM CZBC FDVA SOMC DIMC HONT NWYF UBCP JUVF LSBK AQFH CFCX LFGP UNIB FFBW BYLB WBBW KTHN PBNC MGYR WRIV PKKW PBNK EMCF BKUT PTBS IROQ PMHG BCOW VBFC SEBC BOTJ ASRV FSFG AAMAF CBKM CZBT FUSB MYBF WAYN UWHR HFBL SRYB BMBN CCNB KFFB FSEA HMLN CNAF BCBHF CTUY MNMB FOTB BVFL CBWA UNIF NIDB NWPP FBVA IOFB IBTN SVBT CBMB PPBN BKUTK HBSI GNRV CBAF MBKL CARV CULL RYFL MVLY ORPB HCBC WDFN SMAL FCOB FSRL MSVB HVBC ESBK ANDC HFBK FISB OTTW FCPB LUMB BORT PSBP FBSI TECTP STBI BCTF MDVT RWCB EQFN MCHT PNBK CIBH OSBK FGFH QNTO MNBP HRRB BKOR PFOH SVVB GLBZ SQCF CIWV DENI SLRK FRSB CCVS TMAK RSAM FRFC BEOB CBCZ CFOK FBPA WVFC FIEC DWNX HFBA MSBC EFBI EGDW GBNY CNBZ BSPA CYFL NUBC CNNB CEFC OAKV CMUV PVBK TBBA PEBC CYSM CZBS CBOF BRBW MBBC APLO BCAL WCFB HRGG SSBP BSCA FNFI FLEW OPHC HLFN FCCT GTPS SNNF FMBN TRUX CAIB FBPI GVFF RBAZ SNNY ALBY ESBS ERKH CCBC MFBP CIBN TVLF HWIS ELMA FMFG FIDS HCBN CCYY PCLB RVCB BAOB FFWC CRZY HVLM PPSF SUGR BKESF QCCO FIEB CRSB PGNN LPBC PBCO CCSB BLHK CBOBA FHLB HCBP TDCB ABBB USMT ORBN AMFC GSBX CTBK ABTO OXBC ACBCQ FSWA HRBK NXTYQ ACFL USBK AFBA TYBT OHBK TMEB WSFGQ TMCV FSTF CKCB MCBP PEBN PNC-PP BML-PJ FBPRL FBPRP HBANN USB-PA "
     ]
    }
   ],
   "source": [
    "usa_companies_info4 = get_companies_info(usa_results4, 'USD', 1.0, 'United States')"
   ]
  },
  {
   "cell_type": "code",
   "execution_count": 91,
   "metadata": {},
   "outputs": [
    {
     "data": {
      "text/plain": [
       "(39, 143, 336, 274)"
      ]
     },
     "execution_count": 91,
     "metadata": {},
     "output_type": "execute_result"
    }
   ],
   "source": [
    "len(usa_companies_info1), len(usa_companies_info2), len(usa_companies_info3), len(usa_companies_info4)"
   ]
  },
  {
   "cell_type": "code",
   "execution_count": 96,
   "metadata": {},
   "outputs": [
    {
     "data": {
      "text/plain": [
       "(39, 85, 322, 267)"
      ]
     },
     "execution_count": 96,
     "metadata": {},
     "output_type": "execute_result"
    }
   ],
   "source": [
    "usa_companies_info1a = [item for item in usa_companies_info1.values() if item['country'] == 'United States']\n",
    "usa_companies_info2a = [item for item in usa_companies_info2.values() if item['country'] == 'United States']\n",
    "usa_companies_info3a = [item for item in usa_companies_info3.values() if item['country'] == 'United States']\n",
    "usa_companies_info4a = [item for item in usa_companies_info4.values() if item['country'] == 'United States']\n",
    "\n",
    "usa_companies_info1b = [item for item in usa_companies_info1a if item['currency'] == 'USD']\n",
    "usa_companies_info2b = [item for item in usa_companies_info2a if item['currency'] == 'USD']\n",
    "usa_companies_info3b = [item for item in usa_companies_info3a if item['currency'] == 'USD']\n",
    "usa_companies_info4b = [item for item in usa_companies_info4a if item['currency'] == 'USD']\n",
    "\n",
    "len(usa_companies_info1b), len(usa_companies_info2b), len(usa_companies_info3b), len(usa_companies_info4b)"
   ]
  },
  {
   "cell_type": "code",
   "execution_count": 97,
   "metadata": {},
   "outputs": [],
   "source": [
    "usa_companies_info = usa_companies_info1b + usa_companies_info2b + usa_companies_info3b + usa_companies_info4b"
   ]
  },
  {
   "cell_type": "code",
   "execution_count": 251,
   "metadata": {
    "scrolled": true
   },
   "outputs": [
    {
     "data": {
      "text/plain": [
       "713"
      ]
     },
     "execution_count": 251,
     "metadata": {},
     "output_type": "execute_result"
    }
   ],
   "source": [
    "len(usa_companies_info)"
   ]
  },
  {
   "cell_type": "markdown",
   "metadata": {},
   "source": [
    "## Filter banks with same name by bigger volume"
   ]
  },
  {
   "cell_type": "code",
   "execution_count": 134,
   "metadata": {},
   "outputs": [
    {
     "data": {
      "text/plain": [
       "40"
      ]
     },
     "execution_count": 134,
     "metadata": {},
     "output_type": "execute_result"
    }
   ],
   "source": [
    "usa_companies_info_final = dict()\n",
    "c = 0\n",
    "for item in usa_companies_info:\n",
    "    symbol = item['symbol'].split('-')[0] \n",
    "    if symbol not in usa_companies_info_final:\n",
    "        usa_companies_info_final[symbol] = item\n",
    "    else:\n",
    "        c += 1\n",
    "\n",
    "c"
   ]
  },
  {
   "cell_type": "code",
   "execution_count": 252,
   "metadata": {},
   "outputs": [],
   "source": [
    "usa_companies_info_final = dict()\n",
    "for item in usa_companies_info:\n",
    "    symbol = item['symbol'].split('-')[0]\n",
    "    if symbol not in usa_companies_info_final:\n",
    "        usa_companies_info_final[symbol] = item\n",
    "    else:\n",
    "        if usa_companies_info_final[symbol]['averageVolume'] < item['averageVolume']:\n",
    "            usa_companies_info_final[symbol] = item"
   ]
  },
  {
   "cell_type": "code",
   "execution_count": 302,
   "metadata": {},
   "outputs": [
    {
     "data": {
      "text/plain": [
       "(673, 39)"
      ]
     },
     "execution_count": 302,
     "metadata": {},
     "output_type": "execute_result"
    }
   ],
   "source": [
    "usa_companies_df = set_dataframe(usa_companies_info_final.values())\n",
    "usa_companies_df.shape"
   ]
  },
  {
   "cell_type": "markdown",
   "metadata": {},
   "source": [
    "## Filter further"
   ]
  },
  {
   "cell_type": "markdown",
   "metadata": {},
   "source": [
    "### Remove too empty banks"
   ]
  },
  {
   "cell_type": "code",
   "execution_count": 310,
   "metadata": {},
   "outputs": [],
   "source": [
    "usa_companies_df = usa_companies_df[usa_companies_df.isnull().sum(axis=1) < 10]"
   ]
  },
  {
   "cell_type": "markdown",
   "metadata": {},
   "source": [
    "### Remove duplicated banks"
   ]
  },
  {
   "cell_type": "code",
   "execution_count": 312,
   "metadata": {},
   "outputs": [
    {
     "data": {
      "text/plain": [
       "(644, 39)"
      ]
     },
     "execution_count": 312,
     "metadata": {},
     "output_type": "execute_result"
    }
   ],
   "source": [
    "# There is also FITB\n",
    "usa_companies_df = usa_companies_df[usa_companies_df.symbol != 'FITBI']\n",
    "usa_companies_df = usa_companies_df[usa_companies_df.symbol != 'WTFCM']\n",
    "usa_companies_df = usa_companies_df[usa_companies_df.symbol != 'AMTBB']\n",
    "usa_companies_df = usa_companies_df[usa_companies_df.symbol != 'BML-PH']\n",
    "usa_companies_df = usa_companies_df[usa_companies_df.symbol != 'BKUT']\n",
    "usa_companies_df = usa_companies_df[usa_companies_df.symbol != 'BKUTK']\n",
    "usa_companies_df = usa_companies_df[usa_companies_df.symbol != 'CKNQP']\n",
    "usa_companies_df = usa_companies_df[usa_companies_df.symbol != 'FMBN']\n",
    "usa_companies_df = usa_companies_df[usa_companies_df.symbol != 'WTFCM']\n",
    "usa_companies_df = usa_companies_df[usa_companies_df.symbol != 'WTBFA']\n",
    "usa_companies_df = usa_companies_df[usa_companies_df.symbol != 'VLYPO']\n",
    "usa_companies_df = usa_companies_df[usa_companies_df.symbol != 'VLYPP']\n",
    "usa_companies_df = usa_companies_df[usa_companies_df.symbol != 'TSCAP']\n",
    "usa_companies_df = usa_companies_df[usa_companies_df.symbol != 'TSCBP']\n",
    "usa_companies_df = usa_companies_df[usa_companies_df.symbol != 'PBCTP']\n",
    "usa_companies_df = usa_companies_df[usa_companies_df.symbol != 'UNPA']\n",
    "usa_companies_df = usa_companies_df[usa_companies_df.symbol != 'USBK']\n",
    "usa_companies_df.shape"
   ]
  },
  {
   "cell_type": "markdown",
   "metadata": {},
   "source": [
    "### Replace badly selected duplicates"
   ]
  },
  {
   "cell_type": "code",
   "execution_count": 313,
   "metadata": {},
   "outputs": [],
   "source": [
    "# BANC\n",
    "replace_bad = dict()\n",
    "bad = set_dictionary(replace_bad, yf.Ticker('BANC').info, 'BANC', 1.0)"
   ]
  },
  {
   "cell_type": "code",
   "execution_count": 314,
   "metadata": {},
   "outputs": [],
   "source": [
    "usa_companies_df.loc[usa_companies_df.index[usa_companies_df['symbol'] == 'BANC'].tolist()[0]] = pd.Series(bad['BANC'])"
   ]
  },
  {
   "cell_type": "markdown",
   "metadata": {},
   "source": [
    "### Fill some empty values"
   ]
  },
  {
   "cell_type": "code",
   "execution_count": 315,
   "metadata": {},
   "outputs": [
    {
     "data": {
      "text/plain": [
       "['PNC',\n",
       " 'FITB',\n",
       " 'GBCI',\n",
       " 'UMPQ',\n",
       " 'UBSI',\n",
       " 'BKU',\n",
       " 'ISBC',\n",
       " 'FULT',\n",
       " 'PFS',\n",
       " 'EGBN',\n",
       " 'FINN',\n",
       " 'BRKL',\n",
       " 'FBNC',\n",
       " 'CHCO',\n",
       " 'PFC',\n",
       " 'FMBL',\n",
       " 'WTBFB',\n",
       " 'PFBC',\n",
       " 'ALTA',\n",
       " 'FBAK',\n",
       " 'HIFS',\n",
       " 'NASB',\n",
       " 'STXB',\n",
       " 'OSBC',\n",
       " 'BHRB',\n",
       " 'AMBZ',\n",
       " 'PCB',\n",
       " 'BYFC',\n",
       " 'ALPIB',\n",
       " 'CSHX',\n",
       " 'INBK',\n",
       " 'FSBW',\n",
       " 'NBN',\n",
       " 'EXSR',\n",
       " 'FMAO',\n",
       " 'PKBK',\n",
       " 'JMSB',\n",
       " 'ISTR',\n",
       " 'SBKK',\n",
       " 'HSBI',\n",
       " 'SCZC',\n",
       " 'HLAN',\n",
       " 'MCBI',\n",
       " 'VLLX',\n",
       " 'FFMH',\n",
       " 'BFCC',\n",
       " 'OVLY',\n",
       " 'AVBH',\n",
       " 'PBAM',\n",
       " 'CFST',\n",
       " 'LYBC',\n",
       " 'CPKF',\n",
       " 'ADKT',\n",
       " 'COSO',\n",
       " 'CHBH',\n",
       " 'CFBK',\n",
       " 'PROV',\n",
       " 'CBBI',\n",
       " 'PFLC',\n",
       " 'FUNC',\n",
       " 'FXLG',\n",
       " 'FETM',\n",
       " 'TYFG',\n",
       " 'UBAB',\n",
       " 'CCFN',\n",
       " 'CWBK',\n",
       " 'PSBQ',\n",
       " 'SABK',\n",
       " 'UBNC',\n",
       " 'ARBV',\n",
       " 'SSBI',\n",
       " 'CYVF',\n",
       " 'NODB',\n",
       " 'HARL',\n",
       " 'FBTT',\n",
       " 'BBBK',\n",
       " 'CNBB',\n",
       " 'CZBC',\n",
       " 'FDVA',\n",
       " 'SOMC',\n",
       " 'DIMC',\n",
       " 'HONT',\n",
       " 'NWYF',\n",
       " 'AQFH',\n",
       " 'CFCX',\n",
       " 'LFGP',\n",
       " 'WBBW',\n",
       " 'KTHN',\n",
       " 'PBNK',\n",
       " 'PTBS',\n",
       " 'SEBC',\n",
       " 'CBKM',\n",
       " 'MYBF',\n",
       " 'WAYN',\n",
       " 'SRYB',\n",
       " 'CNAF',\n",
       " 'CTUY',\n",
       " 'BVFL',\n",
       " 'CBWA',\n",
       " 'NIDB',\n",
       " 'FBVA',\n",
       " 'IOFB',\n",
       " 'IBTN',\n",
       " 'PPBN',\n",
       " 'GNRV',\n",
       " 'CULL',\n",
       " 'RYFL',\n",
       " 'MVLY',\n",
       " 'ORPB',\n",
       " 'HCBC',\n",
       " 'FCOB',\n",
       " 'FSRL',\n",
       " 'ESBK',\n",
       " 'OTTW',\n",
       " 'BORT',\n",
       " 'PSBP',\n",
       " 'FBSI',\n",
       " 'STBI',\n",
       " 'MDVT',\n",
       " 'RWCB',\n",
       " 'EQFN',\n",
       " 'MCHT',\n",
       " 'OSBK',\n",
       " 'QNTO',\n",
       " 'MNBP',\n",
       " 'HRRB',\n",
       " 'BKOR',\n",
       " 'PFOH',\n",
       " 'SVVB',\n",
       " 'SLRK',\n",
       " 'FRSB',\n",
       " 'CCVS',\n",
       " 'TMAK',\n",
       " 'DWNX',\n",
       " 'MSBC',\n",
       " 'EFBI',\n",
       " 'EGDW',\n",
       " 'BSPA',\n",
       " 'CYFL',\n",
       " 'CEFC',\n",
       " 'PVBK',\n",
       " 'CBOF',\n",
       " 'BRBW',\n",
       " 'APLO',\n",
       " 'BCAL',\n",
       " 'WCFB',\n",
       " 'BSCA',\n",
       " 'FNFI',\n",
       " 'HLFN',\n",
       " 'GTPS',\n",
       " 'SNNF',\n",
       " 'TRUX',\n",
       " 'CAIB',\n",
       " 'FBPI',\n",
       " 'GVFF',\n",
       " 'RBAZ',\n",
       " 'ALBY',\n",
       " 'ESBS',\n",
       " 'CCBC',\n",
       " 'HWIS',\n",
       " 'ELMA',\n",
       " 'HCBN',\n",
       " 'RVCB',\n",
       " 'FFWC',\n",
       " 'HVLM',\n",
       " 'CRSB',\n",
       " 'LPBC',\n",
       " 'PBCO',\n",
       " 'BLHK',\n",
       " 'CBOBA',\n",
       " 'FHLB',\n",
       " 'TDCB',\n",
       " 'ABBB',\n",
       " 'USMT',\n",
       " 'ORBN',\n",
       " 'GSBX',\n",
       " 'CTBK',\n",
       " 'OXBC',\n",
       " 'ACBCQ',\n",
       " 'FSWA',\n",
       " 'NXTYQ',\n",
       " 'TYBT',\n",
       " 'OHBK',\n",
       " 'CKCB',\n",
       " 'PEBN']"
      ]
     },
     "execution_count": 315,
     "metadata": {},
     "output_type": "execute_result"
    }
   ],
   "source": [
    "list(usa_companies_df[usa_companies_df['operatingCashflow'] == '']['symbol'])"
   ]
  },
  {
   "cell_type": "code",
   "execution_count": 316,
   "metadata": {},
   "outputs": [],
   "source": [
    "usa_companies_df.loc[usa_companies_df['symbol'] == 'PNC', ['operatingCashflow']] = 342460000\n",
    "usa_companies_df.loc[usa_companies_df['symbol'] == 'FITB', ['operatingCashflow']] = -1460000000\n",
    "usa_companies_df.loc[usa_companies_df['symbol'] == 'GBCI', ['operatingCashflow']] = 4520000000\n",
    "usa_companies_df.loc[usa_companies_df['symbol'] == 'UMPQ', ['operatingCashflow']] = 525060000\n",
    "usa_companies_df.loc[usa_companies_df['symbol'] == 'UBSI', ['operatingCashflow']] = 420310000\n",
    "usa_companies_df.loc[usa_companies_df['symbol'] == 'BKU', ['operatingCashflow']] = 1120000000\n",
    "usa_companies_df.loc[usa_companies_df['symbol'] == 'ISBC', ['operatingCashflow']] = 481290000"
   ]
  },
  {
   "cell_type": "code",
   "execution_count": 317,
   "metadata": {},
   "outputs": [
    {
     "data": {
      "text/plain": [
       "(644, 39)"
      ]
     },
     "execution_count": 317,
     "metadata": {},
     "output_type": "execute_result"
    }
   ],
   "source": [
    "usa_companies_df.shape"
   ]
  },
  {
   "cell_type": "markdown",
   "metadata": {},
   "source": [
    "## Save all dataset to a csv"
   ]
  },
  {
   "cell_type": "code",
   "execution_count": 320,
   "metadata": {},
   "outputs": [],
   "source": [
    "save_to_csv(usa_companies_df, 'banks_usa.csv')"
   ]
  },
  {
   "cell_type": "code",
   "execution_count": null,
   "metadata": {},
   "outputs": [],
   "source": []
  }
 ],
 "metadata": {
  "kernelspec": {
   "display_name": "Python 3",
   "language": "python",
   "name": "python3"
  },
  "language_info": {
   "codemirror_mode": {
    "name": "ipython",
    "version": 3
   },
   "file_extension": ".py",
   "mimetype": "text/x-python",
   "name": "python",
   "nbconvert_exporter": "python",
   "pygments_lexer": "ipython3",
   "version": "3.8.5"
  }
 },
 "nbformat": 4,
 "nbformat_minor": 4
}
