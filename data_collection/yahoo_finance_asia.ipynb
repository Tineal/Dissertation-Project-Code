{
 "cells": [
  {
   "cell_type": "markdown",
   "metadata": {},
   "source": [
    "## Yahoo Finance"
   ]
  },
  {
   "cell_type": "code",
   "execution_count": 3,
   "metadata": {},
   "outputs": [],
   "source": [
    "import yfinance as yf\n",
    "import pandas as pd\n",
    "from bs4 import BeautifulSoup\n",
    "import re\n",
    "from selenium import webdriver\n",
    "import chromedriver_binary\n",
    "import string\n",
    "import datetime\n",
    "from forex_python.converter import CurrencyRates\n",
    "pd.options.display.float_format = '{:.3f}'.format"
   ]
  },
  {
   "cell_type": "markdown",
   "metadata": {},
   "source": [
    "### Functions for screener results and getting data"
   ]
  },
  {
   "cell_type": "code",
   "execution_count": 4,
   "metadata": {},
   "outputs": [],
   "source": [
    "def get_rate(from_currency, to_currency):\n",
    "    curr_rates = CurrencyRates()\n",
    "    return curr_rates.get_rate(from_currency.upper(), to_currency.upper())\n",
    "\n",
    "def convert(value, rate):\n",
    "    if value:\n",
    "        return value * rate\n",
    "    else:\n",
    "        return ''"
   ]
  },
  {
   "cell_type": "code",
   "execution_count": 5,
   "metadata": {},
   "outputs": [],
   "source": [
    "def set_dictionary(companies_info, ticker_info, symbol, curr_rate):\n",
    "    companies_info[symbol] = {\n",
    "        'symbol'           : ticker_info['symbol'] if 'symbol' in ticker_info else '',\n",
    "        'shortName'        : ticker_info['shortName'] if 'shortName' in ticker_info else '',\n",
    "        'country'          : ticker_info['country'] if 'country' in ticker_info else '',\n",
    "        'averageVolume'    : ticker_info['averageVolume'] if 'averageVolume' in ticker_info else '',\n",
    "        'currentPrice'     : ticker_info['currentPrice'] if 'currentPrice' in ticker_info else '',\n",
    "        'currency'         : ticker_info['currency'] if 'currency' in ticker_info else '',\n",
    "        'sector'           : ticker_info['sector'] if 'sector' in ticker_info else '',\n",
    "        'industry'         : ticker_info['industry'] if 'industry' in ticker_info else '',\n",
    "        'profitMargins'    : ticker_info['profitMargins'] if 'profitMargins' in ticker_info else '',\n",
    "        'operatingMargins' : ticker_info['operatingMargins'] if 'operatingMargins' in ticker_info else '',\n",
    "        'operatingCashflow': convert(ticker_info['operatingCashflow'],curr_rate) if 'operatingCashflow' in ticker_info else '',\n",
    "        'returnOnAssets'   : ticker_info['returnOnAssets'] if 'returnOnAssets' in ticker_info else '',\n",
    "        'returnOnEquity'   : ticker_info['returnOnEquity'] if 'returnOnEquity' in ticker_info else '',\n",
    "        'trailingEps'      : convert(ticker_info['trailingEps'],curr_rate) if 'trailingEps' in ticker_info else '',\n",
    "        'totalRevenue'     : convert(ticker_info['totalRevenue'],curr_rate) if 'totalRevenue' in ticker_info else '',\n",
    "        'revenuePerShare'  : convert(ticker_info['revenuePerShare'],curr_rate) if 'revenuePerShare' in ticker_info else '',\n",
    "        'revenueGrowth'    : ticker_info['revenueGrowth'] if 'revenueGrowth' in ticker_info else '',\n",
    "        'grossProfits'     : convert(ticker_info['grossProfits'],curr_rate) if 'grossProfits' in ticker_info else '',\n",
    "        'netIncomeToCommon': convert(ticker_info['netIncomeToCommon'],curr_rate) if 'netIncomeToCommon' in ticker_info else '',\n",
    "        'operatingMargins' : ticker_info['operatingMargins'] if 'operatingMargins' in ticker_info else '',\n",
    "        'totalCash'        : convert(ticker_info['totalCash'],curr_rate) if 'totalCash' in ticker_info else '',\n",
    "        'totalCashPerShare': convert(ticker_info['totalCashPerShare'],curr_rate) if 'totalCashPerShare' in ticker_info else '',\n",
    "        'totalDebt'        : convert(ticker_info['totalDebt'],curr_rate) if 'totalDebt' in ticker_info else '',\n",
    "        'bookValue'        : ticker_info['bookValue'] if 'bookValue' in ticker_info else '',\n",
    "        'marketCap'        : convert(ticker_info['marketCap'],curr_rate) if 'marketCap' in ticker_info else '',\n",
    "        'enterpriseValue'  : convert(ticker_info['enterpriseValue'],curr_rate) if 'enterpriseValue' in ticker_info else '',\n",
    "        'trailingPE'       : ticker_info['trailingPE'] if 'trailingPE' in ticker_info else '',\n",
    "        'earningsQuarterlyGrowth': ticker_info['earningsQuarterlyGrowth'] if 'earningsQuarterlyGrowth' in ticker_info else '',\n",
    "        'forwardPE'              : ticker_info['forwardPE'] if 'forwardPE' in ticker_info else '',\n",
    "        'pegRatio'               : ticker_info['pegRatio'] if 'pegRatio' in ticker_info else '',\n",
    "        'priceToSalesTrailing12Months': ticker_info['priceToSalesTrailing12Months'] if 'priceToSalesTrailing12Months' in ticker_info else '',\n",
    "        'priceToBook'         : ticker_info['priceToBook'] if 'priceToBook' in ticker_info else '',\n",
    "        'enterpriseToRevenue' : ticker_info['enterpriseToRevenue'] if 'enterpriseToRevenue' in ticker_info else '',\n",
    "        'beta'                : ticker_info['beta'] if 'beta' in ticker_info else '',\n",
    "        'fiftyTwoWeekHigh'    : convert(ticker_info['fiftyTwoWeekHigh'],curr_rate) if 'fiftyTwoWeekHigh' in ticker_info else '',\n",
    "        'fiftyTwoWeekLow'     : convert(ticker_info['fiftyTwoWeekLow'],curr_rate) if 'fiftyTwoWeekLow' in ticker_info else '',\n",
    "        'fiftyDayAverage'     : convert(ticker_info['fiftyDayAverage'],curr_rate) if 'fiftyDayAverage' in ticker_info else '',\n",
    "        'twoHundredDayAverage': convert(ticker_info['twoHundredDayAverage'],curr_rate) if 'twoHundredDayAverage' in ticker_info else '',\n",
    "        'trailingAnnualDividendYield' : ticker_info['trailingAnnualDividendYield'] if 'trailingAnnualDividendYield' in ticker_info else '',\n",
    "        'fiveYearAvgDividendYield'    : ticker_info['fiveYearAvgDividendYield'] if 'fiveYearAvgDividendYield' in ticker_info else ''\n",
    "    }\n",
    "    \n",
    "    return companies_info"
   ]
  },
  {
   "cell_type": "code",
   "execution_count": 6,
   "metadata": {},
   "outputs": [],
   "source": [
    "\"\"\"\n",
    "function for scraping screener results which takes two parameters url and currency,\n",
    "so that we can reuse it for different countries screener \n",
    "\"\"\"\n",
    "def get_companies(url):\n",
    "    driver = webdriver.Chrome()\n",
    "    driver.get(url)\n",
    "    html = driver.execute_script('return document.body.innerHTML;')\n",
    "    soup = BeautifulSoup(html,'html.parser')\n",
    "    results = soup.find('table').find_all('tr')[1:]\n",
    "    companies_results = []\n",
    "    for tr in results:\n",
    "        td = tr.find('td')\n",
    "        companies_results.append(td.find('a').text)\n",
    "    return companies_results\n",
    "\n",
    "\n",
    "\"\"\"\n",
    "Function for getting company financial informations from scraping results.\n",
    "It takes parameter currency which is involved in a conditional. This conditional excludes stocks\n",
    "with different currency from that of country/continent we're scraping.\n",
    "\"\"\"\n",
    "def get_companies_info(companies_results, currency, curr_rate, country):\n",
    "    companies_info = dict() \n",
    "    for i in range(0, len(companies_results)):\n",
    "        ct =  yf.Ticker(companies_results[i])\n",
    "        print(ct.info['symbol'], end=' ')\n",
    "        companies_info = set_dictionary(companies_info, ct.info, ct.info['symbol'],  curr_rate)\n",
    "    return companies_info\n",
    "            \n",
    "def set_dataframe(companies_info):\n",
    "    return pd.DataFrame(companies_info)\n",
    "\n",
    "def save_to_csv(dataframe, filename):\n",
    "    dataframe.to_csv(filename, sep=',', encoding='utf-8-sig', index=False)"
   ]
  },
  {
   "cell_type": "code",
   "execution_count": 7,
   "metadata": {},
   "outputs": [],
   "source": [
    "# filter\n",
    "def filter_info(given_currency, given_country, country_info):\n",
    "    info = []\n",
    "    info = [item for item in country_info if item['country'] == given_country]\n",
    "    info1 = [item for item in info if item['currency'] == given_currency]\n",
    "    return info1"
   ]
  },
  {
   "cell_type": "markdown",
   "metadata": {},
   "source": [
    "# Asian Countries"
   ]
  },
  {
   "cell_type": "markdown",
   "metadata": {},
   "source": [
    "## Taiwan"
   ]
  },
  {
   "cell_type": "code",
   "execution_count": 68,
   "metadata": {},
   "outputs": [],
   "source": [
    "taiwan_url = 'https://finance.yahoo.com/screener/unsaved/3decab44-9275-48c0-ac94-fdd64f784504?dependentField=sector&dependentValues=Financial%20Services&offset=0&count=100'\n",
    "taiwan_results = get_companies(taiwan_url)"
   ]
  },
  {
   "cell_type": "code",
   "execution_count": 70,
   "metadata": {},
   "outputs": [],
   "source": [
    "taiwan_results = ['2886.TW',\n",
    " '2884.TW',\n",
    " '2885.TW',\n",
    " '5880.TW',\n",
    " '2892.TW',\n",
    " '2880.TW',\n",
    " '2887.TW',\n",
    " '5876.TW',\n",
    " '2801.TW',\n",
    " '2887F.TW',\n",
    " '2890.TW',\n",
    " '2887E.TW',\n",
    " '2834.TW',\n",
    " '2812.TW',\n",
    " '2809.TW',\n",
    " '2838.TW',\n",
    " '2845.TW',\n",
    " '2849.TW',\n",
    " '2838A.TW',\n",
    " '2897.TW',\n",
    " '2897A.TW',\n",
    " '2836.TW',\n",
    " '5863.TWO',\n",
    " '2836A.TW']"
   ]
  },
  {
   "cell_type": "code",
   "execution_count": 72,
   "metadata": {},
   "outputs": [],
   "source": [
    "# c = CurrencyRates()\n",
    "# taiwan_rate = c.get_rate('TWD', 'USD')\n",
    "taiwan_rate = 0.036"
   ]
  },
  {
   "cell_type": "code",
   "execution_count": 73,
   "metadata": {},
   "outputs": [
    {
     "name": "stdout",
     "output_type": "stream",
     "text": [
      "2886.TW 2884.TW 2885.TW 5880.TW 2892.TW 2880.TW 2887.TW 5876.TW 2801.TW 2887F.TW 2890.TW 2887E.TW 2834.TW 2812.TW 2809.TW 2838.TW 2845.TW 2849.TW 2838A.TW 2897.TW 2897A.TW 2836.TW 5863.TWO 2836A.TW "
     ]
    }
   ],
   "source": [
    "taiwan_companies_info = get_companies_info(taiwan_results, 'TWD', taiwan_rate, 'Taiwan')"
   ]
  },
  {
   "cell_type": "code",
   "execution_count": 74,
   "metadata": {},
   "outputs": [
    {
     "data": {
      "text/plain": [
       "(24, 24)"
      ]
     },
     "execution_count": 74,
     "metadata": {},
     "output_type": "execute_result"
    }
   ],
   "source": [
    "taiwan_companies_info2 = filter_info('TWD', 'Taiwan', taiwan_companies_info.values())\n",
    "len(taiwan_companies_info), len(taiwan_companies_info2)"
   ]
  },
  {
   "cell_type": "code",
   "execution_count": 77,
   "metadata": {},
   "outputs": [],
   "source": [
    "taiwan_companies_df = set_dataframe(taiwan_companies_info2)"
   ]
  },
  {
   "cell_type": "code",
   "execution_count": 78,
   "metadata": {},
   "outputs": [],
   "source": [
    "save_to_csv(taiwan_companies_df, 'taiwan.csv')"
   ]
  },
  {
   "cell_type": "markdown",
   "metadata": {},
   "source": [
    "## China"
   ]
  },
  {
   "cell_type": "code",
   "execution_count": 14,
   "metadata": {},
   "outputs": [],
   "source": [
    "# china_url = 'https://finance.yahoo.com/screener/unsaved/d0302f81-1ed9-41ec-8ebb-56c296f44ce5?dependentField=sector&dependentValues=Financial%20Services&offset=0&count=100'\n",
    "# china_results = get_companies(china_url)"
   ]
  },
  {
   "cell_type": "code",
   "execution_count": 1,
   "metadata": {},
   "outputs": [],
   "source": [
    "china_results = ['601398.SS',\n",
    " '600036.SS',\n",
    " '601939.SS',\n",
    " '601288.SS',\n",
    " '601988.SS',\n",
    " '601658.SS',\n",
    " '601166.SS',\n",
    " '000001.SZ',\n",
    " '601328.SS',\n",
    " '600000.SS',\n",
    " '002142.SZ',\n",
    " '601998.SS',\n",
    " '601818.SS',\n",
    " '600016.SS',\n",
    " '601229.SS',\n",
    " '601169.SS',\n",
    " '601009.SS',\n",
    " '600926.SS',\n",
    " '600919.SS',\n",
    " '600015.SS',\n",
    " '601825.SS',\n",
    " '601916.SS',\n",
    " '601838.SS',\n",
    " '601077.SS',\n",
    " '601577.SS',\n",
    " '601997.SS',\n",
    " '002966.SZ',\n",
    " '002936.SZ',\n",
    " '601187.SS',\n",
    " '002958.SZ',\n",
    " '600928.SS',\n",
    " '002948.SZ',\n",
    " '601963.SS',\n",
    " '601128.SS',\n",
    " '601860.SS',\n",
    " '600908.SS',\n",
    " '002839.SZ',\n",
    " '603323.SS',\n",
    " '002807.SZ',\n",
    " '601528.SS',\n",
    " '601665.SS']"
   ]
  },
  {
   "cell_type": "code",
   "execution_count": 8,
   "metadata": {},
   "outputs": [],
   "source": [
    "c = CurrencyRates()\n",
    "china_rate = c.get_rate('CNY', 'USD')"
   ]
  },
  {
   "cell_type": "code",
   "execution_count": 9,
   "metadata": {
    "scrolled": true
   },
   "outputs": [
    {
     "name": "stdout",
     "output_type": "stream",
     "text": [
      "601398.SS 600036.SS 601939.SS 601288.SS 601988.SS 601658.SS 601166.SS 000001.SZ 601328.SS 600000.SS 002142.SZ 601998.SS 601818.SS 600016.SS 601229.SS 601169.SS 601009.SS 600926.SS 600919.SS 600015.SS 601825.SS 601916.SS 601838.SS 601077.SS 601577.SS 601997.SS 002966.SZ 002936.SZ 601187.SS 002958.SZ 600928.SS 002948.SZ 601963.SS 601128.SS 601860.SS 600908.SS 002839.SZ 603323.SS 002807.SZ 601528.SS 601665.SS "
     ]
    }
   ],
   "source": [
    "china_companies_info = get_companies_info(china_results, 'CNY', china_rate, 'China')"
   ]
  },
  {
   "cell_type": "code",
   "execution_count": 13,
   "metadata": {},
   "outputs": [
    {
     "data": {
      "text/plain": [
       "(41, 38)"
      ]
     },
     "execution_count": 13,
     "metadata": {},
     "output_type": "execute_result"
    }
   ],
   "source": [
    "china_companies_info2 = filter_info('CNY', 'China', china_companies_info.values())\n",
    "len(china_companies_info), len(china_companies_info2)"
   ]
  },
  {
   "cell_type": "code",
   "execution_count": 14,
   "metadata": {},
   "outputs": [],
   "source": [
    "china_companies_df = set_dataframe(china_companies_info2)"
   ]
  },
  {
   "cell_type": "code",
   "execution_count": 15,
   "metadata": {},
   "outputs": [],
   "source": [
    "save_to_csv(china_companies_df, 'china.csv')"
   ]
  },
  {
   "cell_type": "markdown",
   "metadata": {},
   "source": [
    "## Singapore"
   ]
  },
  {
   "cell_type": "code",
   "execution_count": 32,
   "metadata": {},
   "outputs": [],
   "source": [
    "# singapore_url = 'https://finance.yahoo.com/screener/unsaved/3ebd553c-f625-4ab6-a6e5-753092cbede1?dependentField=sector&dependentValues=Financial%20Services'\n",
    "# singapore_results = get_companies(singapore_url)"
   ]
  },
  {
   "cell_type": "code",
   "execution_count": 16,
   "metadata": {},
   "outputs": [],
   "source": [
    "singapore_results = ['D05.SI', 'O39.SI', 'U11.SI']"
   ]
  },
  {
   "cell_type": "code",
   "execution_count": 17,
   "metadata": {},
   "outputs": [],
   "source": [
    "c = CurrencyRates()\n",
    "singapore_rate = c.get_rate('SGD', 'USD')"
   ]
  },
  {
   "cell_type": "code",
   "execution_count": 18,
   "metadata": {},
   "outputs": [
    {
     "name": "stdout",
     "output_type": "stream",
     "text": [
      "D05.SI O39.SI U11.SI "
     ]
    }
   ],
   "source": [
    "singapore_companies_info = get_companies_info(singapore_results, 'SGD', singapore_rate, 'Singapore')"
   ]
  },
  {
   "cell_type": "code",
   "execution_count": 19,
   "metadata": {},
   "outputs": [
    {
     "data": {
      "text/plain": [
       "(3, 3)"
      ]
     },
     "execution_count": 19,
     "metadata": {},
     "output_type": "execute_result"
    }
   ],
   "source": [
    "singapore_companies_info2 = filter_info('SGD', 'Singapore', singapore_companies_info.values())\n",
    "len(singapore_companies_info), len(singapore_companies_info2)"
   ]
  },
  {
   "cell_type": "code",
   "execution_count": 20,
   "metadata": {},
   "outputs": [],
   "source": [
    "singapore_companies_df = set_dataframe(singapore_companies_info2)"
   ]
  },
  {
   "cell_type": "code",
   "execution_count": 21,
   "metadata": {},
   "outputs": [],
   "source": [
    "save_to_csv(singapore_companies_df, 'singapore.csv')"
   ]
  },
  {
   "cell_type": "markdown",
   "metadata": {},
   "source": [
    "## South Korea"
   ]
  },
  {
   "cell_type": "code",
   "execution_count": 12,
   "metadata": {
    "scrolled": true
   },
   "outputs": [],
   "source": [
    "# south_korea_url = 'https://finance.yahoo.com/screener/unsaved/b5e25f9a-cd0a-46ba-b81d-2009b47fed72?dependentField=sector&dependentValues=Financial%20Services'\n",
    "# south_korea_results = get_companies(south_korea_url)"
   ]
  },
  {
   "cell_type": "code",
   "execution_count": 22,
   "metadata": {},
   "outputs": [],
   "source": [
    "south_korea_results = ['323410.KS','105560.KS','055550.KS','086790.KS','316140.KS','024110.KS','138930.KS','175330.KS','139130.KS','010050.KS','006220.KS']"
   ]
  },
  {
   "cell_type": "code",
   "execution_count": 23,
   "metadata": {},
   "outputs": [],
   "source": [
    "c = CurrencyRates()\n",
    "korea_rate = c.get_rate('KRW', 'USD')"
   ]
  },
  {
   "cell_type": "code",
   "execution_count": 24,
   "metadata": {},
   "outputs": [
    {
     "name": "stdout",
     "output_type": "stream",
     "text": [
      "323410.KS 105560.KS 055550.KS 086790.KS 316140.KS 024110.KS 138930.KS 175330.KS 139130.KS 010050.KS 006220.KS "
     ]
    }
   ],
   "source": [
    "south_korea_companies_info = get_companies_info(south_korea_results, 'KRW', korea_rate, 'South Korea')"
   ]
  },
  {
   "cell_type": "code",
   "execution_count": 29,
   "metadata": {},
   "outputs": [
    {
     "data": {
      "text/plain": [
       "(11, 10)"
      ]
     },
     "execution_count": 29,
     "metadata": {},
     "output_type": "execute_result"
    }
   ],
   "source": [
    "south_korea_companies_info2 = filter_info('KRW', 'South Korea', south_korea_companies_info.values())\n",
    "len(south_korea_companies_info), len(south_korea_companies_info2)"
   ]
  },
  {
   "cell_type": "code",
   "execution_count": 30,
   "metadata": {},
   "outputs": [],
   "source": [
    "south_korea_companies_df = set_dataframe(south_korea_companies_info2)"
   ]
  },
  {
   "cell_type": "code",
   "execution_count": 31,
   "metadata": {},
   "outputs": [],
   "source": [
    "save_to_csv(south_korea_companies_df, 'south_korea.csv')"
   ]
  },
  {
   "cell_type": "markdown",
   "metadata": {},
   "source": [
    "## Japan"
   ]
  },
  {
   "cell_type": "code",
   "execution_count": 146,
   "metadata": {},
   "outputs": [],
   "source": [
    "# japan_url = 'https://finance.yahoo.com/screener/unsaved/ec4095f6-4b0b-4485-a1b5-0084d48018bb?dependentField=sector&dependentValues=Financial%20Services&offset=0&count=100'\n",
    "# japan_results = get_companies(japan_url)"
   ]
  },
  {
   "cell_type": "code",
   "execution_count": 36,
   "metadata": {},
   "outputs": [],
   "source": [
    "japan_results = ['8306.T',\n",
    " '8316.T',\n",
    " '8411.T',\n",
    " '6178.T',\n",
    " '7182.T',\n",
    " '8421.T',\n",
    " '8309.T',\n",
    " '8308.T',\n",
    " '7186.T',\n",
    " '8331.T',\n",
    " '8355.T',\n",
    " '8369.T',\n",
    " '8303.T',\n",
    " '8354.T',\n",
    " '8304.T',\n",
    " '8410.T',\n",
    " '7167.T',\n",
    " '7337.T',\n",
    " '8359.T',\n",
    " '8385.T',\n",
    " '7180.T',\n",
    " '8382.T',\n",
    " '8418.T',\n",
    " '8334.T',\n",
    " '7327.T',\n",
    " '8377.T',\n",
    " '8370.T',\n",
    " '7189.T',\n",
    " '8524.T',\n",
    " '8341.T',\n",
    " '8388.T',\n",
    " '8366.T',\n",
    " '8358.T',\n",
    " '8381.T',\n",
    " '8356.T',\n",
    " '8368.T',\n",
    " '8361.T',\n",
    " '8397.T',\n",
    " '8367.T',\n",
    " '8336.T',\n",
    " '8363.T',\n",
    " '8544.T',\n",
    " '8346.T',\n",
    " '8600.T',\n",
    " '8522.T',\n",
    " '7173.T',\n",
    " '8386.T',\n",
    " '8342.T',\n",
    " '8527.T',\n",
    " '8362.T',\n",
    " '7322.T',\n",
    " '8393.T',\n",
    " '8399.T',\n",
    " '8387.T',\n",
    " '8530.T',\n",
    " '8345.T',\n",
    " '8541.T',\n",
    " '8392.T',\n",
    " '8344.T',\n",
    " '8301.T',\n",
    " '8360.T',\n",
    " '8343.T',\n",
    " '8395.T',\n",
    " '8713.T',\n",
    " '8558.T',\n",
    " '7184.T',\n",
    " '8364.T',\n",
    " '8550.T',\n",
    " '8337.T',\n",
    " '8350.T',\n",
    " '7161.T',\n",
    " '8338.T',\n",
    " '8537.T',\n",
    " '8551.T',\n",
    " '8365.T',\n",
    " '8542.T',\n",
    " '8383.T',\n",
    " '8521.T',\n",
    " '8349.T',\n",
    " '8398.F',\n",
    " '8563.T',\n",
    " '8416.T',\n",
    " '8562.T',\n",
    " '8540.F',\n",
    " '8554.F',\n",
    " '8560.F',\n",
    " '7150.T',\n",
    " '8559.F']"
   ]
  },
  {
   "cell_type": "code",
   "execution_count": 37,
   "metadata": {},
   "outputs": [],
   "source": [
    "c = CurrencyRates()\n",
    "japan_rate = c.get_rate('JPY', 'USD')"
   ]
  },
  {
   "cell_type": "code",
   "execution_count": 38,
   "metadata": {},
   "outputs": [
    {
     "name": "stdout",
     "output_type": "stream",
     "text": [
      "8306.T 8316.T 8411.T 6178.T 7182.T 8421.T 8309.T 8308.T 7186.T 8331.T 8355.T 8369.T 8303.T 8354.T 8304.T 8410.T 7167.T 7337.T 8359.T 8385.T 7180.T 8382.T 8418.T 8334.T 7327.T 8377.T 8370.T 7189.T 8524.T 8341.T 8388.T 8366.T 8358.T 8381.T 8356.T 8368.T 8361.T 8397.T 8367.T 8336.T 8363.T 8544.T 8346.T 8600.T 8522.T 7173.T 8386.T 8342.T 8527.T 8362.T 7322.T 8393.T 8399.T 8387.T 8530.T 8345.T 8541.T 8392.T 8344.T 8301.T 8360.T 8343.T 8395.T 8713.T 8558.T 7184.T 8364.T 8550.T 8337.T 8350.T 7161.T 8338.T 8537.T 8551.T 8365.T 8542.T 8383.T 8521.T 8349.T 8398.F 8563.T 8416.T 8562.T 8540.F 8554.F 8560.F 7150.T 8559.F "
     ]
    }
   ],
   "source": [
    "japan_companies_info = get_companies_info(japan_results, 'JPY', japan_rate, 'Japan')"
   ]
  },
  {
   "cell_type": "code",
   "execution_count": 40,
   "metadata": {},
   "outputs": [
    {
     "data": {
      "text/plain": [
       "(88, 88)"
      ]
     },
     "execution_count": 40,
     "metadata": {},
     "output_type": "execute_result"
    }
   ],
   "source": [
    "japan_companies_info2 = filter_info('JPY', 'Japan', japan_companies_info.values())\n",
    "len(japan_companies_info), len(japan_companies_info2)"
   ]
  },
  {
   "cell_type": "code",
   "execution_count": 41,
   "metadata": {},
   "outputs": [],
   "source": [
    "japan_companies_df = set_dataframe(japan_companies_info2)"
   ]
  },
  {
   "cell_type": "code",
   "execution_count": 42,
   "metadata": {},
   "outputs": [],
   "source": [
    "save_to_csv(japan_companies_df, 'japan.csv')"
   ]
  },
  {
   "cell_type": "markdown",
   "metadata": {},
   "source": [
    "## Hong Kong"
   ]
  },
  {
   "cell_type": "code",
   "execution_count": 28,
   "metadata": {},
   "outputs": [],
   "source": [
    "# hk_url = 'https://finance.yahoo.com/screener/unsaved/c63e1aab-fbb9-44d9-ac16-c06a9d13f12e?dependentField=sector&dependentValues=Financial%20Services&offset=0&count=100'\n",
    "# hk_results = get_companies(hk_url)"
   ]
  },
  {
   "cell_type": "code",
   "execution_count": 43,
   "metadata": {},
   "outputs": [],
   "source": [
    "hk_results = ['1398.HK',\n",
    " '3968.HK',\n",
    " '0939.HK',\n",
    " '1288.HK',\n",
    " '3988.HK',\n",
    " '0005.HK',\n",
    " '1658.HK',\n",
    " '3328.HK',\n",
    " '0011.HK',\n",
    " '2388.HK',\n",
    " '0998.HK',\n",
    " '6818.HK',\n",
    " '1988.HK',\n",
    " '2888.HK',\n",
    " '2016.HK',\n",
    " '2066.HK',\n",
    " '9668.HK',\n",
    " '3618.HK',\n",
    " '6199.HK',\n",
    " '0023.HK',\n",
    " '3698.HK',\n",
    " '1551.HK',\n",
    " '6196.HK',\n",
    " '6190.HK',\n",
    " '3866.HK',\n",
    " '1216.HK',\n",
    " '1578.HK',\n",
    " '1916.HK',\n",
    " '9677.HK',\n",
    " '2139.HK',\n",
    " '1963.HK',\n",
    " '2356.HK',\n",
    " '6138.HK',\n",
    " '2558.HK',\n",
    " '0440.HK',\n",
    " '1983.HK',\n",
    " '0626.HK']"
   ]
  },
  {
   "cell_type": "code",
   "execution_count": 45,
   "metadata": {},
   "outputs": [],
   "source": [
    "c = CurrencyRates()\n",
    "hk_rate = c.get_rate('HKD', 'USD')"
   ]
  },
  {
   "cell_type": "code",
   "execution_count": 47,
   "metadata": {},
   "outputs": [
    {
     "name": "stdout",
     "output_type": "stream",
     "text": [
      "1398.HK 3968.HK 0939.HK 1288.HK 3988.HK 0005.HK 1658.HK 3328.HK 0011.HK 2388.HK 0998.HK 6818.HK 1988.HK 2888.HK 2016.HK 2066.HK 9668.HK 3618.HK 6199.HK 0023.HK 3698.HK 1551.HK 6196.HK 6190.HK 3866.HK 1216.HK 1578.HK 1916.HK 9677.HK 2139.HK 1963.HK 2356.HK 6138.HK 2558.HK 0440.HK 1983.HK 0626.HK "
     ]
    }
   ],
   "source": [
    "hk_companies_info = get_companies_info(hk_results, 'HKD', hk_rate, 'Hong Kong')"
   ]
  },
  {
   "cell_type": "code",
   "execution_count": 48,
   "metadata": {},
   "outputs": [
    {
     "data": {
      "text/plain": [
       "(37, 6)"
      ]
     },
     "execution_count": 48,
     "metadata": {},
     "output_type": "execute_result"
    }
   ],
   "source": [
    "hk_companies_info2 = filter_info('HKD', 'Hong Kong', hk_companies_info.values())\n",
    "len(hk_companies_info), len(hk_companies_info2)"
   ]
  },
  {
   "cell_type": "code",
   "execution_count": 49,
   "metadata": {},
   "outputs": [],
   "source": [
    "hk_companies_df = set_dataframe(hk_companies_info2)"
   ]
  },
  {
   "cell_type": "code",
   "execution_count": 50,
   "metadata": {},
   "outputs": [],
   "source": [
    "save_to_csv(hk_companies_df, 'hong_kong.csv')"
   ]
  },
  {
   "cell_type": "markdown",
   "metadata": {},
   "source": [
    "## Qatar"
   ]
  },
  {
   "cell_type": "code",
   "execution_count": 7,
   "metadata": {},
   "outputs": [],
   "source": [
    "# qatar_url = 'https://finance.yahoo.com/screener/unsaved/d4779638-a59f-4361-9f10-2f0db9513a90?dependentField=sector&dependentValues=Financial%20Services'\n",
    "# qatar_results = get_companies(qatar_url)"
   ]
  },
  {
   "cell_type": "code",
   "execution_count": 51,
   "metadata": {},
   "outputs": [],
   "source": [
    "qatar_results = ['QNBK.QA',\n",
    " 'QIBK.QA',\n",
    " 'MARK.QA',\n",
    " 'CBQK.QA',\n",
    " 'QIIK.QA',\n",
    " 'ABQK.QA',\n",
    " 'DHBK.QA',\n",
    " 'KCBK.QA',\n",
    " 'QFBQ.QA']"
   ]
  },
  {
   "cell_type": "code",
   "execution_count": 52,
   "metadata": {},
   "outputs": [],
   "source": [
    "c = CurrencyRates()\n",
    "# qatar_rate = c.get_rate('QAR', 'USD')\n",
    "qatar_rate = 0.28"
   ]
  },
  {
   "cell_type": "code",
   "execution_count": 53,
   "metadata": {},
   "outputs": [
    {
     "name": "stdout",
     "output_type": "stream",
     "text": [
      "QNBK.QA QIBK.QA MARK.QA CBQK.QA QIIK.QA ABQK.QA DHBK.QA KCBK.QA QFBQ.QA "
     ]
    }
   ],
   "source": [
    "qatar_companies_info = get_companies_info(qatar_results, 'QAR', qatar_rate, 'Qatar')"
   ]
  },
  {
   "cell_type": "code",
   "execution_count": 54,
   "metadata": {},
   "outputs": [
    {
     "data": {
      "text/plain": [
       "(9, 9)"
      ]
     },
     "execution_count": 54,
     "metadata": {},
     "output_type": "execute_result"
    }
   ],
   "source": [
    "qatar_companies_info2 = filter_info('QAR', 'Qatar', qatar_companies_info.values())\n",
    "len(qatar_companies_info), len(qatar_companies_info2)"
   ]
  },
  {
   "cell_type": "code",
   "execution_count": 55,
   "metadata": {},
   "outputs": [],
   "source": [
    "qatar_companies_df = set_dataframe(qatar_companies_info2)"
   ]
  },
  {
   "cell_type": "code",
   "execution_count": 56,
   "metadata": {},
   "outputs": [],
   "source": [
    "save_to_csv(qatar_companies_df, 'qatar.csv')"
   ]
  },
  {
   "cell_type": "markdown",
   "metadata": {},
   "source": [
    "# Save all dataset to a csv"
   ]
  },
  {
   "cell_type": "code",
   "execution_count": 80,
   "metadata": {},
   "outputs": [],
   "source": [
    "twd = pd.read_csv('taiwan.csv')\n",
    "cny = pd.read_csv('china.csv')\n",
    "sgd = pd.read_csv('singapore.csv')\n",
    "jpy = pd.read_csv('japan.csv')\n",
    "krw = pd.read_csv('south_korea.csv')\n",
    "hk = pd.read_csv('hong_kong.csv')\n",
    "qar = pd.read_csv('qatar.csv')"
   ]
  },
  {
   "cell_type": "code",
   "execution_count": 81,
   "metadata": {},
   "outputs": [
    {
     "data": {
      "text/plain": [
       "(213, 213, 178, 178)"
      ]
     },
     "execution_count": 81,
     "metadata": {},
     "output_type": "execute_result"
    }
   ],
   "source": [
    "banks_tickers = taiwan_results + china_results + singapore_results + hk_results + south_korea_results + japan_results + qatar_results\n",
    "banks_info = list(taiwan_companies_info) + list(china_companies_info) + list(singapore_companies_info) + list(hk_companies_info) + list(south_korea_companies_info) + list(japan_companies_info) + list(qatar_companies_info)\n",
    "banks_filtered = taiwan_companies_info2 + china_companies_info2 + singapore_companies_info2 + hk_companies_info2 + south_korea_companies_info2 + japan_companies_info2 + qatar_companies_info2\n",
    "banks_df = pd.concat([twd,cny,sgd,jpy,krw,hk,qar], ignore_index=True)\n",
    "\n",
    "len(banks_tickers), len(banks_info), len(banks_filtered), len(banks_df)"
   ]
  },
  {
   "cell_type": "code",
   "execution_count": 82,
   "metadata": {},
   "outputs": [],
   "source": [
    "banks_df.to_csv('banks_asia.csv')"
   ]
  },
  {
   "cell_type": "code",
   "execution_count": null,
   "metadata": {},
   "outputs": [],
   "source": []
  }
 ],
 "metadata": {
  "kernelspec": {
   "display_name": "Python 3",
   "language": "python",
   "name": "python3"
  },
  "language_info": {
   "codemirror_mode": {
    "name": "ipython",
    "version": 3
   },
   "file_extension": ".py",
   "mimetype": "text/x-python",
   "name": "python",
   "nbconvert_exporter": "python",
   "pygments_lexer": "ipython3",
   "version": "3.8.5"
  }
 },
 "nbformat": 4,
 "nbformat_minor": 4
}
