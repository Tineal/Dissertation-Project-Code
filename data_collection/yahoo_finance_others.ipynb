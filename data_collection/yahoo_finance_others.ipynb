{
 "cells": [
  {
   "cell_type": "markdown",
   "metadata": {},
   "source": [
    "## Yahoo Finance"
   ]
  },
  {
   "cell_type": "code",
   "execution_count": 7,
   "metadata": {},
   "outputs": [],
   "source": [
    "import yfinance as yf\n",
    "import pandas as pd\n",
    "from bs4 import BeautifulSoup\n",
    "import re\n",
    "from selenium import webdriver\n",
    "import chromedriver_binary\n",
    "import string\n",
    "import datetime\n",
    "from forex_python.converter import CurrencyRates\n",
    "pd.options.display.float_format = '{:.3f}'.format"
   ]
  },
  {
   "cell_type": "markdown",
   "metadata": {},
   "source": [
    "### Functions for screener results and getting data"
   ]
  },
  {
   "cell_type": "code",
   "execution_count": 29,
   "metadata": {},
   "outputs": [],
   "source": [
    "def get_rate(from_currency, to_currency):\n",
    "    curr_rates = CurrencyRates()\n",
    "    return curr_rates.get_rate(from_currency.upper(), to_currency.upper())\n",
    "\n",
    "def convert(value, rate):\n",
    "    if value:\n",
    "        return value * rate\n",
    "    else:\n",
    "        return ''"
   ]
  },
  {
   "cell_type": "code",
   "execution_count": 30,
   "metadata": {},
   "outputs": [],
   "source": [
    "def set_dictionary(companies_info, ticker_info, symbol, curr_rate):\n",
    "    companies_info[symbol] = {\n",
    "        'symbol'           : ticker_info['symbol'] if 'symbol' in ticker_info else '',\n",
    "        'shortName'        : ticker_info['shortName'] if 'shortName' in ticker_info else '',\n",
    "        'country'          : ticker_info['country'] if 'country' in ticker_info else '',\n",
    "        'averageVolume'    : ticker_info['averageVolume'] if 'averageVolume' in ticker_info else '',\n",
    "        'currentPrice'     : ticker_info['currentPrice'] if 'currentPrice' in ticker_info else '',\n",
    "        'currency'         : ticker_info['currency'] if 'currency' in ticker_info else '',\n",
    "        'sector'           : ticker_info['sector'] if 'sector' in ticker_info else '',\n",
    "        'industry'         : ticker_info['industry'] if 'industry' in ticker_info else '',\n",
    "        'profitMargins'    : ticker_info['profitMargins'] if 'profitMargins' in ticker_info else '',\n",
    "        'operatingMargins' : ticker_info['operatingMargins'] if 'operatingMargins' in ticker_info else '',\n",
    "        'operatingCashflow': convert(ticker_info['operatingCashflow'],curr_rate) if 'operatingCashflow' in ticker_info else '',\n",
    "        'returnOnAssets'   : ticker_info['returnOnAssets'] if 'returnOnAssets' in ticker_info else '',\n",
    "        'returnOnEquity'   : ticker_info['returnOnEquity'] if 'returnOnEquity' in ticker_info else '',\n",
    "        'trailingEps'      : convert(ticker_info['trailingEps'],curr_rate) if 'trailingEps' in ticker_info else '',\n",
    "        'totalRevenue'     : convert(ticker_info['totalRevenue'],curr_rate) if 'totalRevenue' in ticker_info else '',\n",
    "        'revenuePerShare'  : convert(ticker_info['revenuePerShare'],curr_rate) if 'revenuePerShare' in ticker_info else '',\n",
    "        'revenueGrowth'    : ticker_info['revenueGrowth'] if 'revenueGrowth' in ticker_info else '',\n",
    "        'grossProfits'     : convert(ticker_info['grossProfits'],curr_rate) if 'grossProfits' in ticker_info else '',\n",
    "        'netIncomeToCommon': convert(ticker_info['netIncomeToCommon'],curr_rate) if 'netIncomeToCommon' in ticker_info else '',\n",
    "        'operatingMargins' : ticker_info['operatingMargins'] if 'operatingMargins' in ticker_info else '',\n",
    "        'totalCash'        : convert(ticker_info['totalCash'],curr_rate) if 'totalCash' in ticker_info else '',\n",
    "        'totalCashPerShare': convert(ticker_info['totalCashPerShare'],curr_rate) if 'totalCashPerShare' in ticker_info else '',\n",
    "        'totalDebt'        : convert(ticker_info['totalDebt'],curr_rate) if 'totalDebt' in ticker_info else '',\n",
    "        'bookValue'        : ticker_info['bookValue'] if 'bookValue' in ticker_info else '',\n",
    "        'marketCap'        : convert(ticker_info['marketCap'],curr_rate) if 'marketCap' in ticker_info else '',\n",
    "        'enterpriseValue'  : convert(ticker_info['enterpriseValue'],curr_rate) if 'enterpriseValue' in ticker_info else '',\n",
    "        'trailingPE'       : ticker_info['trailingPE'] if 'trailingPE' in ticker_info else '',\n",
    "        'earningsQuarterlyGrowth': ticker_info['earningsQuarterlyGrowth'] if 'earningsQuarterlyGrowth' in ticker_info else '',\n",
    "        'forwardPE'              : ticker_info['forwardPE'] if 'forwardPE' in ticker_info else '',\n",
    "        'pegRatio'               : ticker_info['pegRatio'] if 'pegRatio' in ticker_info else '',\n",
    "        'priceToSalesTrailing12Months': ticker_info['priceToSalesTrailing12Months'] if 'priceToSalesTrailing12Months' in ticker_info else '',\n",
    "        'priceToBook'         : ticker_info['priceToBook'] if 'priceToBook' in ticker_info else '',\n",
    "        'enterpriseToRevenue' : ticker_info['enterpriseToRevenue'] if 'enterpriseToRevenue' in ticker_info else '',\n",
    "        'beta'                : ticker_info['beta'] if 'beta' in ticker_info else '',\n",
    "        'fiftyTwoWeekHigh'    : convert(ticker_info['fiftyTwoWeekHigh'],curr_rate) if 'fiftyTwoWeekHigh' in ticker_info else '',\n",
    "        'fiftyTwoWeekLow'     : convert(ticker_info['fiftyTwoWeekLow'],curr_rate) if 'fiftyTwoWeekLow' in ticker_info else '',\n",
    "        'fiftyDayAverage'     : convert(ticker_info['fiftyDayAverage'],curr_rate) if 'fiftyDayAverage' in ticker_info else '',\n",
    "        'twoHundredDayAverage': convert(ticker_info['twoHundredDayAverage'],curr_rate) if 'twoHundredDayAverage' in ticker_info else '',\n",
    "        'trailingAnnualDividendYield' : ticker_info['trailingAnnualDividendYield'] if 'trailingAnnualDividendYield' in ticker_info else '',\n",
    "        'fiveYearAvgDividendYield'    : ticker_info['fiveYearAvgDividendYield'] if 'fiveYearAvgDividendYield' in ticker_info else ''\n",
    "    }\n",
    "    \n",
    "    return companies_info"
   ]
  },
  {
   "cell_type": "code",
   "execution_count": 31,
   "metadata": {},
   "outputs": [],
   "source": [
    "\"\"\"\n",
    "function for scraping screener results which takes two parameters url and currency,\n",
    "so that we can reuse it for different countries screener \n",
    "\"\"\"\n",
    "def get_companies(url):\n",
    "    driver = webdriver.Chrome()\n",
    "    driver.get(url)\n",
    "    html = driver.execute_script('return document.body.innerHTML;')\n",
    "    soup = BeautifulSoup(html,'html.parser')\n",
    "    results = soup.find('table').find_all('tr')[1:]\n",
    "    companies_results = []\n",
    "    for tr in results:\n",
    "        td = tr.find('td')\n",
    "        companies_results.append(td.find('a').text)\n",
    "    return companies_results\n",
    "\n",
    "\n",
    "\"\"\"\n",
    "Function for getting company financial informations from scraping results.\n",
    "It takes parameter currency which is involved in a conditional. This conditional excludes stocks\n",
    "with different currency from that of country/continent we're scraping.\n",
    "\"\"\"\n",
    "def get_companies_info(companies_results, currency, curr_rate, country):\n",
    "    companies_info = dict() \n",
    "    for i in range(0, len(companies_results)):\n",
    "        ct =  yf.Ticker(companies_results[i])\n",
    "        print(ct.info['symbol'], end=' ')\n",
    "        companies_info = set_dictionary(companies_info, ct.info, ct.info['symbol'],  curr_rate)\n",
    "    return companies_info\n",
    "\n",
    "\n",
    "def set_dataframe(companies_info):\n",
    "    return pd.DataFrame(companies_info)\n",
    "\n",
    "def save_to_csv(dataframe, filename):\n",
    "    dataframe.to_csv(filename, sep=',', encoding='utf-8-sig', index=False)"
   ]
  },
  {
   "cell_type": "code",
   "execution_count": 32,
   "metadata": {},
   "outputs": [],
   "source": [
    "# filter\n",
    "def filter_info(given_currency, given_country, country_info):\n",
    "    info = []\n",
    "    info = [item for item in country_info if item['country'] == given_country]\n",
    "    info1 = [item for item in info if item['currency'] == given_currency]\n",
    "    return info1"
   ]
  },
  {
   "cell_type": "markdown",
   "metadata": {},
   "source": [
    "## Canada"
   ]
  },
  {
   "cell_type": "code",
   "execution_count": 109,
   "metadata": {},
   "outputs": [],
   "source": [
    "canada_url = 'https://finance.yahoo.com/screener/unsaved/69b64d3d-7416-4ed4-93d6-b4ad835df2a0?dependentField=sector&dependentValues=Financial%20Services&offset=0&count=100'\n",
    "canada_results = get_companies(canada_url)"
   ]
  },
  {
   "cell_type": "code",
   "execution_count": 33,
   "metadata": {},
   "outputs": [],
   "source": [
    "canada_results = ['BMO.TO','BNS.TO','CM.TO','CWB.TO','LB.TO','NA.TO','RY.TO','TD.TO','VB.TO']"
   ]
  },
  {
   "cell_type": "code",
   "execution_count": 34,
   "metadata": {},
   "outputs": [],
   "source": [
    "c = CurrencyRates()\n",
    "canada_rate = c.get_rate('CAD', 'USD')"
   ]
  },
  {
   "cell_type": "code",
   "execution_count": 14,
   "metadata": {},
   "outputs": [
    {
     "name": "stdout",
     "output_type": "stream",
     "text": [
      "BMO.TO BNS.TO CM.TO CWB.TO LB.TO NA.TO RY.TO TD.TO VB.TO "
     ]
    }
   ],
   "source": [
    "canada_companies_info = get_companies_info(canada_results, 'CAD', canada_rate, 'Canada')"
   ]
  },
  {
   "cell_type": "code",
   "execution_count": 15,
   "metadata": {},
   "outputs": [
    {
     "data": {
      "text/plain": [
       "(9, 9)"
      ]
     },
     "execution_count": 15,
     "metadata": {},
     "output_type": "execute_result"
    }
   ],
   "source": [
    "canada_companies_info2 = filter_info('CAD', 'Canada', canada_companies_info.values())\n",
    "len(canada_companies_info), len(canada_companies_info2)"
   ]
  },
  {
   "cell_type": "code",
   "execution_count": 35,
   "metadata": {},
   "outputs": [],
   "source": [
    "canada_companies_df = set_dataframe(canada_companies_info2)"
   ]
  },
  {
   "cell_type": "code",
   "execution_count": 36,
   "metadata": {},
   "outputs": [],
   "source": [
    "save_to_csv(canada_companies_df, 'canada.csv')"
   ]
  },
  {
   "cell_type": "markdown",
   "metadata": {},
   "source": [
    "## Australia"
   ]
  },
  {
   "cell_type": "code",
   "execution_count": null,
   "metadata": {},
   "outputs": [],
   "source": [
    "australia_url = 'https://finance.yahoo.com/screener/unsaved/2677be71-2801-464f-803a-9028e167fac1?dependentField=sector&dependentValues=Financial%20Services&offset=0&count=100'\n",
    "australia_results = get_companies(australia_url)"
   ]
  },
  {
   "cell_type": "code",
   "execution_count": 18,
   "metadata": {},
   "outputs": [],
   "source": [
    "australia_results = ['CBA.AX','WBC.AX','ANZ.AX','NAB.AX','BOQ.AX','VUK.AX','BEN.AX','MYS.AX','BBC.AX']"
   ]
  },
  {
   "cell_type": "code",
   "execution_count": 19,
   "metadata": {},
   "outputs": [],
   "source": [
    "c = CurrencyRates()\n",
    "australia_rate = c.get_rate('AUD', 'USD')"
   ]
  },
  {
   "cell_type": "code",
   "execution_count": 20,
   "metadata": {},
   "outputs": [
    {
     "name": "stdout",
     "output_type": "stream",
     "text": [
      "CBA.AX WBC.AX ANZ.AX NAB.AX BOQ.AX VUK.AX BEN.AX MYS.AX BBC.AX "
     ]
    }
   ],
   "source": [
    "australia_companies_info = get_companies_info(australia_results, 'AUD', australia_rate, 'Australia')"
   ]
  },
  {
   "cell_type": "code",
   "execution_count": 21,
   "metadata": {},
   "outputs": [
    {
     "data": {
      "text/plain": [
       "(9, 8)"
      ]
     },
     "execution_count": 21,
     "metadata": {},
     "output_type": "execute_result"
    }
   ],
   "source": [
    "australia_companies_info2 = filter_info('AUD', 'Australia', australia_companies_info.values())\n",
    "len(australia_companies_info), len(australia_companies_info2)"
   ]
  },
  {
   "cell_type": "code",
   "execution_count": 22,
   "metadata": {},
   "outputs": [],
   "source": [
    "australia_companies_df = set_dataframe(australia_companies_info2)"
   ]
  },
  {
   "cell_type": "code",
   "execution_count": 23,
   "metadata": {},
   "outputs": [],
   "source": [
    "save_to_csv(australia_companies_df, 'australia.csv')"
   ]
  },
  {
   "cell_type": "markdown",
   "metadata": {},
   "source": [
    "## Chile"
   ]
  },
  {
   "cell_type": "code",
   "execution_count": 17,
   "metadata": {},
   "outputs": [],
   "source": [
    "# chile_url = 'https://finance.yahoo.com/screener/unsaved/c83cf383-7cd6-4e23-8fe9-834ab79c8581?dependentField=sector&dependentValues=Financial%20Services'\n",
    "# chile_results = get_companies(chile_url)"
   ]
  },
  {
   "cell_type": "code",
   "execution_count": 25,
   "metadata": {},
   "outputs": [],
   "source": [
    "chile_results = ['CHILE.SN',\n",
    " 'BSANTANDER.SN',\n",
    " 'BCI.SN',\n",
    " 'ITAUCORP.SN',\n",
    " 'JPM.SN',\n",
    " 'SECURITY.SN',\n",
    " 'BAC.SN',\n",
    " 'C.SN',\n",
    " 'USB.SN']"
   ]
  },
  {
   "cell_type": "code",
   "execution_count": 26,
   "metadata": {},
   "outputs": [],
   "source": [
    "c = CurrencyRates()\n",
    "# chile_rate = c.get_rate('CLP', 'USD')\n",
    "chile_rate = 0.0013"
   ]
  },
  {
   "cell_type": "code",
   "execution_count": 27,
   "metadata": {},
   "outputs": [
    {
     "name": "stdout",
     "output_type": "stream",
     "text": [
      "CHILE.SN BSANTANDER.SN BCI.SN ITAUCORP.SN JPM.SN SECURITY.SN BAC.SN C.SN USB.SN "
     ]
    }
   ],
   "source": [
    "chile_companies_info = get_companies_info(chile_results, 'CLP', chile_rate, 'Chile')"
   ]
  },
  {
   "cell_type": "code",
   "execution_count": 37,
   "metadata": {},
   "outputs": [
    {
     "data": {
      "text/plain": [
       "(9, 5)"
      ]
     },
     "execution_count": 37,
     "metadata": {},
     "output_type": "execute_result"
    }
   ],
   "source": [
    "chile_companies_info2 = filter_info('CLP', 'Chile', chile_companies_info.values())\n",
    "len(chile_companies_info), len(chile_companies_info2)"
   ]
  },
  {
   "cell_type": "code",
   "execution_count": 38,
   "metadata": {},
   "outputs": [],
   "source": [
    "chile_companies_df = set_dataframe(chile_companies_info2)"
   ]
  },
  {
   "cell_type": "code",
   "execution_count": 39,
   "metadata": {},
   "outputs": [],
   "source": [
    "save_to_csv(chile_companies_df, 'chile.csv')"
   ]
  },
  {
   "cell_type": "markdown",
   "metadata": {},
   "source": [
    "# Save all dataset to a csv"
   ]
  },
  {
   "cell_type": "code",
   "execution_count": 43,
   "metadata": {},
   "outputs": [],
   "source": [
    "cad = pd.read_csv('canada.csv')\n",
    "aud = pd.read_csv('australia.csv')\n",
    "clp = pd.read_csv('chile.csv')"
   ]
  },
  {
   "cell_type": "code",
   "execution_count": 49,
   "metadata": {},
   "outputs": [
    {
     "data": {
      "text/plain": [
       "(27, 27, 22, 22)"
      ]
     },
     "execution_count": 49,
     "metadata": {},
     "output_type": "execute_result"
    }
   ],
   "source": [
    "banks_tickers = canada_results + australia_results + chile_results\n",
    "banks_info = list(canada_companies_info) + list(australia_companies_info) + list(chile_companies_info)\n",
    "banks_filtered = canada_companies_info2 + australia_companies_info2 + chile_companies_info2\n",
    "\n",
    "banks_df = pd.concat([cad,aud,clp], ignore_index=True)\n",
    "\n",
    "len(banks_tickers), len(banks_info), len(banks_filtered), len(banks_df)"
   ]
  },
  {
   "cell_type": "code",
   "execution_count": 6,
   "metadata": {},
   "outputs": [
    {
     "ename": "NameError",
     "evalue": "name 'banks_df' is not defined",
     "output_type": "error",
     "traceback": [
      "\u001b[1;31m---------------------------------------------------------------------------\u001b[0m",
      "\u001b[1;31mNameError\u001b[0m                                 Traceback (most recent call last)",
      "\u001b[1;32m<ipython-input-6-32b9a78c64b0>\u001b[0m in \u001b[0;36m<module>\u001b[1;34m\u001b[0m\n\u001b[1;32m----> 1\u001b[1;33m \u001b[0mbanks_df\u001b[0m\u001b[1;33m.\u001b[0m\u001b[0mto_csv\u001b[0m\u001b[1;33m(\u001b[0m\u001b[1;34m'banks_others.csv'\u001b[0m\u001b[1;33m,\u001b[0m \u001b[0mindex\u001b[0m\u001b[1;33m=\u001b[0m\u001b[1;32mFalse\u001b[0m\u001b[1;33m)\u001b[0m\u001b[1;33m\u001b[0m\u001b[1;33m\u001b[0m\u001b[0m\n\u001b[0m",
      "\u001b[1;31mNameError\u001b[0m: name 'banks_df' is not defined"
     ]
    }
   ],
   "source": [
    "banks_df.to_csv('banks_others.csv', index=False)"
   ]
  },
  {
   "cell_type": "code",
   "execution_count": null,
   "metadata": {},
   "outputs": [],
   "source": []
  },
  {
   "cell_type": "markdown",
   "metadata": {},
   "source": [
    "# Combine all data to single csv"
   ]
  },
  {
   "cell_type": "code",
   "execution_count": 5,
   "metadata": {},
   "outputs": [],
   "source": [
    "europe = pd.read_csv('banks_europe.csv')\n",
    "asia = pd.read_csv('banks_asia.csv')\n",
    "usa = pd.read_csv('banks_usa.csv')\n",
    "others = pd.read_csv('banks_others.csv')\n",
    "\n",
    "all_banks_developed_df = pd.concat([europe, asia, usa, others], ignore_index=True)\n",
    "\n",
    "all_banks_developed_df.to_csv('all_banks_developed.csv', index=False)"
   ]
  },
  {
   "cell_type": "code",
   "execution_count": null,
   "metadata": {},
   "outputs": [],
   "source": []
  }
 ],
 "metadata": {
  "kernelspec": {
   "display_name": "Python 3",
   "language": "python",
   "name": "python3"
  },
  "language_info": {
   "codemirror_mode": {
    "name": "ipython",
    "version": 3
   },
   "file_extension": ".py",
   "mimetype": "text/x-python",
   "name": "python",
   "nbconvert_exporter": "python",
   "pygments_lexer": "ipython3",
   "version": "3.8.5"
  }
 },
 "nbformat": 4,
 "nbformat_minor": 4
}
