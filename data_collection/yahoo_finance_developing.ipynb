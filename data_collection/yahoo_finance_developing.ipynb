{
 "cells": [
  {
   "cell_type": "markdown",
   "metadata": {},
   "source": [
    "## Yahoo Finance"
   ]
  },
  {
   "cell_type": "code",
   "execution_count": 2,
   "metadata": {},
   "outputs": [],
   "source": [
    "import yfinance as yf\n",
    "import pandas as pd\n",
    "from bs4 import BeautifulSoup\n",
    "import re\n",
    "from selenium import webdriver\n",
    "import chromedriver_binary\n",
    "import string\n",
    "import datetime\n",
    "from forex_python.converter import CurrencyRates\n",
    "pd.options.display.float_format = '{:.3f}'.format"
   ]
  },
  {
   "cell_type": "markdown",
   "metadata": {},
   "source": [
    "### Functions for screener results and getting data"
   ]
  },
  {
   "cell_type": "code",
   "execution_count": 2,
   "metadata": {},
   "outputs": [],
   "source": [
    "def get_rate(from_currency, to_currency):\n",
    "    curr_rates = CurrencyRates()\n",
    "    return curr_rates.get_rate(from_currency.upper(), to_currency.upper())\n",
    "\n",
    "def convert(value, rate):\n",
    "    if value:\n",
    "        return value * rate\n",
    "    else:\n",
    "        return ''"
   ]
  },
  {
   "cell_type": "code",
   "execution_count": 3,
   "metadata": {},
   "outputs": [],
   "source": [
    "def set_dictionary(companies_info, ticker_info, symbol, curr_rate):\n",
    "    companies_info[symbol] = {\n",
    "        'symbol'           : ticker_info['symbol'] if 'symbol' in ticker_info else '',\n",
    "        'shortName'        : ticker_info['shortName'] if 'shortName' in ticker_info else '',\n",
    "        'country'          : ticker_info['country'] if 'country' in ticker_info else '',\n",
    "        'averageVolume'    : ticker_info['averageVolume'] if 'averageVolume' in ticker_info else '',\n",
    "        'currentPrice'     : ticker_info['currentPrice'] if 'currentPrice' in ticker_info else '',\n",
    "        'currency'         : ticker_info['currency'] if 'currency' in ticker_info else '',\n",
    "        'sector'           : ticker_info['sector'] if 'sector' in ticker_info else '',\n",
    "        'industry'         : ticker_info['industry'] if 'industry' in ticker_info else '',\n",
    "        'profitMargins'    : ticker_info['profitMargins'] if 'profitMargins' in ticker_info else '',\n",
    "        'operatingMargins' : ticker_info['operatingMargins'] if 'operatingMargins' in ticker_info else '',\n",
    "        'operatingCashflow': convert(ticker_info['operatingCashflow'],curr_rate) if 'operatingCashflow' in ticker_info else '',\n",
    "        'returnOnAssets'   : ticker_info['returnOnAssets'] if 'returnOnAssets' in ticker_info else '',\n",
    "        'returnOnEquity'   : ticker_info['returnOnEquity'] if 'returnOnEquity' in ticker_info else '',\n",
    "        'trailingEps'      : convert(ticker_info['trailingEps'],curr_rate) if 'trailingEps' in ticker_info else '',\n",
    "        'totalRevenue'     : convert(ticker_info['totalRevenue'],curr_rate) if 'totalRevenue' in ticker_info else '',\n",
    "        'revenuePerShare'  : convert(ticker_info['revenuePerShare'],curr_rate) if 'revenuePerShare' in ticker_info else '',\n",
    "        'revenueGrowth'    : ticker_info['revenueGrowth'] if 'revenueGrowth' in ticker_info else '',\n",
    "        'grossProfits'     : convert(ticker_info['grossProfits'],curr_rate) if 'grossProfits' in ticker_info else '',\n",
    "        'netIncomeToCommon': convert(ticker_info['netIncomeToCommon'],curr_rate) if 'netIncomeToCommon' in ticker_info else '',\n",
    "        'operatingMargins' : ticker_info['operatingMargins'] if 'operatingMargins' in ticker_info else '',\n",
    "        'totalCash'        : convert(ticker_info['totalCash'],curr_rate) if 'totalCash' in ticker_info else '',\n",
    "        'totalCashPerShare': convert(ticker_info['totalCashPerShare'],curr_rate) if 'totalCashPerShare' in ticker_info else '',\n",
    "        'totalDebt'        : convert(ticker_info['totalDebt'],curr_rate) if 'totalDebt' in ticker_info else '',\n",
    "        'bookValue'        : ticker_info['bookValue'] if 'bookValue' in ticker_info else '',\n",
    "        'marketCap'        : convert(ticker_info['marketCap'],curr_rate) if 'marketCap' in ticker_info else '',\n",
    "        'enterpriseValue'  : convert(ticker_info['enterpriseValue'],curr_rate) if 'enterpriseValue' in ticker_info else '',\n",
    "        'trailingPE'       : ticker_info['trailingPE'] if 'trailingPE' in ticker_info else '',\n",
    "        'earningsQuarterlyGrowth': ticker_info['earningsQuarterlyGrowth'] if 'earningsQuarterlyGrowth' in ticker_info else '',\n",
    "        'forwardPE'              : ticker_info['forwardPE'] if 'forwardPE' in ticker_info else '',\n",
    "        'pegRatio'               : ticker_info['pegRatio'] if 'pegRatio' in ticker_info else '',\n",
    "        'priceToSalesTrailing12Months': ticker_info['priceToSalesTrailing12Months'] if 'priceToSalesTrailing12Months' in ticker_info else '',\n",
    "        'priceToBook'         : ticker_info['priceToBook'] if 'priceToBook' in ticker_info else '',\n",
    "        'enterpriseToRevenue' : ticker_info['enterpriseToRevenue'] if 'enterpriseToRevenue' in ticker_info else '',\n",
    "        'beta'                : ticker_info['beta'] if 'beta' in ticker_info else '',\n",
    "        'fiftyTwoWeekHigh'    : convert(ticker_info['fiftyTwoWeekHigh'],curr_rate) if 'fiftyTwoWeekHigh' in ticker_info else '',\n",
    "        'fiftyTwoWeekLow'     : convert(ticker_info['fiftyTwoWeekLow'],curr_rate) if 'fiftyTwoWeekLow' in ticker_info else '',\n",
    "        'fiftyDayAverage'     : convert(ticker_info['fiftyDayAverage'],curr_rate) if 'fiftyDayAverage' in ticker_info else '',\n",
    "        'twoHundredDayAverage': convert(ticker_info['twoHundredDayAverage'],curr_rate) if 'twoHundredDayAverage' in ticker_info else '',\n",
    "        'trailingAnnualDividendYield' : ticker_info['trailingAnnualDividendYield'] if 'trailingAnnualDividendYield' in ticker_info else '',\n",
    "        'fiveYearAvgDividendYield'    : ticker_info['fiveYearAvgDividendYield'] if 'fiveYearAvgDividendYield' in ticker_info else ''\n",
    "    }\n",
    "    \n",
    "    return companies_info"
   ]
  },
  {
   "cell_type": "code",
   "execution_count": 4,
   "metadata": {},
   "outputs": [],
   "source": [
    "\"\"\"\n",
    "function for scraping screener results which takes two parameters url and currency,\n",
    "so that we can reuse it for different countries screener \n",
    "\"\"\"\n",
    "def get_companies(url):\n",
    "    driver = webdriver.Chrome()\n",
    "    driver.get(url)\n",
    "    html = driver.execute_script('return document.body.innerHTML;')\n",
    "    soup = BeautifulSoup(html,'html.parser')\n",
    "    results = soup.find('table').find_all('tr')[1:]\n",
    "    companies_results = []\n",
    "    for tr in results:\n",
    "        td = tr.find('td')\n",
    "        companies_results.append(td.find('a').text)\n",
    "    return companies_results\n",
    "\n",
    "\n",
    "\"\"\"\n",
    "Function for getting company financial informations from scraping results.\n",
    "It takes parameter currency which is involved in a conditional. This conditional excludes stocks\n",
    "with different currency from that of country/continent we're scraping.\n",
    "\"\"\"\n",
    "def get_companies_info(companies_results, currency, curr_rate, country):\n",
    "    companies_info = dict() \n",
    "    for i in range(0, len(companies_results)):\n",
    "        ct =  yf.Ticker(companies_results[i])\n",
    "        print(ct.info['symbol'], end=' ')\n",
    "        companies_info = set_dictionary(companies_info, ct.info, ct.info['symbol'],  curr_rate)\n",
    "    return companies_info\n",
    "\n",
    "\n",
    "def set_dataframe(companies_info):\n",
    "    return pd.DataFrame(companies_info)\n",
    "\n",
    "def save_to_csv(dataframe, filename):\n",
    "    dataframe.to_csv(filename, sep=',', encoding='utf-8-sig', index=False)"
   ]
  },
  {
   "cell_type": "code",
   "execution_count": 5,
   "metadata": {},
   "outputs": [],
   "source": [
    "# filter\n",
    "def filter_info(given_currency, given_country, country_info):\n",
    "    info = []\n",
    "    info = [item for item in country_info if item['country'] == given_country or item['country'] == '']\n",
    "    info1 = [item for item in info if item['currency'] == given_currency]\n",
    "    return info1"
   ]
  },
  {
   "cell_type": "markdown",
   "metadata": {},
   "source": [
    "## Turkey"
   ]
  },
  {
   "cell_type": "code",
   "execution_count": 115,
   "metadata": {},
   "outputs": [],
   "source": [
    "turkey_url = 'https://finance.yahoo.com/screener/unsaved/46fa9c6a-b6eb-420a-8d51-9cbe4f700ddb?dependentField=sector&dependentValues=Financial%20Services'\n",
    "turkey_results = get_companies(turkey_url)"
   ]
  },
  {
   "cell_type": "code",
   "execution_count": 117,
   "metadata": {},
   "outputs": [],
   "source": [
    "turkey_results = ['ISBTR.IS',\n",
    " 'QNBFB.IS',\n",
    " 'GARAN.IS',\n",
    " 'KLNMA.IS',\n",
    " 'AKBNK.IS',\n",
    " 'ISCTR.IS',\n",
    " 'YKBNK.IS',\n",
    " 'SAHOL.IS',\n",
    " 'VAKBN.IS',\n",
    " 'HALKB.IS',\n",
    " 'ICBCT.IS',\n",
    " 'TSKB.IS',\n",
    " 'ALBRK.IS',\n",
    " 'SKBNK.IS']"
   ]
  },
  {
   "cell_type": "code",
   "execution_count": 118,
   "metadata": {},
   "outputs": [
    {
     "data": {
      "text/plain": [
       "0.11626185564975375"
      ]
     },
     "execution_count": 118,
     "metadata": {},
     "output_type": "execute_result"
    }
   ],
   "source": [
    "c = CurrencyRates()\n",
    "turkey_rate = c.get_rate('TRY', 'USD')\n",
    "turkey_rate"
   ]
  },
  {
   "cell_type": "code",
   "execution_count": 119,
   "metadata": {},
   "outputs": [
    {
     "name": "stdout",
     "output_type": "stream",
     "text": [
      "ISBTR.IS QNBFB.IS GARAN.IS KLNMA.IS AKBNK.IS ISCTR.IS YKBNK.IS SAHOL.IS VAKBN.IS HALKB.IS ICBCT.IS TSKB.IS ALBRK.IS SKBNK.IS "
     ]
    }
   ],
   "source": [
    "turkey_companies_info = get_companies_info(turkey_results, 'TRY', turkey_rate, 'Turkey')"
   ]
  },
  {
   "cell_type": "code",
   "execution_count": 120,
   "metadata": {},
   "outputs": [
    {
     "data": {
      "text/plain": [
       "(14, 14)"
      ]
     },
     "execution_count": 120,
     "metadata": {},
     "output_type": "execute_result"
    }
   ],
   "source": [
    "turkey_companies_info2 = filter_info('TRY', 'Turkey', turkey_companies_info.values())\n",
    "len(turkey_companies_info), len(turkey_companies_info2)"
   ]
  },
  {
   "cell_type": "code",
   "execution_count": 124,
   "metadata": {},
   "outputs": [
    {
     "data": {
      "text/html": [
       "<div>\n",
       "<style scoped>\n",
       "    .dataframe tbody tr th:only-of-type {\n",
       "        vertical-align: middle;\n",
       "    }\n",
       "\n",
       "    .dataframe tbody tr th {\n",
       "        vertical-align: top;\n",
       "    }\n",
       "\n",
       "    .dataframe thead th {\n",
       "        text-align: right;\n",
       "    }\n",
       "</style>\n",
       "<table border=\"1\" class=\"dataframe\">\n",
       "  <thead>\n",
       "    <tr style=\"text-align: right;\">\n",
       "      <th></th>\n",
       "      <th>symbol</th>\n",
       "      <th>shortName</th>\n",
       "      <th>country</th>\n",
       "      <th>averageVolume</th>\n",
       "      <th>currentPrice</th>\n",
       "      <th>currency</th>\n",
       "      <th>sector</th>\n",
       "      <th>industry</th>\n",
       "      <th>profitMargins</th>\n",
       "      <th>operatingMargins</th>\n",
       "      <th>...</th>\n",
       "      <th>priceToSalesTrailing12Months</th>\n",
       "      <th>priceToBook</th>\n",
       "      <th>enterpriseToRevenue</th>\n",
       "      <th>beta</th>\n",
       "      <th>fiftyTwoWeekHigh</th>\n",
       "      <th>fiftyTwoWeekLow</th>\n",
       "      <th>fiftyDayAverage</th>\n",
       "      <th>twoHundredDayAverage</th>\n",
       "      <th>trailingAnnualDividendYield</th>\n",
       "      <th>fiveYearAvgDividendYield</th>\n",
       "    </tr>\n",
       "  </thead>\n",
       "  <tbody>\n",
       "    <tr>\n",
       "      <th>0</th>\n",
       "      <td>ISBTR.IS</td>\n",
       "      <td>IS BANKASI (B)</td>\n",
       "      <td>Turkey</td>\n",
       "      <td>6</td>\n",
       "      <td>30000.000</td>\n",
       "      <td>TRY</td>\n",
       "      <td>Financial Services</td>\n",
       "      <td>Banks—Regional</td>\n",
       "      <td>0.221</td>\n",
       "      <td>0.245</td>\n",
       "      <td>...</td>\n",
       "      <td>17.550</td>\n",
       "      <td>1920.861</td>\n",
       "      <td>3910.672</td>\n",
       "      <td>1.167</td>\n",
       "      <td>6394.402</td>\n",
       "      <td>3487.856</td>\n",
       "      <td>3689.235</td>\n",
       "      <td>4226.907</td>\n",
       "      <td>nan</td>\n",
       "      <td>nan</td>\n",
       "    </tr>\n",
       "    <tr>\n",
       "      <th>1</th>\n",
       "      <td>QNBFB.IS</td>\n",
       "      <td>QNB FINANSBANK</td>\n",
       "      <td>Turkey</td>\n",
       "      <td>5273</td>\n",
       "      <td>38.160</td>\n",
       "      <td>TRY</td>\n",
       "      <td>Financial Services</td>\n",
       "      <td>Banks—Regional</td>\n",
       "      <td>0.347</td>\n",
       "      <td>0.421</td>\n",
       "      <td>...</td>\n",
       "      <td>15.399</td>\n",
       "      <td>6.204</td>\n",
       "      <td>19.974</td>\n",
       "      <td>1.604</td>\n",
       "      <td>10.777</td>\n",
       "      <td>4.399</td>\n",
       "      <td>4.598</td>\n",
       "      <td>5.342</td>\n",
       "      <td>nan</td>\n",
       "      <td>nan</td>\n",
       "    </tr>\n",
       "    <tr>\n",
       "      <th>2</th>\n",
       "      <td>GARAN.IS</td>\n",
       "      <td>GARANTI BANKASI</td>\n",
       "      <td>Turkey</td>\n",
       "      <td>147291122</td>\n",
       "      <td>9.390</td>\n",
       "      <td>TRY</td>\n",
       "      <td>Financial Services</td>\n",
       "      <td>Banks—Regional</td>\n",
       "      <td>0.308</td>\n",
       "      <td>0.370</td>\n",
       "      <td>...</td>\n",
       "      <td>1.447</td>\n",
       "      <td>0.586</td>\n",
       "      <td>1.050</td>\n",
       "      <td>1.201</td>\n",
       "      <td>1.257</td>\n",
       "      <td>0.749</td>\n",
       "      <td>1.095</td>\n",
       "      <td>0.966</td>\n",
       "      <td>0.016</td>\n",
       "      <td>nan</td>\n",
       "    </tr>\n",
       "    <tr>\n",
       "      <th>3</th>\n",
       "      <td>KLNMA.IS</td>\n",
       "      <td>T. KALKINMA BANK.</td>\n",
       "      <td>Turkey</td>\n",
       "      <td>29358</td>\n",
       "      <td>23.660</td>\n",
       "      <td>TRY</td>\n",
       "      <td>Financial Services</td>\n",
       "      <td>Banks—Regional</td>\n",
       "      <td>0.669</td>\n",
       "      <td>0.850</td>\n",
       "      <td>...</td>\n",
       "      <td>35.185</td>\n",
       "      <td>9.513</td>\n",
       "      <td>56.718</td>\n",
       "      <td>-0.236</td>\n",
       "      <td>5.479</td>\n",
       "      <td>2.209</td>\n",
       "      <td>2.357</td>\n",
       "      <td>2.607</td>\n",
       "      <td>nan</td>\n",
       "      <td>nan</td>\n",
       "    </tr>\n",
       "    <tr>\n",
       "      <th>4</th>\n",
       "      <td>AKBNK.IS</td>\n",
       "      <td>AKBANK</td>\n",
       "      <td>Turkey</td>\n",
       "      <td>65229093</td>\n",
       "      <td>5.550</td>\n",
       "      <td>TRY</td>\n",
       "      <td>Financial Services</td>\n",
       "      <td>Banks—Regional</td>\n",
       "      <td>0.353</td>\n",
       "      <td>0.473</td>\n",
       "      <td>...</td>\n",
       "      <td>1.358</td>\n",
       "      <td>0.429</td>\n",
       "      <td>2.918</td>\n",
       "      <td>1.044</td>\n",
       "      <td>0.887</td>\n",
       "      <td>0.541</td>\n",
       "      <td>0.654</td>\n",
       "      <td>0.621</td>\n",
       "      <td>0.022</td>\n",
       "      <td>nan</td>\n",
       "    </tr>\n",
       "    <tr>\n",
       "      <th>5</th>\n",
       "      <td>ISCTR.IS</td>\n",
       "      <td>IS BANKASI (C)</td>\n",
       "      <td>Turkey</td>\n",
       "      <td>40740588</td>\n",
       "      <td>5.270</td>\n",
       "      <td>TRY</td>\n",
       "      <td>Financial Services</td>\n",
       "      <td>Banks—Regional</td>\n",
       "      <td>0.221</td>\n",
       "      <td>0.245</td>\n",
       "      <td>...</td>\n",
       "      <td>0.688</td>\n",
       "      <td>0.337</td>\n",
       "      <td>3.221</td>\n",
       "      <td>1.167</td>\n",
       "      <td>0.857</td>\n",
       "      <td>0.542</td>\n",
       "      <td>0.642</td>\n",
       "      <td>0.611</td>\n",
       "      <td>nan</td>\n",
       "      <td>nan</td>\n",
       "    </tr>\n",
       "    <tr>\n",
       "      <th>6</th>\n",
       "      <td>YKBNK.IS</td>\n",
       "      <td>YAPI VE KREDI BANK.</td>\n",
       "      <td>Turkey</td>\n",
       "      <td>193645340</td>\n",
       "      <td>2.450</td>\n",
       "      <td>TRY</td>\n",
       "      <td>Financial Services</td>\n",
       "      <td>Banks—Regional</td>\n",
       "      <td>0.351</td>\n",
       "      <td>0.457</td>\n",
       "      <td>...</td>\n",
       "      <td>1.151</td>\n",
       "      <td>0.395</td>\n",
       "      <td>5.266</td>\n",
       "      <td>1.266</td>\n",
       "      <td>0.391</td>\n",
       "      <td>0.229</td>\n",
       "      <td>0.294</td>\n",
       "      <td>0.270</td>\n",
       "      <td>nan</td>\n",
       "      <td>nan</td>\n",
       "    </tr>\n",
       "    <tr>\n",
       "      <th>7</th>\n",
       "      <td>SAHOL.IS</td>\n",
       "      <td>SABANCI HOLDING</td>\n",
       "      <td>Turkey</td>\n",
       "      <td>15962974</td>\n",
       "      <td>9.670</td>\n",
       "      <td>TRY</td>\n",
       "      <td>Financial Services</td>\n",
       "      <td>Banks—Regional</td>\n",
       "      <td>0.241</td>\n",
       "      <td>0.486</td>\n",
       "      <td>...</td>\n",
       "      <td>0.792</td>\n",
       "      <td>0.475</td>\n",
       "      <td>5.811</td>\n",
       "      <td>0.940</td>\n",
       "      <td>1.385</td>\n",
       "      <td>0.856</td>\n",
       "      <td>1.161</td>\n",
       "      <td>1.074</td>\n",
       "      <td>0.036</td>\n",
       "      <td>3.030</td>\n",
       "    </tr>\n",
       "    <tr>\n",
       "      <th>8</th>\n",
       "      <td>VAKBN.IS</td>\n",
       "      <td>VAKIFLAR BANKASI</td>\n",
       "      <td>Turkey</td>\n",
       "      <td>37962129</td>\n",
       "      <td>3.440</td>\n",
       "      <td>TRY</td>\n",
       "      <td>Financial Services</td>\n",
       "      <td>Banks—Regional</td>\n",
       "      <td>0.275</td>\n",
       "      <td>0.340</td>\n",
       "      <td>...</td>\n",
       "      <td>0.963</td>\n",
       "      <td>0.281</td>\n",
       "      <td>9.873</td>\n",
       "      <td>1.006</td>\n",
       "      <td>0.581</td>\n",
       "      <td>0.384</td>\n",
       "      <td>0.411</td>\n",
       "      <td>0.416</td>\n",
       "      <td>nan</td>\n",
       "      <td>nan</td>\n",
       "    </tr>\n",
       "    <tr>\n",
       "      <th>9</th>\n",
       "      <td>HALKB.IS</td>\n",
       "      <td>T. HALK BANKASI</td>\n",
       "      <td>Turkey</td>\n",
       "      <td>42513503</td>\n",
       "      <td>4.670</td>\n",
       "      <td>TRY</td>\n",
       "      <td>Financial Services</td>\n",
       "      <td>Banks—Regional</td>\n",
       "      <td>0.132</td>\n",
       "      <td>0.125</td>\n",
       "      <td>...</td>\n",
       "      <td>1.140</td>\n",
       "      <td>0.274</td>\n",
       "      <td>8.886</td>\n",
       "      <td>0.877</td>\n",
       "      <td>0.723</td>\n",
       "      <td>0.478</td>\n",
       "      <td>0.550</td>\n",
       "      <td>0.547</td>\n",
       "      <td>nan</td>\n",
       "      <td>nan</td>\n",
       "    </tr>\n",
       "    <tr>\n",
       "      <th>10</th>\n",
       "      <td>ICBCT.IS</td>\n",
       "      <td>ICBC TURKEY BANK</td>\n",
       "      <td>Turkey</td>\n",
       "      <td>367424</td>\n",
       "      <td>5.700</td>\n",
       "      <td>TRY</td>\n",
       "      <td>Financial Services</td>\n",
       "      <td>Banks—Regional</td>\n",
       "      <td>0.144</td>\n",
       "      <td>0.192</td>\n",
       "      <td>...</td>\n",
       "      <td>6.210</td>\n",
       "      <td>3.200</td>\n",
       "      <td>16.990</td>\n",
       "      <td>0.968</td>\n",
       "      <td>0.925</td>\n",
       "      <td>0.546</td>\n",
       "      <td>0.607</td>\n",
       "      <td>0.633</td>\n",
       "      <td>nan</td>\n",
       "      <td>nan</td>\n",
       "    </tr>\n",
       "    <tr>\n",
       "      <th>11</th>\n",
       "      <td>TSKB.IS</td>\n",
       "      <td>T.S.K.B.</td>\n",
       "      <td>Turkey</td>\n",
       "      <td>54790443</td>\n",
       "      <td>1.250</td>\n",
       "      <td>TRY</td>\n",
       "      <td>Financial Services</td>\n",
       "      <td>Banks—Regional</td>\n",
       "      <td>0.562</td>\n",
       "      <td>0.679</td>\n",
       "      <td>...</td>\n",
       "      <td>2.760</td>\n",
       "      <td>0.576</td>\n",
       "      <td>35.141</td>\n",
       "      <td>0.861</td>\n",
       "      <td>0.324</td>\n",
       "      <td>0.121</td>\n",
       "      <td>0.153</td>\n",
       "      <td>0.157</td>\n",
       "      <td>0.027</td>\n",
       "      <td>nan</td>\n",
       "    </tr>\n",
       "    <tr>\n",
       "      <th>12</th>\n",
       "      <td>ALBRK.IS</td>\n",
       "      <td>ALBARAKA TURK</td>\n",
       "      <td>Turkey</td>\n",
       "      <td>11662026</td>\n",
       "      <td>1.520</td>\n",
       "      <td>TRY</td>\n",
       "      <td>Financial Services</td>\n",
       "      <td>Banks—Regional</td>\n",
       "      <td>0.201</td>\n",
       "      <td>0.244</td>\n",
       "      <td>...</td>\n",
       "      <td>1.118</td>\n",
       "      <td>0.488</td>\n",
       "      <td>-0.004</td>\n",
       "      <td>1.047</td>\n",
       "      <td>0.319</td>\n",
       "      <td>0.167</td>\n",
       "      <td>0.175</td>\n",
       "      <td>0.188</td>\n",
       "      <td>nan</td>\n",
       "      <td>nan</td>\n",
       "    </tr>\n",
       "    <tr>\n",
       "      <th>13</th>\n",
       "      <td>SKBNK.IS</td>\n",
       "      <td>SEKERBANK</td>\n",
       "      <td>Turkey</td>\n",
       "      <td>37425039</td>\n",
       "      <td>1.010</td>\n",
       "      <td>TRY</td>\n",
       "      <td>Financial Services</td>\n",
       "      <td>Banks—Regional</td>\n",
       "      <td>0.106</td>\n",
       "      <td>0.102</td>\n",
       "      <td>...</td>\n",
       "      <td>1.192</td>\n",
       "      <td>0.686</td>\n",
       "      <td>0.989</td>\n",
       "      <td>1.109</td>\n",
       "      <td>0.206</td>\n",
       "      <td>0.117</td>\n",
       "      <td>0.121</td>\n",
       "      <td>0.130</td>\n",
       "      <td>nan</td>\n",
       "      <td>nan</td>\n",
       "    </tr>\n",
       "  </tbody>\n",
       "</table>\n",
       "<p>14 rows × 39 columns</p>\n",
       "</div>"
      ],
      "text/plain": [
       "      symbol            shortName country  averageVolume  currentPrice  \\\n",
       "0   ISBTR.IS       IS BANKASI (B)  Turkey              6     30000.000   \n",
       "1   QNBFB.IS       QNB FINANSBANK  Turkey           5273        38.160   \n",
       "2   GARAN.IS      GARANTI BANKASI  Turkey      147291122         9.390   \n",
       "3   KLNMA.IS    T. KALKINMA BANK.  Turkey          29358        23.660   \n",
       "4   AKBNK.IS               AKBANK  Turkey       65229093         5.550   \n",
       "5   ISCTR.IS       IS BANKASI (C)  Turkey       40740588         5.270   \n",
       "6   YKBNK.IS  YAPI VE KREDI BANK.  Turkey      193645340         2.450   \n",
       "7   SAHOL.IS      SABANCI HOLDING  Turkey       15962974         9.670   \n",
       "8   VAKBN.IS     VAKIFLAR BANKASI  Turkey       37962129         3.440   \n",
       "9   HALKB.IS      T. HALK BANKASI  Turkey       42513503         4.670   \n",
       "10  ICBCT.IS     ICBC TURKEY BANK  Turkey         367424         5.700   \n",
       "11   TSKB.IS             T.S.K.B.  Turkey       54790443         1.250   \n",
       "12  ALBRK.IS        ALBARAKA TURK  Turkey       11662026         1.520   \n",
       "13  SKBNK.IS            SEKERBANK  Turkey       37425039         1.010   \n",
       "\n",
       "   currency              sector        industry  profitMargins  \\\n",
       "0       TRY  Financial Services  Banks—Regional          0.221   \n",
       "1       TRY  Financial Services  Banks—Regional          0.347   \n",
       "2       TRY  Financial Services  Banks—Regional          0.308   \n",
       "3       TRY  Financial Services  Banks—Regional          0.669   \n",
       "4       TRY  Financial Services  Banks—Regional          0.353   \n",
       "5       TRY  Financial Services  Banks—Regional          0.221   \n",
       "6       TRY  Financial Services  Banks—Regional          0.351   \n",
       "7       TRY  Financial Services  Banks—Regional          0.241   \n",
       "8       TRY  Financial Services  Banks—Regional          0.275   \n",
       "9       TRY  Financial Services  Banks—Regional          0.132   \n",
       "10      TRY  Financial Services  Banks—Regional          0.144   \n",
       "11      TRY  Financial Services  Banks—Regional          0.562   \n",
       "12      TRY  Financial Services  Banks—Regional          0.201   \n",
       "13      TRY  Financial Services  Banks—Regional          0.106   \n",
       "\n",
       "    operatingMargins  ...  priceToSalesTrailing12Months  priceToBook  \\\n",
       "0              0.245  ...                        17.550     1920.861   \n",
       "1              0.421  ...                        15.399        6.204   \n",
       "2              0.370  ...                         1.447        0.586   \n",
       "3              0.850  ...                        35.185        9.513   \n",
       "4              0.473  ...                         1.358        0.429   \n",
       "5              0.245  ...                         0.688        0.337   \n",
       "6              0.457  ...                         1.151        0.395   \n",
       "7              0.486  ...                         0.792        0.475   \n",
       "8              0.340  ...                         0.963        0.281   \n",
       "9              0.125  ...                         1.140        0.274   \n",
       "10             0.192  ...                         6.210        3.200   \n",
       "11             0.679  ...                         2.760        0.576   \n",
       "12             0.244  ...                         1.118        0.488   \n",
       "13             0.102  ...                         1.192        0.686   \n",
       "\n",
       "    enterpriseToRevenue   beta  fiftyTwoWeekHigh  fiftyTwoWeekLow  \\\n",
       "0              3910.672  1.167          6394.402         3487.856   \n",
       "1                19.974  1.604            10.777            4.399   \n",
       "2                 1.050  1.201             1.257            0.749   \n",
       "3                56.718 -0.236             5.479            2.209   \n",
       "4                 2.918  1.044             0.887            0.541   \n",
       "5                 3.221  1.167             0.857            0.542   \n",
       "6                 5.266  1.266             0.391            0.229   \n",
       "7                 5.811  0.940             1.385            0.856   \n",
       "8                 9.873  1.006             0.581            0.384   \n",
       "9                 8.886  0.877             0.723            0.478   \n",
       "10               16.990  0.968             0.925            0.546   \n",
       "11               35.141  0.861             0.324            0.121   \n",
       "12               -0.004  1.047             0.319            0.167   \n",
       "13                0.989  1.109             0.206            0.117   \n",
       "\n",
       "    fiftyDayAverage  twoHundredDayAverage  trailingAnnualDividendYield  \\\n",
       "0          3689.235              4226.907                          nan   \n",
       "1             4.598                 5.342                          nan   \n",
       "2             1.095                 0.966                        0.016   \n",
       "3             2.357                 2.607                          nan   \n",
       "4             0.654                 0.621                        0.022   \n",
       "5             0.642                 0.611                          nan   \n",
       "6             0.294                 0.270                          nan   \n",
       "7             1.161                 1.074                        0.036   \n",
       "8             0.411                 0.416                          nan   \n",
       "9             0.550                 0.547                          nan   \n",
       "10            0.607                 0.633                          nan   \n",
       "11            0.153                 0.157                        0.027   \n",
       "12            0.175                 0.188                          nan   \n",
       "13            0.121                 0.130                          nan   \n",
       "\n",
       "    fiveYearAvgDividendYield  \n",
       "0                        nan  \n",
       "1                        nan  \n",
       "2                        nan  \n",
       "3                        nan  \n",
       "4                        nan  \n",
       "5                        nan  \n",
       "6                        nan  \n",
       "7                      3.030  \n",
       "8                        nan  \n",
       "9                        nan  \n",
       "10                       nan  \n",
       "11                       nan  \n",
       "12                       nan  \n",
       "13                       nan  \n",
       "\n",
       "[14 rows x 39 columns]"
      ]
     },
     "execution_count": 124,
     "metadata": {},
     "output_type": "execute_result"
    }
   ],
   "source": [
    "turkey_companies_df = set_dataframe(turkey_companies_info2)\n",
    "turkey_companies_df"
   ]
  },
  {
   "cell_type": "code",
   "execution_count": 125,
   "metadata": {},
   "outputs": [
    {
     "data": {
      "text/plain": [
       "10"
      ]
     },
     "execution_count": 125,
     "metadata": {},
     "output_type": "execute_result"
    }
   ],
   "source": [
    "turkey_companies_df = turkey_companies_df[turkey_companies_df.isnull().sum(axis=1) < 16]\n",
    "turkey_companies_df = turkey_companies_df[turkey_companies_df['averageVolume'] > 500000]\n",
    "len(turkey_companies_df)"
   ]
  },
  {
   "cell_type": "code",
   "execution_count": 126,
   "metadata": {},
   "outputs": [
    {
     "data": {
      "text/html": [
       "<div>\n",
       "<style scoped>\n",
       "    .dataframe tbody tr th:only-of-type {\n",
       "        vertical-align: middle;\n",
       "    }\n",
       "\n",
       "    .dataframe tbody tr th {\n",
       "        vertical-align: top;\n",
       "    }\n",
       "\n",
       "    .dataframe thead th {\n",
       "        text-align: right;\n",
       "    }\n",
       "</style>\n",
       "<table border=\"1\" class=\"dataframe\">\n",
       "  <thead>\n",
       "    <tr style=\"text-align: right;\">\n",
       "      <th></th>\n",
       "      <th>symbol</th>\n",
       "      <th>shortName</th>\n",
       "      <th>country</th>\n",
       "      <th>averageVolume</th>\n",
       "      <th>currentPrice</th>\n",
       "      <th>currency</th>\n",
       "      <th>sector</th>\n",
       "      <th>industry</th>\n",
       "      <th>profitMargins</th>\n",
       "      <th>operatingMargins</th>\n",
       "      <th>...</th>\n",
       "      <th>priceToSalesTrailing12Months</th>\n",
       "      <th>priceToBook</th>\n",
       "      <th>enterpriseToRevenue</th>\n",
       "      <th>beta</th>\n",
       "      <th>fiftyTwoWeekHigh</th>\n",
       "      <th>fiftyTwoWeekLow</th>\n",
       "      <th>fiftyDayAverage</th>\n",
       "      <th>twoHundredDayAverage</th>\n",
       "      <th>trailingAnnualDividendYield</th>\n",
       "      <th>fiveYearAvgDividendYield</th>\n",
       "    </tr>\n",
       "  </thead>\n",
       "  <tbody>\n",
       "    <tr>\n",
       "      <th>2</th>\n",
       "      <td>GARAN.IS</td>\n",
       "      <td>GARANTI BANKASI</td>\n",
       "      <td>Turkey</td>\n",
       "      <td>147291122</td>\n",
       "      <td>9.390</td>\n",
       "      <td>TRY</td>\n",
       "      <td>Financial Services</td>\n",
       "      <td>Banks—Regional</td>\n",
       "      <td>0.308</td>\n",
       "      <td>0.370</td>\n",
       "      <td>...</td>\n",
       "      <td>1.447</td>\n",
       "      <td>0.586</td>\n",
       "      <td>1.050</td>\n",
       "      <td>1.201</td>\n",
       "      <td>1.257</td>\n",
       "      <td>0.749</td>\n",
       "      <td>1.095</td>\n",
       "      <td>0.966</td>\n",
       "      <td>0.016</td>\n",
       "      <td>nan</td>\n",
       "    </tr>\n",
       "    <tr>\n",
       "      <th>4</th>\n",
       "      <td>AKBNK.IS</td>\n",
       "      <td>AKBANK</td>\n",
       "      <td>Turkey</td>\n",
       "      <td>65229093</td>\n",
       "      <td>5.550</td>\n",
       "      <td>TRY</td>\n",
       "      <td>Financial Services</td>\n",
       "      <td>Banks—Regional</td>\n",
       "      <td>0.353</td>\n",
       "      <td>0.473</td>\n",
       "      <td>...</td>\n",
       "      <td>1.358</td>\n",
       "      <td>0.429</td>\n",
       "      <td>2.918</td>\n",
       "      <td>1.044</td>\n",
       "      <td>0.887</td>\n",
       "      <td>0.541</td>\n",
       "      <td>0.654</td>\n",
       "      <td>0.621</td>\n",
       "      <td>0.022</td>\n",
       "      <td>nan</td>\n",
       "    </tr>\n",
       "    <tr>\n",
       "      <th>5</th>\n",
       "      <td>ISCTR.IS</td>\n",
       "      <td>IS BANKASI (C)</td>\n",
       "      <td>Turkey</td>\n",
       "      <td>40740588</td>\n",
       "      <td>5.270</td>\n",
       "      <td>TRY</td>\n",
       "      <td>Financial Services</td>\n",
       "      <td>Banks—Regional</td>\n",
       "      <td>0.221</td>\n",
       "      <td>0.245</td>\n",
       "      <td>...</td>\n",
       "      <td>0.688</td>\n",
       "      <td>0.337</td>\n",
       "      <td>3.221</td>\n",
       "      <td>1.167</td>\n",
       "      <td>0.857</td>\n",
       "      <td>0.542</td>\n",
       "      <td>0.642</td>\n",
       "      <td>0.611</td>\n",
       "      <td>nan</td>\n",
       "      <td>nan</td>\n",
       "    </tr>\n",
       "    <tr>\n",
       "      <th>6</th>\n",
       "      <td>YKBNK.IS</td>\n",
       "      <td>YAPI VE KREDI BANK.</td>\n",
       "      <td>Turkey</td>\n",
       "      <td>193645340</td>\n",
       "      <td>2.450</td>\n",
       "      <td>TRY</td>\n",
       "      <td>Financial Services</td>\n",
       "      <td>Banks—Regional</td>\n",
       "      <td>0.351</td>\n",
       "      <td>0.457</td>\n",
       "      <td>...</td>\n",
       "      <td>1.151</td>\n",
       "      <td>0.395</td>\n",
       "      <td>5.266</td>\n",
       "      <td>1.266</td>\n",
       "      <td>0.391</td>\n",
       "      <td>0.229</td>\n",
       "      <td>0.294</td>\n",
       "      <td>0.270</td>\n",
       "      <td>nan</td>\n",
       "      <td>nan</td>\n",
       "    </tr>\n",
       "    <tr>\n",
       "      <th>7</th>\n",
       "      <td>SAHOL.IS</td>\n",
       "      <td>SABANCI HOLDING</td>\n",
       "      <td>Turkey</td>\n",
       "      <td>15962974</td>\n",
       "      <td>9.670</td>\n",
       "      <td>TRY</td>\n",
       "      <td>Financial Services</td>\n",
       "      <td>Banks—Regional</td>\n",
       "      <td>0.241</td>\n",
       "      <td>0.486</td>\n",
       "      <td>...</td>\n",
       "      <td>0.792</td>\n",
       "      <td>0.475</td>\n",
       "      <td>5.811</td>\n",
       "      <td>0.940</td>\n",
       "      <td>1.385</td>\n",
       "      <td>0.856</td>\n",
       "      <td>1.161</td>\n",
       "      <td>1.074</td>\n",
       "      <td>0.036</td>\n",
       "      <td>3.030</td>\n",
       "    </tr>\n",
       "    <tr>\n",
       "      <th>8</th>\n",
       "      <td>VAKBN.IS</td>\n",
       "      <td>VAKIFLAR BANKASI</td>\n",
       "      <td>Turkey</td>\n",
       "      <td>37962129</td>\n",
       "      <td>3.440</td>\n",
       "      <td>TRY</td>\n",
       "      <td>Financial Services</td>\n",
       "      <td>Banks—Regional</td>\n",
       "      <td>0.275</td>\n",
       "      <td>0.340</td>\n",
       "      <td>...</td>\n",
       "      <td>0.963</td>\n",
       "      <td>0.281</td>\n",
       "      <td>9.873</td>\n",
       "      <td>1.006</td>\n",
       "      <td>0.581</td>\n",
       "      <td>0.384</td>\n",
       "      <td>0.411</td>\n",
       "      <td>0.416</td>\n",
       "      <td>nan</td>\n",
       "      <td>nan</td>\n",
       "    </tr>\n",
       "    <tr>\n",
       "      <th>9</th>\n",
       "      <td>HALKB.IS</td>\n",
       "      <td>T. HALK BANKASI</td>\n",
       "      <td>Turkey</td>\n",
       "      <td>42513503</td>\n",
       "      <td>4.670</td>\n",
       "      <td>TRY</td>\n",
       "      <td>Financial Services</td>\n",
       "      <td>Banks—Regional</td>\n",
       "      <td>0.132</td>\n",
       "      <td>0.125</td>\n",
       "      <td>...</td>\n",
       "      <td>1.140</td>\n",
       "      <td>0.274</td>\n",
       "      <td>8.886</td>\n",
       "      <td>0.877</td>\n",
       "      <td>0.723</td>\n",
       "      <td>0.478</td>\n",
       "      <td>0.550</td>\n",
       "      <td>0.547</td>\n",
       "      <td>nan</td>\n",
       "      <td>nan</td>\n",
       "    </tr>\n",
       "    <tr>\n",
       "      <th>11</th>\n",
       "      <td>TSKB.IS</td>\n",
       "      <td>T.S.K.B.</td>\n",
       "      <td>Turkey</td>\n",
       "      <td>54790443</td>\n",
       "      <td>1.250</td>\n",
       "      <td>TRY</td>\n",
       "      <td>Financial Services</td>\n",
       "      <td>Banks—Regional</td>\n",
       "      <td>0.562</td>\n",
       "      <td>0.679</td>\n",
       "      <td>...</td>\n",
       "      <td>2.760</td>\n",
       "      <td>0.576</td>\n",
       "      <td>35.141</td>\n",
       "      <td>0.861</td>\n",
       "      <td>0.324</td>\n",
       "      <td>0.121</td>\n",
       "      <td>0.153</td>\n",
       "      <td>0.157</td>\n",
       "      <td>0.027</td>\n",
       "      <td>nan</td>\n",
       "    </tr>\n",
       "    <tr>\n",
       "      <th>12</th>\n",
       "      <td>ALBRK.IS</td>\n",
       "      <td>ALBARAKA TURK</td>\n",
       "      <td>Turkey</td>\n",
       "      <td>11662026</td>\n",
       "      <td>1.520</td>\n",
       "      <td>TRY</td>\n",
       "      <td>Financial Services</td>\n",
       "      <td>Banks—Regional</td>\n",
       "      <td>0.201</td>\n",
       "      <td>0.244</td>\n",
       "      <td>...</td>\n",
       "      <td>1.118</td>\n",
       "      <td>0.488</td>\n",
       "      <td>-0.004</td>\n",
       "      <td>1.047</td>\n",
       "      <td>0.319</td>\n",
       "      <td>0.167</td>\n",
       "      <td>0.175</td>\n",
       "      <td>0.188</td>\n",
       "      <td>nan</td>\n",
       "      <td>nan</td>\n",
       "    </tr>\n",
       "    <tr>\n",
       "      <th>13</th>\n",
       "      <td>SKBNK.IS</td>\n",
       "      <td>SEKERBANK</td>\n",
       "      <td>Turkey</td>\n",
       "      <td>37425039</td>\n",
       "      <td>1.010</td>\n",
       "      <td>TRY</td>\n",
       "      <td>Financial Services</td>\n",
       "      <td>Banks—Regional</td>\n",
       "      <td>0.106</td>\n",
       "      <td>0.102</td>\n",
       "      <td>...</td>\n",
       "      <td>1.192</td>\n",
       "      <td>0.686</td>\n",
       "      <td>0.989</td>\n",
       "      <td>1.109</td>\n",
       "      <td>0.206</td>\n",
       "      <td>0.117</td>\n",
       "      <td>0.121</td>\n",
       "      <td>0.130</td>\n",
       "      <td>nan</td>\n",
       "      <td>nan</td>\n",
       "    </tr>\n",
       "  </tbody>\n",
       "</table>\n",
       "<p>10 rows × 39 columns</p>\n",
       "</div>"
      ],
      "text/plain": [
       "      symbol            shortName country  averageVolume  currentPrice  \\\n",
       "2   GARAN.IS      GARANTI BANKASI  Turkey      147291122         9.390   \n",
       "4   AKBNK.IS               AKBANK  Turkey       65229093         5.550   \n",
       "5   ISCTR.IS       IS BANKASI (C)  Turkey       40740588         5.270   \n",
       "6   YKBNK.IS  YAPI VE KREDI BANK.  Turkey      193645340         2.450   \n",
       "7   SAHOL.IS      SABANCI HOLDING  Turkey       15962974         9.670   \n",
       "8   VAKBN.IS     VAKIFLAR BANKASI  Turkey       37962129         3.440   \n",
       "9   HALKB.IS      T. HALK BANKASI  Turkey       42513503         4.670   \n",
       "11   TSKB.IS             T.S.K.B.  Turkey       54790443         1.250   \n",
       "12  ALBRK.IS        ALBARAKA TURK  Turkey       11662026         1.520   \n",
       "13  SKBNK.IS            SEKERBANK  Turkey       37425039         1.010   \n",
       "\n",
       "   currency              sector        industry  profitMargins  \\\n",
       "2       TRY  Financial Services  Banks—Regional          0.308   \n",
       "4       TRY  Financial Services  Banks—Regional          0.353   \n",
       "5       TRY  Financial Services  Banks—Regional          0.221   \n",
       "6       TRY  Financial Services  Banks—Regional          0.351   \n",
       "7       TRY  Financial Services  Banks—Regional          0.241   \n",
       "8       TRY  Financial Services  Banks—Regional          0.275   \n",
       "9       TRY  Financial Services  Banks—Regional          0.132   \n",
       "11      TRY  Financial Services  Banks—Regional          0.562   \n",
       "12      TRY  Financial Services  Banks—Regional          0.201   \n",
       "13      TRY  Financial Services  Banks—Regional          0.106   \n",
       "\n",
       "    operatingMargins  ...  priceToSalesTrailing12Months  priceToBook  \\\n",
       "2              0.370  ...                         1.447        0.586   \n",
       "4              0.473  ...                         1.358        0.429   \n",
       "5              0.245  ...                         0.688        0.337   \n",
       "6              0.457  ...                         1.151        0.395   \n",
       "7              0.486  ...                         0.792        0.475   \n",
       "8              0.340  ...                         0.963        0.281   \n",
       "9              0.125  ...                         1.140        0.274   \n",
       "11             0.679  ...                         2.760        0.576   \n",
       "12             0.244  ...                         1.118        0.488   \n",
       "13             0.102  ...                         1.192        0.686   \n",
       "\n",
       "    enterpriseToRevenue  beta  fiftyTwoWeekHigh  fiftyTwoWeekLow  \\\n",
       "2                 1.050 1.201             1.257            0.749   \n",
       "4                 2.918 1.044             0.887            0.541   \n",
       "5                 3.221 1.167             0.857            0.542   \n",
       "6                 5.266 1.266             0.391            0.229   \n",
       "7                 5.811 0.940             1.385            0.856   \n",
       "8                 9.873 1.006             0.581            0.384   \n",
       "9                 8.886 0.877             0.723            0.478   \n",
       "11               35.141 0.861             0.324            0.121   \n",
       "12               -0.004 1.047             0.319            0.167   \n",
       "13                0.989 1.109             0.206            0.117   \n",
       "\n",
       "    fiftyDayAverage  twoHundredDayAverage  trailingAnnualDividendYield  \\\n",
       "2             1.095                 0.966                        0.016   \n",
       "4             0.654                 0.621                        0.022   \n",
       "5             0.642                 0.611                          nan   \n",
       "6             0.294                 0.270                          nan   \n",
       "7             1.161                 1.074                        0.036   \n",
       "8             0.411                 0.416                          nan   \n",
       "9             0.550                 0.547                          nan   \n",
       "11            0.153                 0.157                        0.027   \n",
       "12            0.175                 0.188                          nan   \n",
       "13            0.121                 0.130                          nan   \n",
       "\n",
       "    fiveYearAvgDividendYield  \n",
       "2                        nan  \n",
       "4                        nan  \n",
       "5                        nan  \n",
       "6                        nan  \n",
       "7                      3.030  \n",
       "8                        nan  \n",
       "9                        nan  \n",
       "11                       nan  \n",
       "12                       nan  \n",
       "13                       nan  \n",
       "\n",
       "[10 rows x 39 columns]"
      ]
     },
     "execution_count": 126,
     "metadata": {},
     "output_type": "execute_result"
    }
   ],
   "source": [
    "turkey_companies_df"
   ]
  },
  {
   "cell_type": "code",
   "execution_count": 127,
   "metadata": {},
   "outputs": [],
   "source": [
    "save_to_csv(turkey_companies_df, 'turkey.csv')"
   ]
  },
  {
   "cell_type": "markdown",
   "metadata": {},
   "source": [
    "## India"
   ]
  },
  {
   "cell_type": "code",
   "execution_count": 60,
   "metadata": {},
   "outputs": [],
   "source": [
    "india_url = 'https://finance.yahoo.com/screener/unsaved/77c80c39-502d-45dc-a03e-fdf15158467d?dependentField=sector&dependentValues=Financial%20Services&offset=0&count=100'\n",
    "india_results = get_companies(india_url)"
   ]
  },
  {
   "cell_type": "code",
   "execution_count": 168,
   "metadata": {},
   "outputs": [],
   "source": [
    "india_results = ['HDFCBANK.NS',\n",
    " 'HDFCBANK.BO',\n",
    " 'ICICIBANK.NS',\n",
    " 'SBIN.NS',\n",
    " 'KOTAKBANK.NS',\n",
    " 'ICICIBANK.BO',\n",
    " 'KOTAKBANK.BO',\n",
    " 'AXISBANK.NS',\n",
    " 'SBIN.BO',\n",
    " 'AXISBANK.BO',\n",
    " 'INDUSINDBK.NS',\n",
    " 'BANDHANBNK.NS',\n",
    " 'INDUSINDBK.BO',\n",
    " 'PNB.NS',\n",
    " 'IDBI.NS',\n",
    " 'IOB.NS',\n",
    " 'IDBI.BO',\n",
    " 'AUBANK.NS',\n",
    " 'YESBANK.NS',\n",
    " 'YESBANK.BO',\n",
    " 'IDFCFIRSTB.NS',\n",
    " 'CANBK.NS',\n",
    " 'PNB.BO',\n",
    " 'UNIONBANK.NS',\n",
    " 'AUBANK.BO',\n",
    " 'BANKINDIA.NS',\n",
    " 'BANKBARODA.NS',\n",
    " 'CENTRALBK.NS',\n",
    " 'FEDERALBNK.NS',\n",
    " 'INDIANB.NS',\n",
    " 'UCOBANK.NS',\n",
    " 'UNIONBANK.BO',\n",
    " 'IOB.BO',\n",
    " 'BANKINDIA.BO',\n",
    " 'CANBK.BO',\n",
    " 'MAHABANK.NS',\n",
    " 'UCOBANK.BO',\n",
    " 'BANKBARODA.BO',\n",
    " 'CUB.NS',\n",
    " 'FEDERALBNK.BO',\n",
    " 'CUB.BO',\n",
    " 'RBLBANK.NS',\n",
    " 'MAHABANK.BO',\n",
    " 'RBLBANK.BO',\n",
    " 'PSB.NS',\n",
    " 'INDIANB.BO',\n",
    " 'EQUITASBNK.NS',\n",
    " 'CENTRALBK.BO',\n",
    " 'CSBBANK.NS',\n",
    " 'KARURVYSYA.NS',\n",
    " 'UJJIVANSFB.NS',\n",
    " 'DCBBANK.NS',\n",
    " 'J&KBANK.NS',\n",
    " 'KARURVYSYA.BO',\n",
    " 'DCBBANK.BO',\n",
    " 'KTKBANK.NS',\n",
    " 'SOUTHBANK.NS',\n",
    " 'SURYODAY.NS',\n",
    " 'KTKBANK.BO',\n",
    " 'SOUTHBANK.BO',\n",
    " 'J&KBANK.BO',\n",
    " 'PSB.BO',\n",
    " 'DHANBANK.NS',\n",
    " 'DHANBANK.BO']"
   ]
  },
  {
   "cell_type": "code",
   "execution_count": 169,
   "metadata": {},
   "outputs": [],
   "source": [
    "c = CurrencyRates()\n",
    "india_rate = c.get_rate('INR', 'USD')"
   ]
  },
  {
   "cell_type": "code",
   "execution_count": 170,
   "metadata": {},
   "outputs": [
    {
     "name": "stdout",
     "output_type": "stream",
     "text": [
      "HDFCBANK.NS HDFCBANK.BO ICICIBANK.NS SBIN.NS KOTAKBANK.NS ICICIBANK.BO KOTAKBANK.BO AXISBANK.NS SBIN.BO AXISBANK.BO INDUSINDBK.NS BANDHANBNK.NS INDUSINDBK.BO PNB.NS IDBI.NS IOB.NS IDBI.BO AUBANK.NS YESBANK.NS YESBANK.BO IDFCFIRSTB.NS CANBK.NS PNB.BO UNIONBANK.NS AUBANK.BO BANKINDIA.NS BANKBARODA.NS CENTRALBK.NS FEDERALBNK.NS INDIANB.NS UCOBANK.NS UNIONBANK.BO IOB.BO BANKINDIA.BO CANBK.BO MAHABANK.NS UCOBANK.BO BANKBARODA.BO CUB.NS FEDERALBNK.BO CUB.BO RBLBANK.NS MAHABANK.BO RBLBANK.BO PSB.NS INDIANB.BO EQUITASBNK.NS CENTRALBK.BO CSBBANK.NS KARURVYSYA.NS UJJIVANSFB.NS DCBBANK.NS J&KBANK.NS KARURVYSYA.BO DCBBANK.BO KTKBANK.NS SOUTHBANK.NS SURYODAY.NS KTKBANK.BO SOUTHBANK.BO J&KBANK.BO PSB.BO DHANBANK.NS DHANBANK.BO "
     ]
    }
   ],
   "source": [
    "india_companies_info = get_companies_info(india_results, 'INR', india_rate, 'India')"
   ]
  },
  {
   "cell_type": "code",
   "execution_count": 171,
   "metadata": {
    "scrolled": true
   },
   "outputs": [
    {
     "data": {
      "text/plain": [
       "(64, 64)"
      ]
     },
     "execution_count": 171,
     "metadata": {},
     "output_type": "execute_result"
    }
   ],
   "source": [
    "india_companies_info2 = filter_info('INR', 'India', india_companies_info.values())\n",
    "len(india_companies_info), len(india_companies_info2)"
   ]
  },
  {
   "cell_type": "code",
   "execution_count": 71,
   "metadata": {},
   "outputs": [
    {
     "data": {
      "text/plain": [
       "36"
      ]
     },
     "execution_count": 71,
     "metadata": {},
     "output_type": "execute_result"
    }
   ],
   "source": [
    "india_companies_df = set_dataframe(india_companies_info2)\n",
    "\n",
    "# filter too many empty valued rows\n",
    "india_companies_df = india_companies_df[india_companies_df.isnull().sum(axis=1) < 16]\n",
    "len(india_companies_df)"
   ]
  },
  {
   "cell_type": "code",
   "execution_count": 72,
   "metadata": {},
   "outputs": [],
   "source": [
    "save_to_csv(india_companies_df, 'india.csv')"
   ]
  },
  {
   "cell_type": "markdown",
   "metadata": {},
   "source": [
    "## Brazil"
   ]
  },
  {
   "cell_type": "code",
   "execution_count": 7,
   "metadata": {},
   "outputs": [],
   "source": [
    "brazil_url = 'https://finance.yahoo.com/screener/unsaved/4b52d171-1f9b-42e3-b227-7adbd5dcb46d?dependentField=sector&dependentValues=Financial%20Services&offset=0&count=100'\n",
    "brazil_results = get_companies(brazil_url)"
   ]
  },
  {
   "cell_type": "code",
   "execution_count": 9,
   "metadata": {},
   "outputs": [],
   "source": [
    "brazil_results = ['H1SB34.SA',\n",
    " 'WFCO34.SA',\n",
    " 'JPMC34.SA',\n",
    " 'BOAC34.SA',\n",
    " 'USBC34.SA',\n",
    " 'PNCS34.SA',\n",
    " 'UBSG34.SA',\n",
    " 'ITUB4.SA',\n",
    " 'ITUB3.SA',\n",
    " 'INGG34.SA',\n",
    " 'B1CS34.SA',\n",
    " 'S1IV34.SA',\n",
    " 'BBDC4.SA',\n",
    " 'BBDC3.SA',\n",
    " 'CTGP34.SA',\n",
    " 'FFTD34.SA',\n",
    " 'SANB11.SA',\n",
    " 'SANB4.SA',\n",
    " 'SANB3.SA',\n",
    " 'K1EY34.SA',\n",
    " 'R1FC34.SA',\n",
    " 'C1FG34.SA',\n",
    " 'M1TB34.SA',\n",
    " 'ITSA4.SA',\n",
    " 'ITSA3.SA',\n",
    " 'SBNY34.SA',\n",
    " 'BBAS3.SA',\n",
    " 'C1MA34.SA',\n",
    " 'B1SA34.SA',\n",
    " 'BIDI3.SA',\n",
    " 'BIDI4.SA',\n",
    " 'VLYB34.SA',\n",
    " 'BPAN4.SA',\n",
    " 'BSLI4.SA',\n",
    " 'BSLI3.SA',\n",
    " 'BRSR3.SA',\n",
    " 'BRSR6.SA',\n",
    " 'BRSR5.SA',\n",
    " 'ABCB4.SA',\n",
    " 'BMGB4.SA',\n",
    " 'BEES3.SA',\n",
    " 'BEES4.SA',\n",
    " 'BAZA3.SA',\n",
    " 'BMEB3.SA',\n",
    " 'BMEB4.SA',\n",
    " 'BRIV4.SA',\n",
    " 'BRIV3.SA',\n",
    " 'BGIP3.SA',\n",
    " 'BGIP4.SA',\n",
    " 'MERC3.SA',\n",
    " 'PINE4.SA',\n",
    " 'BMIN4.SA',\n",
    " 'HGFF11.SA',\n",
    " 'DBAG34.SA',\n",
    " 'HGPO11.SA',\n",
    " 'H1DB34.SA',\n",
    " 'HGRU11.SA',\n",
    " 'MODL11.SA',\n",
    " 'BIDI11.SA',\n",
    " 'BCSA34.SA',\n",
    " 'S1MF34.SA',\n",
    " 'BILB34.SA',\n",
    " 'I1BN34.SA',\n",
    " 'K1BF34.SA',\n",
    " 'C1SU34.SA',\n",
    " 'M1UF34.SA',\n",
    " 'CRFF11.SA']"
   ]
  },
  {
   "cell_type": "code",
   "execution_count": 10,
   "metadata": {},
   "outputs": [],
   "source": [
    "c = CurrencyRates()\n",
    "brazil_rate = c.get_rate('BRL', 'USD')"
   ]
  },
  {
   "cell_type": "code",
   "execution_count": 11,
   "metadata": {},
   "outputs": [
    {
     "name": "stdout",
     "output_type": "stream",
     "text": [
      "H1SB34.SA WFCO34.SA JPMC34.SA BOAC34.SA USBC34.SA PNCS34.SA UBSG34.SA ITUB4.SA ITUB3.SA INGG34.SA B1CS34.SA S1IV34.SA BBDC4.SA BBDC3.SA CTGP34.SA FFTD34.SA SANB11.SA SANB4.SA SANB3.SA K1EY34.SA R1FC34.SA C1FG34.SA M1TB34.SA ITSA4.SA ITSA3.SA SBNY34.SA BBAS3.SA C1MA34.SA B1SA34.SA BIDI3.SA BIDI4.SA VLYB34.SA BPAN4.SA BSLI4.SA BSLI3.SA BRSR3.SA BRSR6.SA BRSR5.SA ABCB4.SA BMGB4.SA BEES3.SA BEES4.SA BAZA3.SA BMEB3.SA BMEB4.SA BRIV4.SA BRIV3.SA BGIP3.SA BGIP4.SA MERC3.SA PINE4.SA BMIN4.SA HGFF11.SA DBAG34.SA HGPO11.SA H1DB34.SA HGRU11.SA MODL11.SA BIDI11.SA BCSA34.SA S1MF34.SA BILB34.SA I1BN34.SA K1BF34.SA C1SU34.SA M1UF34.SA CRFF11.SA "
     ]
    }
   ],
   "source": [
    "brazil_companies_info = get_companies_info(brazil_results, 'BRL', brazil_rate, 'Brazil')"
   ]
  },
  {
   "cell_type": "code",
   "execution_count": 12,
   "metadata": {},
   "outputs": [
    {
     "data": {
      "text/plain": [
       "(67, 48)"
      ]
     },
     "execution_count": 12,
     "metadata": {},
     "output_type": "execute_result"
    }
   ],
   "source": [
    "brazil_companies_info2 = filter_info('BRL', 'Brazil', brazil_companies_info.values())\n",
    "len(brazil_companies_info), len(brazil_companies_info2)"
   ]
  },
  {
   "cell_type": "code",
   "execution_count": 13,
   "metadata": {},
   "outputs": [],
   "source": [
    "brazil_companies_df = set_dataframe(brazil_companies_info2)"
   ]
  },
  {
   "cell_type": "code",
   "execution_count": 135,
   "metadata": {},
   "outputs": [
    {
     "data": {
      "text/plain": [
       "17"
      ]
     },
     "execution_count": 135,
     "metadata": {},
     "output_type": "execute_result"
    }
   ],
   "source": [
    "brazil_companies_df = brazil_companies_df[brazil_companies_df.isnull().sum(axis=1) < 16]\n",
    "brazil_companies_df = brazil_companies_df[brazil_companies_df['averageVolume'] > 50000]\n",
    "brazil_companies_df = brazil_companies_df[brazil_companies_df['country'] != '']\n",
    "len(brazil_companies_df)"
   ]
  },
  {
   "cell_type": "code",
   "execution_count": 136,
   "metadata": {},
   "outputs": [],
   "source": [
    "save_to_csv(brazil_companies_df, 'brazil.csv')"
   ]
  },
  {
   "cell_type": "markdown",
   "metadata": {},
   "source": [
    "## Indonesia"
   ]
  },
  {
   "cell_type": "code",
   "execution_count": 16,
   "metadata": {},
   "outputs": [],
   "source": [
    "indonesia_url = 'https://finance.yahoo.com/screener/unsaved/2e08226c-af25-46f3-a72e-83905c7a467e?dependentField=sector&dependentValues=Financial%20Services&offset=0&count=100'\n",
    "indonesia_results = get_companies(indonesia_url)"
   ]
  },
  {
   "cell_type": "code",
   "execution_count": 20,
   "metadata": {},
   "outputs": [],
   "source": [
    "indonesia_results = ['BBCA.JK',\n",
    " 'BBRI.JK',\n",
    " 'BMRI.JK',\n",
    " 'ARTO.JK',\n",
    " 'BBNI.JK',\n",
    " 'BRIS.JK',\n",
    " 'BNLI.JK',\n",
    " 'MEGA.JK',\n",
    " 'AGRO.JK',\n",
    " 'BANK.JK',\n",
    " 'BBHI.JK',\n",
    " 'BDMN.JK',\n",
    " 'BNII.JK',\n",
    " 'BTPS.JK',\n",
    " 'BINA.JK',\n",
    " 'BNGA.JK',\n",
    " 'BTPN.JK',\n",
    " 'BSIM.JK',\n",
    " 'BBSI.JK',\n",
    " 'PNBN.JK',\n",
    " 'NISP.JK',\n",
    " 'BBTN.JK',\n",
    " 'BBKP.JK',\n",
    " 'BJBR.JK',\n",
    " 'BBYB.JK',\n",
    " 'BJTM.JK',\n",
    " 'MAYA.JK',\n",
    " 'BABP.JK',\n",
    " 'BBMD.JK',\n",
    " 'BMAS.JK',\n",
    " 'MCOR.JK',\n",
    " 'SDRA.JK',\n",
    " 'NOBU.JK',\n",
    " 'BKSW.JK',\n",
    " 'MASB.JK',\n",
    " 'PNBS.JK',\n",
    " 'AGRS.JK',\n",
    " 'DNAR.JK',\n",
    " 'BNBA.JK',\n",
    " 'BACA.JK',\n",
    " 'BGTG.JK',\n",
    " 'INPC.JK',\n",
    " 'AMAR.JK',\n",
    " 'BVIC.JK',\n",
    " 'BCIC.JK',\n",
    " 'BEKS.JK',\n",
    " 'MASB-W.JK',\n",
    " 'BANK-W.JK']"
   ]
  },
  {
   "cell_type": "code",
   "execution_count": 30,
   "metadata": {},
   "outputs": [],
   "source": [
    "c = CurrencyRates()\n",
    "indonesia_rate = c.get_rate('IDR', 'USD')\n",
    "# indonesia_rate = 0.000070"
   ]
  },
  {
   "cell_type": "code",
   "execution_count": 31,
   "metadata": {},
   "outputs": [
    {
     "name": "stdout",
     "output_type": "stream",
     "text": [
      "BBCA.JK BBRI.JK BMRI.JK ARTO.JK BBNI.JK BRIS.JK BNLI.JK MEGA.JK AGRO.JK BANK.JK BBHI.JK BDMN.JK BNII.JK BTPS.JK BINA.JK BNGA.JK BTPN.JK BSIM.JK BBSI.JK PNBN.JK NISP.JK BBTN.JK BBKP.JK BJBR.JK BBYB.JK BJTM.JK MAYA.JK BABP.JK BBMD.JK BMAS.JK MCOR.JK SDRA.JK NOBU.JK BKSW.JK MASB.JK PNBS.JK AGRS.JK DNAR.JK BNBA.JK BACA.JK BGTG.JK INPC.JK AMAR.JK BVIC.JK BCIC.JK BEKS.JK MASB-W.JK BANK-W.JK "
     ]
    }
   ],
   "source": [
    "indonesia_companies_info = get_companies_info(indonesia_results, 'Rp', indonesia_rate, 'Indonesia')"
   ]
  },
  {
   "cell_type": "code",
   "execution_count": 36,
   "metadata": {},
   "outputs": [
    {
     "data": {
      "text/plain": [
       "(48, 48)"
      ]
     },
     "execution_count": 36,
     "metadata": {},
     "output_type": "execute_result"
    }
   ],
   "source": [
    "indonesia_companies_info2 = filter_info('IDR', 'Indonesia', indonesia_companies_info.values())\n",
    "len(indonesia_companies_info), len(indonesia_companies_info2)"
   ]
  },
  {
   "cell_type": "code",
   "execution_count": 37,
   "metadata": {},
   "outputs": [],
   "source": [
    "indonesia_companies_df = set_dataframe(indonesia_companies_info2)"
   ]
  },
  {
   "cell_type": "code",
   "execution_count": 139,
   "metadata": {},
   "outputs": [
    {
     "data": {
      "text/plain": [
       "43"
      ]
     },
     "execution_count": 139,
     "metadata": {},
     "output_type": "execute_result"
    }
   ],
   "source": [
    "indonesia_companies_df = indonesia_companies_df[indonesia_companies_df.isnull().sum(axis=1) < 16]\n",
    "indonesia_companies_df = indonesia_companies_df[indonesia_companies_df['averageVolume'] > 50000]\n",
    "len(indonesia_companies_df)"
   ]
  },
  {
   "cell_type": "code",
   "execution_count": 140,
   "metadata": {},
   "outputs": [],
   "source": [
    "save_to_csv(indonesia_companies_df, 'indonesia.csv')"
   ]
  },
  {
   "cell_type": "markdown",
   "metadata": {},
   "source": [
    "## Thailand"
   ]
  },
  {
   "cell_type": "code",
   "execution_count": 50,
   "metadata": {},
   "outputs": [],
   "source": [
    "thailand_url = 'https://finance.yahoo.com/screener/unsaved/c849b845-243c-485d-9295-05d34ee18eb5?dependentField=sector&dependentValues=Financial%20Services'\n",
    "thailand_results = get_companies(thailand_url)"
   ]
  },
  {
   "cell_type": "code",
   "execution_count": 52,
   "metadata": {},
   "outputs": [],
   "source": [
    "thailand_results = ['SCB-R.BK',\n",
    " 'KBANK-R.BK',\n",
    " 'BAY-R.BK',\n",
    " 'SCB.BK',\n",
    " 'KBANK.BK',\n",
    " 'BAY.BK',\n",
    " 'BBL-R.BK',\n",
    " 'BBL.BK',\n",
    " 'KTB-R.BK',\n",
    " 'KTB.BK',\n",
    " 'KKP-R.BK',\n",
    " 'TTB-R.BK',\n",
    " 'TTB.BK',\n",
    " 'TISCO-R.BK',\n",
    " 'TISCO.BK',\n",
    " 'KKP.BK',\n",
    " 'CIMBT-R.BK',\n",
    " 'CIMBT.BK',\n",
    " 'LHFG-R.BK',\n",
    " 'LHFG.BK']"
   ]
  },
  {
   "cell_type": "code",
   "execution_count": 53,
   "metadata": {},
   "outputs": [],
   "source": [
    "c = CurrencyRates()\n",
    "thailand_rate = c.get_rate('THB', 'USD')\n",
    "# indonesia_rate = 0.0013"
   ]
  },
  {
   "cell_type": "code",
   "execution_count": 54,
   "metadata": {},
   "outputs": [
    {
     "name": "stdout",
     "output_type": "stream",
     "text": [
      "SCB-R.BK KBANK-R.BK BAY-R.BK SCB.BK KBANK.BK BAY.BK BBL-R.BK BBL.BK KTB-R.BK KTB.BK KKP-R.BK TTB-R.BK TTB.BK TISCO-R.BK TISCO.BK KKP.BK CIMBT-R.BK CIMBT.BK LHFG-R.BK LHFG.BK "
     ]
    }
   ],
   "source": [
    "thailand_companies_info = get_companies_info(thailand_results, 'THB', thailand_rate, 'Thailand')"
   ]
  },
  {
   "cell_type": "code",
   "execution_count": 55,
   "metadata": {},
   "outputs": [
    {
     "data": {
      "text/plain": [
       "(20, 20)"
      ]
     },
     "execution_count": 55,
     "metadata": {},
     "output_type": "execute_result"
    }
   ],
   "source": [
    "thailand_companies_info2 = filter_info('THB', 'Thailand', thailand_companies_info.values())\n",
    "len(thailand_companies_info), len(thailand_companies_info2)"
   ]
  },
  {
   "cell_type": "code",
   "execution_count": 145,
   "metadata": {},
   "outputs": [],
   "source": [
    "thailand_companies_df = set_dataframe(thailand_companies_info2)"
   ]
  },
  {
   "cell_type": "code",
   "execution_count": 141,
   "metadata": {},
   "outputs": [
    {
     "data": {
      "text/plain": [
       "13"
      ]
     },
     "execution_count": 141,
     "metadata": {},
     "output_type": "execute_result"
    }
   ],
   "source": [
    "thailand_companies_df = thailand_companies_df[thailand_companies_df.isnull().sum(axis=1) < 16]\n",
    "thailand_companies_df = thailand_companies_df[thailand_companies_df['averageVolume'] > 50000]\n",
    "len(thailand_companies_df)"
   ]
  },
  {
   "cell_type": "code",
   "execution_count": 142,
   "metadata": {},
   "outputs": [],
   "source": [
    "save_to_csv(thailand_companies_df, 'thailand.csv')"
   ]
  },
  {
   "cell_type": "markdown",
   "metadata": {},
   "source": [
    "## Malaysia"
   ]
  },
  {
   "cell_type": "code",
   "execution_count": 18,
   "metadata": {},
   "outputs": [],
   "source": [
    "malaysia_url = 'https://finance.yahoo.com/screener/unsaved/1187ace3-5d9e-43e8-9345-782aea5cd1df?dependentField=sector&dependentValues=Financial%20Services'\n",
    "malaysia_results = get_companies(malaysia_url)"
   ]
  },
  {
   "cell_type": "code",
   "execution_count": 41,
   "metadata": {},
   "outputs": [],
   "source": [
    "malaysia_results = ['5819.KL',\n",
    " '5258.KL',\n",
    " '1066.KL',\n",
    " '1171.KL',\n",
    " '1082.KL',\n",
    " '1015.KL',\n",
    " '1295.KL',\n",
    " '5185.KL',\n",
    " '1155.KL',\n",
    " '1023.KL',\n",
    " '2488.KL']"
   ]
  },
  {
   "cell_type": "code",
   "execution_count": 42,
   "metadata": {},
   "outputs": [],
   "source": [
    "c = CurrencyRates()\n",
    "malaysia_rate = c.get_rate('MYR', 'USD')\n",
    "# indonesia_rate = 0.0013"
   ]
  },
  {
   "cell_type": "code",
   "execution_count": 43,
   "metadata": {},
   "outputs": [
    {
     "name": "stdout",
     "output_type": "stream",
     "text": [
      "5819.KL 5258.KL 1066.KL 1171.KL 1082.KL 1015.KL 1295.KL 5185.KL 1155.KL 1023.KL 2488.KL "
     ]
    }
   ],
   "source": [
    "malaysia_companies_info = get_companies_info(malaysia_results, 'MYR', malaysia_rate, 'Malaysia')"
   ]
  },
  {
   "cell_type": "code",
   "execution_count": 44,
   "metadata": {},
   "outputs": [
    {
     "data": {
      "text/plain": [
       "(11, 11)"
      ]
     },
     "execution_count": 44,
     "metadata": {},
     "output_type": "execute_result"
    }
   ],
   "source": [
    "malaysia_companies_info2 = filter_info('MYR', 'Malaysia', malaysia_companies_info.values())\n",
    "len(malaysia_companies_info), len(malaysia_companies_info2)"
   ]
  },
  {
   "cell_type": "code",
   "execution_count": 148,
   "metadata": {},
   "outputs": [
    {
     "data": {
      "text/plain": [
       "11"
      ]
     },
     "execution_count": 148,
     "metadata": {},
     "output_type": "execute_result"
    }
   ],
   "source": [
    "malaysia_companies_df = set_dataframe(malaysia_companies_info2)\n",
    "len(malaysia_companies_df)"
   ]
  },
  {
   "cell_type": "code",
   "execution_count": 149,
   "metadata": {},
   "outputs": [
    {
     "data": {
      "text/plain": [
       "11"
      ]
     },
     "execution_count": 149,
     "metadata": {},
     "output_type": "execute_result"
    }
   ],
   "source": [
    "malaysia_companies_df = malaysia_companies_df[malaysia_companies_df.isnull().sum(axis=1) < 16]\n",
    "malaysia_companies_df = malaysia_companies_df[malaysia_companies_df['averageVolume'] > 50000]\n",
    "len(malaysia_companies_df)"
   ]
  },
  {
   "cell_type": "code",
   "execution_count": 150,
   "metadata": {},
   "outputs": [],
   "source": [
    "save_to_csv(malaysia_companies_df, 'malaysia.csv')"
   ]
  },
  {
   "cell_type": "markdown",
   "metadata": {},
   "source": [
    "## Argentina"
   ]
  },
  {
   "cell_type": "code",
   "execution_count": 62,
   "metadata": {},
   "outputs": [],
   "source": [
    "argentina_url = 'https://finance.yahoo.com/screener/unsaved/bb435016-a635-4261-af7f-845e34c32b5d?dependentField=sector&dependentValues=Financial%20Services'\n",
    "argentina_results = get_companies(argentina_url)"
   ]
  },
  {
   "cell_type": "code",
   "execution_count": 65,
   "metadata": {},
   "outputs": [],
   "source": [
    "argentina_results = ['C.BA',\n",
    " 'USB.BA',\n",
    " 'JPM.BA',\n",
    " 'BCS.BA',\n",
    " 'HSBC.BA',\n",
    " 'WFC.BA',\n",
    " 'WBK.BA',\n",
    " 'BBV.BA',\n",
    " 'BBD.BA',\n",
    " 'ING.BA',\n",
    " 'CS.BA',\n",
    " 'LYG.BA',\n",
    " 'BSBR.BA',\n",
    " 'GGAL.BA',\n",
    " 'BMA.BA',\n",
    " 'BBAR.BA',\n",
    " 'BRIO.BA',\n",
    " 'BRIO6.BA',\n",
    " 'BPAT.BA',\n",
    " 'SUPV.BA',\n",
    " 'BHIP.BA',\n",
    " 'ITUB.BA']"
   ]
  },
  {
   "cell_type": "code",
   "execution_count": 67,
   "metadata": {},
   "outputs": [],
   "source": [
    "c = CurrencyRates()\n",
    "# argentina_rate = c.get_rate('ARS', 'USD')\n",
    "\n",
    "argentina_rate = 0.010"
   ]
  },
  {
   "cell_type": "code",
   "execution_count": 79,
   "metadata": {},
   "outputs": [
    {
     "name": "stdout",
     "output_type": "stream",
     "text": [
      "C.BA USB.BA JPM.BA BCS.BA HSBC.BA WFC.BA WBK.BA BBV.BA BBD.BA ING.BA CS.BA LYG.BA BSBR.BA GGAL.BA BMA.BA BBAR.BA BRIO.BA BRIO6.BA BPAT.BA SUPV.BA BHIP.BA ITUB.BA "
     ]
    }
   ],
   "source": [
    "argentina_companies_info = get_companies_info(argentina_results, 'ARS', argentina_rate, 'Argentina')"
   ]
  },
  {
   "cell_type": "code",
   "execution_count": 80,
   "metadata": {},
   "outputs": [
    {
     "data": {
      "text/plain": [
       "(22, 8)"
      ]
     },
     "execution_count": 80,
     "metadata": {},
     "output_type": "execute_result"
    }
   ],
   "source": [
    "argentina_companies_info2 = filter_info('ARS', 'Argentina', argentina_companies_info.values())\n",
    "len(argentina_companies_info), len(argentina_companies_info2)"
   ]
  },
  {
   "cell_type": "code",
   "execution_count": 154,
   "metadata": {},
   "outputs": [],
   "source": [
    "argentina_companies_df = set_dataframe(argentina_companies_info2)"
   ]
  },
  {
   "cell_type": "code",
   "execution_count": 155,
   "metadata": {},
   "outputs": [
    {
     "data": {
      "text/plain": [
       "4"
      ]
     },
     "execution_count": 155,
     "metadata": {},
     "output_type": "execute_result"
    }
   ],
   "source": [
    "argentina_companies_df = argentina_companies_df[argentina_companies_df.isnull().sum(axis=1) < 16]\n",
    "argentina_companies_df = argentina_companies_df[argentina_companies_df['averageVolume'] > 50000]\n",
    "len(argentina_companies_df)"
   ]
  },
  {
   "cell_type": "code",
   "execution_count": 156,
   "metadata": {},
   "outputs": [],
   "source": [
    "save_to_csv(argentina_companies_df, 'argentina.csv')"
   ]
  },
  {
   "cell_type": "markdown",
   "metadata": {},
   "source": [
    "## Russia"
   ]
  },
  {
   "cell_type": "code",
   "execution_count": 94,
   "metadata": {},
   "outputs": [],
   "source": [
    "russia_url = 'https://finance.yahoo.com/screener/unsaved/38fbbd9b-954a-428a-8b96-8e2152b10264?dependentField=sector&dependentValues=Financial%20Services'\n",
    "russia_results = get_companies(russia_url)"
   ]
  },
  {
   "cell_type": "code",
   "execution_count": 96,
   "metadata": {},
   "outputs": [],
   "source": [
    "russia_results = ['SBER.ME',\n",
    " 'SBERP.ME',\n",
    " 'TCSG.ME',\n",
    " 'VTBR.ME',\n",
    " 'CBOM.ME',\n",
    " 'ROSB.ME',\n",
    " 'AVAN.ME',\n",
    " 'BSPB.ME',\n",
    " 'USBN.ME',\n",
    " 'PRMB.ME',\n",
    " 'ALBK.ME',\n",
    " 'RDRB.ME',\n",
    " 'KUZB.ME',\n",
    " 'BSPBP.ME']"
   ]
  },
  {
   "cell_type": "code",
   "execution_count": 97,
   "metadata": {},
   "outputs": [],
   "source": [
    "c = CurrencyRates()\n",
    "russia_rate = c.get_rate('RUB', 'USD')"
   ]
  },
  {
   "cell_type": "code",
   "execution_count": 98,
   "metadata": {
    "scrolled": true
   },
   "outputs": [
    {
     "name": "stdout",
     "output_type": "stream",
     "text": [
      "SBER.ME SBERP.ME TCSG.ME VTBR.ME CBOM.ME ROSB.ME AVAN.ME BSPB.ME USBN.ME PRMB.ME ALBK.ME RDRB.ME KUZB.ME BSPBP.ME "
     ]
    }
   ],
   "source": [
    "russia_companies_info = get_companies_info(russia_results, 'RUB', russia_rate, 'Russia')"
   ]
  },
  {
   "cell_type": "code",
   "execution_count": 99,
   "metadata": {},
   "outputs": [
    {
     "data": {
      "text/plain": [
       "(14, 13)"
      ]
     },
     "execution_count": 99,
     "metadata": {},
     "output_type": "execute_result"
    }
   ],
   "source": [
    "russia_companies_info2 = filter_info('RUB', 'Russia', russia_companies_info.values())\n",
    "len(russia_companies_info), len(russia_companies_info2)"
   ]
  },
  {
   "cell_type": "code",
   "execution_count": 164,
   "metadata": {},
   "outputs": [],
   "source": [
    "russia_companies_df = set_dataframe(russia_companies_info2)"
   ]
  },
  {
   "cell_type": "code",
   "execution_count": 165,
   "metadata": {},
   "outputs": [
    {
     "data": {
      "text/plain": [
       "6"
      ]
     },
     "execution_count": 165,
     "metadata": {},
     "output_type": "execute_result"
    }
   ],
   "source": [
    "russia_companies_df = russia_companies_df[russia_companies_df.isnull().sum(axis=1) < 16]\n",
    "russia_companies_df = russia_companies_df[russia_companies_df['averageVolume'] > 50000]\n",
    "russia_companies_df = russia_companies_df[russia_companies_df.symbol != 'SBERP.ME']\n",
    "len(russia_companies_df)"
   ]
  },
  {
   "cell_type": "code",
   "execution_count": 166,
   "metadata": {},
   "outputs": [],
   "source": [
    "save_to_csv(russia_companies_df, 'russia.csv')"
   ]
  },
  {
   "cell_type": "markdown",
   "metadata": {},
   "source": [
    "# Save all dataset to a csv"
   ]
  },
  {
   "cell_type": "code",
   "execution_count": 1,
   "metadata": {},
   "outputs": [
    {
     "ename": "NameError",
     "evalue": "name 'pd' is not defined",
     "output_type": "error",
     "traceback": [
      "\u001b[1;31m---------------------------------------------------------------------------\u001b[0m",
      "\u001b[1;31mNameError\u001b[0m                                 Traceback (most recent call last)",
      "\u001b[1;32m<ipython-input-1-f0940e87184b>\u001b[0m in \u001b[0;36m<module>\u001b[1;34m\u001b[0m\n\u001b[1;32m----> 1\u001b[1;33m \u001b[0mtur\u001b[0m \u001b[1;33m=\u001b[0m \u001b[0mpd\u001b[0m\u001b[1;33m.\u001b[0m\u001b[0mread_csv\u001b[0m\u001b[1;33m(\u001b[0m\u001b[1;34m'turkey.csv'\u001b[0m\u001b[1;33m)\u001b[0m\u001b[1;33m\u001b[0m\u001b[1;33m\u001b[0m\u001b[0m\n\u001b[0m\u001b[0;32m      2\u001b[0m \u001b[0mind\u001b[0m \u001b[1;33m=\u001b[0m \u001b[0mpd\u001b[0m\u001b[1;33m.\u001b[0m\u001b[0mread_csv\u001b[0m\u001b[1;33m(\u001b[0m\u001b[1;34m'india.csv'\u001b[0m\u001b[1;33m)\u001b[0m\u001b[1;33m\u001b[0m\u001b[1;33m\u001b[0m\u001b[0m\n\u001b[0;32m      3\u001b[0m \u001b[0mbrz\u001b[0m \u001b[1;33m=\u001b[0m \u001b[0mpd\u001b[0m\u001b[1;33m.\u001b[0m\u001b[0mread_csv\u001b[0m\u001b[1;33m(\u001b[0m\u001b[1;34m'brazil.csv'\u001b[0m\u001b[1;33m)\u001b[0m\u001b[1;33m\u001b[0m\u001b[1;33m\u001b[0m\u001b[0m\n\u001b[0;32m      4\u001b[0m \u001b[0midr\u001b[0m \u001b[1;33m=\u001b[0m \u001b[0mpd\u001b[0m\u001b[1;33m.\u001b[0m\u001b[0mread_csv\u001b[0m\u001b[1;33m(\u001b[0m\u001b[1;34m'indonesia.csv'\u001b[0m\u001b[1;33m)\u001b[0m\u001b[1;33m\u001b[0m\u001b[1;33m\u001b[0m\u001b[0m\n\u001b[0;32m      5\u001b[0m \u001b[0mthb\u001b[0m \u001b[1;33m=\u001b[0m \u001b[0mpd\u001b[0m\u001b[1;33m.\u001b[0m\u001b[0mread_csv\u001b[0m\u001b[1;33m(\u001b[0m\u001b[1;34m'thailand.csv'\u001b[0m\u001b[1;33m)\u001b[0m\u001b[1;33m\u001b[0m\u001b[1;33m\u001b[0m\u001b[0m\n",
      "\u001b[1;31mNameError\u001b[0m: name 'pd' is not defined"
     ]
    }
   ],
   "source": [
    "tur = pd.read_csv('turkey.csv')\n",
    "ind = pd.read_csv('india.csv')\n",
    "brz = pd.read_csv('brazil.csv')\n",
    "idr = pd.read_csv('indonesia.csv')\n",
    "thb = pd.read_csv('thailand.csv')\n",
    "mry = pd.read_csv('malaysia.csv')\n",
    "ars = pd.read_csv('argentina.csv')\n",
    "rub = pd.read_csv('russia.csv')"
   ]
  },
  {
   "cell_type": "code",
   "execution_count": 179,
   "metadata": {},
   "outputs": [],
   "source": [
    "# banks_tickers = turkey_results+india_results+brazil_results+indonesia_results+thailand_results+malaysia_results+argentina_results+russia_results\n",
    "# banks_info = list(turkey_companies_info)+list(india_companies_info)+list(brazil_companies_info)+list(indonesia_companies_info)+list(thailand_companies_info)+list(malaysia_companies_info)+list(argentina_companies_info)+list(russia_companies_info)\n",
    "# banks_filtered = turkey_companies_info+india_companies_info+brazil_companies_info+indonesia_companies_info+thailand_companies_info+malaysia_companies_info+argentina_companies_info+russia_companies_info\n",
    "\n",
    "\n",
    "all_banks_developing_df = pd.concat([tur,ind,brz,idr,thb,mry,ars,rub], ignore_index=True)\n",
    "all_banks_developing_df.to_csv('all_banks_developing.csv')"
   ]
  },
  {
   "cell_type": "code",
   "execution_count": null,
   "metadata": {},
   "outputs": [],
   "source": []
  },
  {
   "cell_type": "code",
   "execution_count": null,
   "metadata": {},
   "outputs": [],
   "source": []
  }
 ],
 "metadata": {
  "kernelspec": {
   "display_name": "Python 3",
   "language": "python",
   "name": "python3"
  },
  "language_info": {
   "codemirror_mode": {
    "name": "ipython",
    "version": 3
   },
   "file_extension": ".py",
   "mimetype": "text/x-python",
   "name": "python",
   "nbconvert_exporter": "python",
   "pygments_lexer": "ipython3",
   "version": "3.8.5"
  }
 },
 "nbformat": 4,
 "nbformat_minor": 4
}
